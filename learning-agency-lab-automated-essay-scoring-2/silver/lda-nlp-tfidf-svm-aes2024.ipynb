{
 "metadata": {
  "kernelspec": {
   "language": "python",
   "display_name": "Python 3",
   "name": "python3"
  },
  "language_info": {
   "name": "python",
   "version": "3.10.13",
   "mimetype": "text/x-python",
   "codemirror_mode": {
    "name": "ipython",
    "version": 3
   },
   "pygments_lexer": "ipython3",
   "nbconvert_exporter": "python",
   "file_extension": ".py"
  },
  "kaggle": {
   "accelerator": "none",
   "dataSources": [
    {
     "sourceId": 71485,
     "databundleVersionId": 8059942,
     "sourceType": "competition"
    }
   ],
   "isInternetEnabled": false,
   "language": "python",
   "sourceType": "notebook",
   "isGpuEnabled": false
  }
 },
 "nbformat_minor": 4,
 "nbformat": 4,
 "cells": [
  {
   "cell_type": "markdown",
   "source": "## Import Libraries",
   "metadata": {}
  },
  {
   "cell_type": "code",
   "source": "import pandas as pd\nimport numpy as np\nimport os\nimport re\nfrom sklearn.feature_extraction.text import TfidfVectorizer\nfrom sklearn.model_selection import train_test_split\nfrom sklearn.metrics import classification_report\nfrom sklearn.metrics import confusion_matrix\nfrom sklearn.metrics import cohen_kappa_score\nfrom textblob import TextBlob\nimport nltk\nfrom gensim import corpora, models \n# import matplotlib.pyplot as plt\n# import seaborn as sns",
   "metadata": {
    "execution": {
     "iopub.status.busy": "2024-05-26T12:50:43.587777Z",
     "iopub.execute_input": "2024-05-26T12:50:43.588167Z",
     "iopub.status.idle": "2024-05-26T12:50:54.826242Z",
     "shell.execute_reply.started": "2024-05-26T12:50:43.588132Z",
     "shell.execute_reply": "2024-05-26T12:50:54.824879Z"
    },
    "trusted": true
   },
   "execution_count": null,
   "outputs": []
  },
  {
   "cell_type": "code",
   "source": "# os.remove(\"/kaggle/working/submission.csv\")\n# os.remove(\"/kaggle/working/state.db\")",
   "metadata": {
    "execution": {
     "iopub.status.busy": "2024-05-26T14:04:02.716925Z",
     "iopub.execute_input": "2024-05-26T14:04:02.717317Z",
     "iopub.status.idle": "2024-05-26T14:04:02.724054Z",
     "shell.execute_reply.started": "2024-05-26T14:04:02.717288Z",
     "shell.execute_reply": "2024-05-26T14:04:02.722412Z"
    },
    "trusted": true
   },
   "execution_count": null,
   "outputs": []
  },
  {
   "cell_type": "markdown",
   "source": "## Data exploration",
   "metadata": {}
  },
  {
   "cell_type": "code",
   "source": "for dirname, _, filenames in os.walk('/kaggle/input'):\n    for filename in filenames:\n        print(os.path.join(dirname, filename))\n        \n\n# display datasets\n\ntrain_df0 = pd.read_csv('/kaggle/input/learning-agency-lab-automated-essay-scoring-2/train.csv')",
   "metadata": {
    "execution": {
     "iopub.status.busy": "2024-05-26T12:49:56.580605Z",
     "iopub.execute_input": "2024-05-26T12:49:56.581219Z",
     "iopub.status.idle": "2024-05-26T12:49:57.055269Z",
     "shell.execute_reply.started": "2024-05-26T12:49:56.581134Z",
     "shell.execute_reply": "2024-05-26T12:49:57.053881Z"
    },
    "trusted": true
   },
   "execution_count": null,
   "outputs": []
  },
  {
   "cell_type": "code",
   "source": "train_df0['score'].dtypes",
   "metadata": {
    "execution": {
     "iopub.status.busy": "2024-05-26T12:49:57.057058Z",
     "iopub.execute_input": "2024-05-26T12:49:57.05751Z",
     "iopub.status.idle": "2024-05-26T12:49:57.068696Z",
     "shell.execute_reply.started": "2024-05-26T12:49:57.057447Z",
     "shell.execute_reply": "2024-05-26T12:49:57.067199Z"
    },
    "trusted": true
   },
   "execution_count": null,
   "outputs": []
  },
  {
   "cell_type": "code",
   "source": "train_df0.head(10)",
   "metadata": {
    "execution": {
     "iopub.status.busy": "2024-05-26T12:49:57.072949Z",
     "iopub.execute_input": "2024-05-26T12:49:57.073434Z",
     "iopub.status.idle": "2024-05-26T12:49:57.093262Z",
     "shell.execute_reply.started": "2024-05-26T12:49:57.073395Z",
     "shell.execute_reply": "2024-05-26T12:49:57.09184Z"
    },
    "trusted": true
   },
   "execution_count": null,
   "outputs": []
  },
  {
   "cell_type": "code",
   "source": "train_df0['score'].value_counts()",
   "metadata": {
    "execution": {
     "iopub.status.busy": "2024-05-26T12:49:57.094947Z",
     "iopub.execute_input": "2024-05-26T12:49:57.09533Z",
     "iopub.status.idle": "2024-05-26T12:49:57.113623Z",
     "shell.execute_reply.started": "2024-05-26T12:49:57.0953Z",
     "shell.execute_reply": "2024-05-26T12:49:57.112357Z"
    },
    "trusted": true
   },
   "execution_count": null,
   "outputs": []
  },
  {
   "cell_type": "markdown",
   "source": "## Data Cleaning",
   "metadata": {}
  },
  {
   "cell_type": "code",
   "source": "cList = {\n  \"ain't\": \"am not\",\"aren't\": \"are not\",\"can't\": \"cannot\",\"can't've\": \"cannot have\",\"'cause\": \"because\",  \"could've\": \"could have\",\"couldn't\": \"could not\",\"couldn't've\": \"could not have\",\"didn't\": \"did not\",\"doesn't\": \"does not\",\"don't\": \"do not\",\"hadn't\": \"had not\",\"hadn't've\": \"had not have\",\"hasn't\": \"has not\",\n  \"haven't\": \"have not\",\"he'd\": \"he would\",\"he'd've\": \"he would have\",\"he'll\": \"he will\",\"he'll've\": \"he will have\",\"he's\": \"he is\",\n  \"how'd\": \"how did\",\"how'd'y\": \"how do you\",\"how'll\": \"how will\",\"how's\": \"how is\",\"I'd\": \"I would\",\"I'd've\": \"I would have\",\"I'll\": \"I will\",\"I'll've\": \"I will have\",\"I'm\": \"I am\",\"I've\": \"I have\",\n  \"isn't\": \"is not\",\"it'd\": \"it had\",\"it'd've\": \"it would have\",\"it'll\": \"it will\", \"it'll've\": \"it will have\",\"it's\": \"it is\",\"let's\": \"let us\",\"ma'am\": \"madam\",\"mayn't\": \"may not\",\n  \"might've\": \"might have\",\"mightn't\": \"might not\",\"mightn't've\": \"might not have\",\"must've\": \"must have\",\"mustn't\": \"must not\",\"mustn't've\": \"must not have\",\"needn't\": \"need not\",\"needn't've\": \"need not have\",\"o'clock\": \"of the clock\",\"oughtn't\": \"ought not\",\"oughtn't've\": \"ought not have\",\"shan't\": \"shall not\",\"sha'n't\": \"shall not\",\n  \"shan't've\": \"shall not have\",\"she'd\": \"she would\",\"she'd've\": \"she would have\",\"she'll\": \"she will\",\"she'll've\": \"she will have\",\"she's\": \"she is\",\n  \"should've\": \"should have\",\"shouldn't\": \"should not\",\"shouldn't've\": \"should not have\",\"so've\": \"so have\",\"so's\": \"so is\",\"that'd\": \"that would\",\"that'd've\": \"that would have\",\"that's\": \"that is\",\"there'd\": \"there had\",\"there'd've\": \"there would have\",\"there's\": \"there is\",\"they'd\": \"they would\",\"they'd've\": \"they would have\",\"they'll\": \"they will\",\"they'll've\": \"they will have\",\"they're\": \"they are\",\"they've\": \"they have\",\"to've\": \"to have\",\"wasn't\": \"was not\",\"we'd\": \"we had\",\n  \"we'd've\": \"we would have\",\"we'll\": \"we will\",\"we'll've\": \"we will have\",\"we're\": \"we are\",\"we've\": \"we have\",\n  \"weren't\": \"were not\",\"what'll\": \"what will\",\"what'll've\": \"what will have\",\n  \"what're\": \"what are\",\"what's\": \"what is\",\"what've\": \"what have\",\"when's\": \"when is\",\"when've\": \"when have\",\n  \"where'd\": \"where did\",\"where's\": \"where is\",\"where've\": \"where have\",\"who'll\": \"who will\",\"who'll've\": \"who will have\",\"who's\": \"who is\",\"who've\": \"who have\",\"why's\": \"why is\",\n  \"why've\": \"why have\",\"will've\": \"will have\",\"won't\": \"will not\",\"won't've\": \"will not have\",\"would've\": \"would have\",\"wouldn't\": \"would not\",\n  \"wouldn't've\": \"would not have\",\"y'all\": \"you all\",\"y'alls\": \"you alls\",\"y'all'd\": \"you all would\",\n  \"y'all'd've\": \"you all would have\",\"y'all're\": \"you all are\",\"y'all've\": \"you all have\",\"you'd\": \"you had\",\"you'd've\": \"you would have\",\"you'll\": \"you you will\",\"you'll've\": \"you you will have\",\"you're\": \"you are\",  \"you've\": \"you have\"\n   }",
   "metadata": {
    "execution": {
     "iopub.status.busy": "2024-05-26T12:49:57.115617Z",
     "iopub.execute_input": "2024-05-26T12:49:57.11596Z",
     "iopub.status.idle": "2024-05-26T12:49:57.132469Z",
     "shell.execute_reply.started": "2024-05-26T12:49:57.115924Z",
     "shell.execute_reply": "2024-05-26T12:49:57.131098Z"
    },
    "trusted": true
   },
   "execution_count": null,
   "outputs": []
  },
  {
   "cell_type": "code",
   "source": "c_re = re.compile('(%s)' % '|'.join(cList.keys()))",
   "metadata": {
    "execution": {
     "iopub.status.busy": "2024-05-26T12:49:57.134023Z",
     "iopub.execute_input": "2024-05-26T12:49:57.134505Z",
     "iopub.status.idle": "2024-05-26T12:49:57.152484Z",
     "shell.execute_reply.started": "2024-05-26T12:49:57.134458Z",
     "shell.execute_reply": "2024-05-26T12:49:57.151069Z"
    },
    "trusted": true
   },
   "execution_count": null,
   "outputs": []
  },
  {
   "cell_type": "code",
   "source": "def expandContractions(text, c_re=c_re):\n    def replace(match):\n        return cList[match.group(0)]\n    return c_re.sub(replace, text)",
   "metadata": {
    "execution": {
     "iopub.status.busy": "2024-05-26T12:49:57.153998Z",
     "iopub.execute_input": "2024-05-26T12:49:57.154348Z",
     "iopub.status.idle": "2024-05-26T12:49:57.162686Z",
     "shell.execute_reply.started": "2024-05-26T12:49:57.154318Z",
     "shell.execute_reply": "2024-05-26T12:49:57.161743Z"
    },
    "trusted": true
   },
   "execution_count": null,
   "outputs": []
  },
  {
   "cell_type": "code",
   "source": "def removeHTML(x):\n    html=re.compile(r'<.*?>')\n    return html.sub(r'',x)",
   "metadata": {
    "execution": {
     "iopub.status.busy": "2024-05-26T12:49:57.163999Z",
     "iopub.execute_input": "2024-05-26T12:49:57.164347Z",
     "iopub.status.idle": "2024-05-26T12:49:57.173908Z",
     "shell.execute_reply.started": "2024-05-26T12:49:57.164319Z",
     "shell.execute_reply": "2024-05-26T12:49:57.172689Z"
    },
    "trusted": true
   },
   "execution_count": null,
   "outputs": []
  },
  {
   "cell_type": "code",
   "source": "def dataPreprocessing(x):\n    x = x.apply(lambda s: s.lower()) \n    x = x.apply(removeHTML)\n    x = x.apply(lambda s: re.sub(\"@\\w+\", '', s))  \n    x = x.apply(lambda s: re.sub(\"'\\d+\", '', s))\n    x = x.apply(lambda s: re.sub(\"\\d+\", '',s))\n    x = x.apply(lambda s: re.sub(\"http\\w+\", '',s))\n    x = x.apply(lambda s: re.sub(r\"\\s+\", \" \", s))\n    x = x.apply(expandContractions)\n    x = x.apply(lambda s: re.sub(r\"\\.+\", \".\", s))\n    x = x.apply(lambda s: re.sub(r\"\\,+\", \",\", s))\n    x = x.apply(lambda s: re.sub('\\n', '',s))\n    x = x.apply(lambda s: re.sub('[^\\w\\s]', '',s))\n    x = x.apply(lambda s: s.strip()) \n    return x",
   "metadata": {
    "execution": {
     "iopub.status.busy": "2024-05-26T12:49:57.174898Z",
     "iopub.execute_input": "2024-05-26T12:49:57.175206Z",
     "iopub.status.idle": "2024-05-26T12:49:57.187595Z",
     "shell.execute_reply.started": "2024-05-26T12:49:57.17518Z",
     "shell.execute_reply": "2024-05-26T12:49:57.186035Z"
    },
    "trusted": true
   },
   "execution_count": null,
   "outputs": []
  },
  {
   "cell_type": "code",
   "source": "x = dataPreprocessing(train_df0['full_text'])  ",
   "metadata": {
    "execution": {
     "iopub.status.busy": "2024-05-26T12:49:57.188711Z",
     "iopub.execute_input": "2024-05-26T12:49:57.189067Z",
     "iopub.status.idle": "2024-05-26T12:50:15.007534Z",
     "shell.execute_reply.started": "2024-05-26T12:49:57.189036Z",
     "shell.execute_reply": "2024-05-26T12:50:15.006048Z"
    },
    "trusted": true
   },
   "execution_count": null,
   "outputs": []
  },
  {
   "cell_type": "code",
   "source": "x",
   "metadata": {
    "execution": {
     "iopub.status.busy": "2024-05-26T12:50:15.009991Z",
     "iopub.execute_input": "2024-05-26T12:50:15.010356Z",
     "iopub.status.idle": "2024-05-26T12:50:15.023258Z",
     "shell.execute_reply.started": "2024-05-26T12:50:15.010317Z",
     "shell.execute_reply": "2024-05-26T12:50:15.021927Z"
    },
    "trusted": true
   },
   "execution_count": null,
   "outputs": []
  },
  {
   "cell_type": "code",
   "source": "train_df0['full_text'] = x",
   "metadata": {
    "execution": {
     "iopub.status.busy": "2024-05-26T12:50:15.029856Z",
     "iopub.execute_input": "2024-05-26T12:50:15.030317Z",
     "iopub.status.idle": "2024-05-26T12:50:15.039536Z",
     "shell.execute_reply.started": "2024-05-26T12:50:15.030282Z",
     "shell.execute_reply": "2024-05-26T12:50:15.038424Z"
    },
    "trusted": true
   },
   "execution_count": null,
   "outputs": []
  },
  {
   "cell_type": "code",
   "source": "test_df0 = pd.read_csv('/kaggle/input/learning-agency-lab-automated-essay-scoring-2/test.csv')",
   "metadata": {
    "execution": {
     "iopub.status.busy": "2024-05-26T12:50:15.041126Z",
     "iopub.execute_input": "2024-05-26T12:50:15.042921Z",
     "iopub.status.idle": "2024-05-26T12:50:15.056292Z",
     "shell.execute_reply.started": "2024-05-26T12:50:15.042863Z",
     "shell.execute_reply": "2024-05-26T12:50:15.054642Z"
    },
    "trusted": true
   },
   "execution_count": null,
   "outputs": []
  },
  {
   "cell_type": "code",
   "source": "x0 = dataPreprocessing(test_df0['full_text'])",
   "metadata": {
    "execution": {
     "iopub.status.busy": "2024-05-26T12:50:25.474697Z",
     "iopub.execute_input": "2024-05-26T12:50:25.475165Z",
     "iopub.status.idle": "2024-05-26T12:50:25.488783Z",
     "shell.execute_reply.started": "2024-05-26T12:50:25.47513Z",
     "shell.execute_reply": "2024-05-26T12:50:25.4874Z"
    },
    "trusted": true
   },
   "execution_count": null,
   "outputs": []
  },
  {
   "cell_type": "code",
   "source": "test_df0['full_text'] = x0",
   "metadata": {
    "execution": {
     "iopub.status.busy": "2024-05-26T12:50:27.727569Z",
     "iopub.execute_input": "2024-05-26T12:50:27.728005Z",
     "iopub.status.idle": "2024-05-26T12:50:27.734913Z",
     "shell.execute_reply.started": "2024-05-26T12:50:27.727973Z",
     "shell.execute_reply": "2024-05-26T12:50:27.733381Z"
    },
    "trusted": true
   },
   "execution_count": null,
   "outputs": []
  },
  {
   "cell_type": "markdown",
   "source": "## Topic distribution for each essay (Feature Engineering 1)",
   "metadata": {}
  },
  {
   "cell_type": "code",
   "source": " # assume documents is a list of strings  \ndocuments = train_df0['full_text']  \n  \n# assume essay_ids is a list of IDs corresponding to the essays  \nessay_ids = train_df0['essay_id']\n  \n# preprocess documents\ntexts = [doc.split() for doc in documents]  \n  \n# create a Gensim dictionary from the texts  \ndictionary = corpora.Dictionary(texts)  \n  \n# create a Gensim corpus from the texts  \ncorpus = [dictionary.doc2bow(text) for text in texts]  \n  \n# train the LDA model on the corpus  \nlda = models.LdaModel(corpus, num_topics=10, id2word=dictionary, passes=15, random_state=123, alpha=0.01)  \n  \n# get the topic distribution for each document  \ntopic_dist = [lda.get_document_topics(bow) for bow in corpus]  \n  \n# initialize a dataframe  \ntrain_df1 = pd.DataFrame(columns=['essay_id'] + ['topic{}'.format(i) for i in range(10)])  \n  \nfor i, topics in enumerate(topic_dist):  \n    # topics is a list of (topic_id, topic_probability) pairs  \n    topic_prob = [0]*10  \n    for topic, prob in topics:  \n        topic_prob[topic] = prob  \n  \n    train_df1.loc[i] = [essay_ids[i]] + topic_prob ",
   "metadata": {
    "execution": {
     "iopub.status.busy": "2024-05-26T12:50:59.504614Z",
     "iopub.execute_input": "2024-05-26T12:50:59.505221Z",
     "iopub.status.idle": "2024-05-26T12:57:24.634707Z",
     "shell.execute_reply.started": "2024-05-26T12:50:59.505188Z",
     "shell.execute_reply": "2024-05-26T12:57:24.633511Z"
    },
    "trusted": true
   },
   "execution_count": null,
   "outputs": []
  },
  {
   "cell_type": "code",
   "source": "topic_train = lda.show_topics(num_topics=10, num_words=10, formatted=False)",
   "metadata": {
    "execution": {
     "iopub.status.busy": "2024-05-26T12:57:24.636699Z",
     "iopub.execute_input": "2024-05-26T12:57:24.637052Z",
     "iopub.status.idle": "2024-05-26T12:57:24.653505Z",
     "shell.execute_reply.started": "2024-05-26T12:57:24.637022Z",
     "shell.execute_reply": "2024-05-26T12:57:24.651942Z"
    },
    "trusted": true
   },
   "execution_count": null,
   "outputs": []
  },
  {
   "cell_type": "code",
   "source": "print(topic_train)",
   "metadata": {
    "execution": {
     "iopub.status.busy": "2024-05-26T13:09:02.539733Z",
     "iopub.execute_input": "2024-05-26T13:09:02.540174Z",
     "iopub.status.idle": "2024-05-26T13:09:02.547065Z",
     "shell.execute_reply.started": "2024-05-26T13:09:02.540138Z",
     "shell.execute_reply": "2024-05-26T13:09:02.545423Z"
    },
    "trusted": true
   },
   "execution_count": null,
   "outputs": []
  },
  {
   "cell_type": "code",
   "source": "train_df1.head(10)",
   "metadata": {
    "execution": {
     "iopub.status.busy": "2024-05-26T12:57:24.654753Z",
     "iopub.execute_input": "2024-05-26T12:57:24.655057Z",
     "iopub.status.idle": "2024-05-26T12:57:24.678583Z",
     "shell.execute_reply.started": "2024-05-26T12:57:24.655031Z",
     "shell.execute_reply": "2024-05-26T12:57:24.677668Z"
    },
    "trusted": true
   },
   "execution_count": null,
   "outputs": []
  },
  {
   "cell_type": "code",
   "source": "# assume documents is a list of strings \ndocuments_t = test_df0['full_text']  \n  \n# assume essay_ids is a list of IDs corresponding to the essays  \nessay_ids_t = test_df0['essay_id']\n  \n# preprocess documents\ntexts_t = [doc.split() for doc in documents_t]  \n  \n# create a Gensim dictionary from the texts  \ndictionary_t = corpora.Dictionary(texts_t)  \n  \n# create a Gensim corpus from the texts  \ncorpus_t = [dictionary_t.doc2bow(text) for text in texts_t]  \n  \n# train the LDA model on the corpus  \nlda_t = models.LdaModel(corpus_t, num_topics=10, id2word=dictionary_t, passes=15, random_state=123, alpha=0.01)  \n  \n# get the topic distribution for each document  \ntopic_dist_t = [lda_t.get_document_topics(bow) for bow in corpus_t]  \n  \n# initialize a dataframe  \ntest_df1 = pd.DataFrame(columns=['essay_id'] + ['topic{}'.format(i) for i in range(10)])  \n  \nfor i, topics in enumerate(topic_dist_t):  \n    # topics is a list of (topic_id, topic_probability) pairs  \n    topic_prob = [0]*10  \n    for topic, prob in topics:  \n        topic_prob[topic] = prob  \n  \n    test_df1.loc[i] = [essay_ids_t[i]] + topic_prob ",
   "metadata": {
    "execution": {
     "iopub.status.busy": "2024-05-26T12:57:24.681081Z",
     "iopub.execute_input": "2024-05-26T12:57:24.682153Z",
     "iopub.status.idle": "2024-05-26T12:57:24.830474Z",
     "shell.execute_reply.started": "2024-05-26T12:57:24.682111Z",
     "shell.execute_reply": "2024-05-26T12:57:24.829341Z"
    },
    "trusted": true
   },
   "execution_count": null,
   "outputs": []
  },
  {
   "cell_type": "code",
   "source": "topic_test = lda_t.show_topics(num_topics=10, num_words=10, formatted=False)",
   "metadata": {
    "execution": {
     "iopub.status.busy": "2024-05-26T12:57:24.832169Z",
     "iopub.execute_input": "2024-05-26T12:57:24.832534Z",
     "iopub.status.idle": "2024-05-26T12:57:24.839343Z",
     "shell.execute_reply.started": "2024-05-26T12:57:24.832472Z",
     "shell.execute_reply": "2024-05-26T12:57:24.837713Z"
    },
    "trusted": true
   },
   "execution_count": null,
   "outputs": []
  },
  {
   "cell_type": "code",
   "source": "print(topic_test)",
   "metadata": {
    "execution": {
     "iopub.status.busy": "2024-05-26T13:09:02.549186Z",
     "iopub.execute_input": "2024-05-26T13:09:02.549773Z",
     "iopub.status.idle": "2024-05-26T13:09:02.560216Z",
     "shell.execute_reply.started": "2024-05-26T13:09:02.549723Z",
     "shell.execute_reply": "2024-05-26T13:09:02.558782Z"
    },
    "trusted": true
   },
   "execution_count": null,
   "outputs": []
  },
  {
   "cell_type": "code",
   "source": "test_df1.head(10)",
   "metadata": {
    "execution": {
     "iopub.status.busy": "2024-05-26T12:57:24.841251Z",
     "iopub.execute_input": "2024-05-26T12:57:24.841736Z",
     "iopub.status.idle": "2024-05-26T12:57:24.859553Z",
     "shell.execute_reply.started": "2024-05-26T12:57:24.841704Z",
     "shell.execute_reply": "2024-05-26T12:57:24.85855Z"
    },
    "trusted": true
   },
   "execution_count": null,
   "outputs": []
  },
  {
   "cell_type": "markdown",
   "source": "## Essay Characteristics (Feature Engineering 2)",
   "metadata": {}
  },
  {
   "cell_type": "code",
   "source": "def lexical_diversity(text):  \n    return len(set(text)) / len(text)  \n  \ndef get_metrics(text):  \n    blob = TextBlob(text)  \n      \n    # Number of words  \n    num_words = len(blob.words)  \n      \n    # Lexical diversity  \n    lex_div = lexical_diversity(blob.words)  \n      \n    # Average sentence length  \n    avg_sent_length = sum(len(sentence.words) for sentence in blob.sentences) / len(blob.sentences)  \n      \n    # Number of adjectives and adverbs  \n    tags = blob.tags  \n    num_adj = len([word for word, tag in tags if tag == 'JJ'])  \n    num_adv = len([word for word, tag in tags if tag == 'RB'])  \n    num_noun = len([word for word, tag in tags if tag == 'NN'])  \n      \n    return num_words, lex_div, avg_sent_length, num_adj, num_adv, num_noun",
   "metadata": {
    "execution": {
     "iopub.status.busy": "2024-05-26T12:57:24.861044Z",
     "iopub.execute_input": "2024-05-26T12:57:24.86203Z",
     "iopub.status.idle": "2024-05-26T12:57:24.872669Z",
     "shell.execute_reply.started": "2024-05-26T12:57:24.861986Z",
     "shell.execute_reply": "2024-05-26T12:57:24.871519Z"
    },
    "trusted": true
   },
   "execution_count": null,
   "outputs": []
  },
  {
   "cell_type": "code",
   "source": "# Set 'essay_id' as the index of the DataFrame  \ntrain_df0.set_index('essay_id', inplace=True)  \n  \nfor idx, row in train_df0.iterrows():  \n    num_words, lex_div, avg_sent_length, num_adj, num_adv, num_noun = get_metrics(str(row['full_text']))  \n  \n    train_df0.loc[idx, 'num_words'] = num_words  \n    train_df0.loc[idx, 'lex_div'] = lex_div  \n    train_df0.loc[idx, 'avg_sent_length'] = avg_sent_length  \n    train_df0.loc[idx, 'num_adj'] = num_adj  \n    train_df0.loc[idx, 'num_adv'] = num_adv  \n    train_df0.loc[idx, 'num_noun'] = num_noun ",
   "metadata": {
    "execution": {
     "iopub.status.busy": "2024-05-26T12:57:24.87423Z",
     "iopub.execute_input": "2024-05-26T12:57:24.874672Z",
     "iopub.status.idle": "2024-05-26T13:09:02.140184Z",
     "shell.execute_reply.started": "2024-05-26T12:57:24.874642Z",
     "shell.execute_reply": "2024-05-26T13:09:02.139043Z"
    },
    "trusted": true
   },
   "execution_count": null,
   "outputs": []
  },
  {
   "cell_type": "code",
   "source": "test_df0.set_index('essay_id', inplace=True)  \n  \nfor idx, row in test_df0.iterrows():  \n    num_words, lex_div, avg_sent_length, num_adj, num_adv, num_noun = get_metrics(str(row['full_text']))  \n  \n    test_df0.loc[idx, 'num_words'] = num_words  \n    test_df0.loc[idx, 'lex_div'] = lex_div  \n    test_df0.loc[idx, 'avg_sent_length'] = avg_sent_length  \n    test_df0.loc[idx, 'num_adj'] = num_adj  \n    test_df0.loc[idx, 'num_adv'] = num_adv  \n    test_df0.loc[idx, 'num_noun'] = num_noun ",
   "metadata": {
    "execution": {
     "iopub.status.busy": "2024-05-26T13:09:02.142272Z",
     "iopub.execute_input": "2024-05-26T13:09:02.142752Z",
     "iopub.status.idle": "2024-05-26T13:09:02.291284Z",
     "shell.execute_reply.started": "2024-05-26T13:09:02.142712Z",
     "shell.execute_reply": "2024-05-26T13:09:02.290069Z"
    },
    "trusted": true
   },
   "execution_count": null,
   "outputs": []
  },
  {
   "cell_type": "markdown",
   "source": "## Merge both dfs based on essay ids",
   "metadata": {}
  },
  {
   "cell_type": "code",
   "source": "merged_train_df = pd.merge(train_df0, train_df1, on='essay_id', how='inner')",
   "metadata": {
    "execution": {
     "iopub.status.busy": "2024-05-26T13:09:02.294874Z",
     "iopub.execute_input": "2024-05-26T13:09:02.295214Z",
     "iopub.status.idle": "2024-05-26T13:09:02.316071Z",
     "shell.execute_reply.started": "2024-05-26T13:09:02.295186Z",
     "shell.execute_reply": "2024-05-26T13:09:02.314919Z"
    },
    "trusted": true
   },
   "execution_count": null,
   "outputs": []
  },
  {
   "cell_type": "code",
   "source": "merged_train_df",
   "metadata": {
    "execution": {
     "iopub.status.busy": "2024-05-26T13:09:02.317738Z",
     "iopub.execute_input": "2024-05-26T13:09:02.318119Z",
     "iopub.status.idle": "2024-05-26T13:09:02.362554Z",
     "shell.execute_reply.started": "2024-05-26T13:09:02.318091Z",
     "shell.execute_reply": "2024-05-26T13:09:02.361078Z"
    },
    "trusted": true
   },
   "execution_count": null,
   "outputs": []
  },
  {
   "cell_type": "code",
   "source": "merged_test_df = pd.merge(test_df0, test_df1, on='essay_id', how='inner')",
   "metadata": {
    "execution": {
     "iopub.status.busy": "2024-05-26T13:09:02.364367Z",
     "iopub.execute_input": "2024-05-26T13:09:02.364773Z",
     "iopub.status.idle": "2024-05-26T13:09:02.376273Z",
     "shell.execute_reply.started": "2024-05-26T13:09:02.364736Z",
     "shell.execute_reply": "2024-05-26T13:09:02.374735Z"
    },
    "trusted": true
   },
   "execution_count": null,
   "outputs": []
  },
  {
   "cell_type": "code",
   "source": "merged_test_df",
   "metadata": {
    "execution": {
     "iopub.status.busy": "2024-05-26T13:09:02.377838Z",
     "iopub.execute_input": "2024-05-26T13:09:02.378217Z",
     "iopub.status.idle": "2024-05-26T13:09:02.406801Z",
     "shell.execute_reply.started": "2024-05-26T13:09:02.378187Z",
     "shell.execute_reply": "2024-05-26T13:09:02.405051Z"
    },
    "trusted": true
   },
   "execution_count": null,
   "outputs": []
  },
  {
   "cell_type": "markdown",
   "source": "## EDA",
   "metadata": {}
  },
  {
   "cell_type": "code",
   "source": "# plt.close()\n# sns.set_style('whitegrid')\n# sns.pairplot(train_df1, hue='score', height=5)\n# plt.show()",
   "metadata": {
    "execution": {
     "iopub.status.busy": "2024-05-26T12:50:15.613476Z",
     "iopub.status.idle": "2024-05-26T12:50:15.614057Z",
     "shell.execute_reply.started": "2024-05-26T12:50:15.613764Z",
     "shell.execute_reply": "2024-05-26T12:50:15.613787Z"
    },
    "trusted": true
   },
   "execution_count": null,
   "outputs": []
  },
  {
   "cell_type": "markdown",
   "source": "## Splitting data into training and testing sets",
   "metadata": {}
  },
  {
   "cell_type": "code",
   "source": "X = merged_train_df.drop(['score'], axis=1)  \ny = merged_train_df['score']",
   "metadata": {
    "execution": {
     "iopub.status.busy": "2024-05-26T13:09:40.782694Z",
     "iopub.execute_input": "2024-05-26T13:09:40.783208Z",
     "iopub.status.idle": "2024-05-26T13:09:40.79488Z",
     "shell.execute_reply.started": "2024-05-26T13:09:40.783171Z",
     "shell.execute_reply": "2024-05-26T13:09:40.793594Z"
    },
    "trusted": true
   },
   "execution_count": null,
   "outputs": []
  },
  {
   "cell_type": "code",
   "source": "X_train, X_test, y_train, y_test = train_test_split(X, y, test_size=0.1, random_state=123)",
   "metadata": {
    "execution": {
     "iopub.status.busy": "2024-05-26T13:09:43.586095Z",
     "iopub.execute_input": "2024-05-26T13:09:43.586532Z",
     "iopub.status.idle": "2024-05-26T13:09:43.606444Z",
     "shell.execute_reply.started": "2024-05-26T13:09:43.586482Z",
     "shell.execute_reply": "2024-05-26T13:09:43.604716Z"
    },
    "trusted": true
   },
   "execution_count": null,
   "outputs": []
  },
  {
   "cell_type": "code",
   "source": "y_train",
   "metadata": {
    "execution": {
     "iopub.status.busy": "2024-05-26T13:09:48.47132Z",
     "iopub.execute_input": "2024-05-26T13:09:48.472377Z",
     "iopub.status.idle": "2024-05-26T13:09:48.482912Z",
     "shell.execute_reply.started": "2024-05-26T13:09:48.472322Z",
     "shell.execute_reply": "2024-05-26T13:09:48.481616Z"
    },
    "trusted": true
   },
   "execution_count": null,
   "outputs": []
  },
  {
   "cell_type": "code",
   "source": "X_train",
   "metadata": {
    "execution": {
     "iopub.status.busy": "2024-05-26T13:09:51.503916Z",
     "iopub.execute_input": "2024-05-26T13:09:51.504313Z",
     "iopub.status.idle": "2024-05-26T13:09:51.540044Z",
     "shell.execute_reply.started": "2024-05-26T13:09:51.504283Z",
     "shell.execute_reply": "2024-05-26T13:09:51.53877Z"
    },
    "trusted": true
   },
   "execution_count": null,
   "outputs": []
  },
  {
   "cell_type": "code",
   "source": "print(X_train.shape)\nprint(y_train.shape)\nprint(X_test.shape)\nprint(y_test.shape)",
   "metadata": {
    "execution": {
     "iopub.status.busy": "2024-05-26T13:09:55.162014Z",
     "iopub.execute_input": "2024-05-26T13:09:55.162426Z",
     "iopub.status.idle": "2024-05-26T13:09:55.168979Z",
     "shell.execute_reply.started": "2024-05-26T13:09:55.162396Z",
     "shell.execute_reply": "2024-05-26T13:09:55.167719Z"
    },
    "trusted": true
   },
   "execution_count": null,
   "outputs": []
  },
  {
   "cell_type": "markdown",
   "source": "## Instantiate TF-IDF VEctorizer ",
   "metadata": {}
  },
  {
   "cell_type": "code",
   "source": "text_vectorizer = TfidfVectorizer(\n    stop_words='english',\n    sublinear_tf=False,\n    strip_accents='unicode',\n    binary=True,\n    analyzer='word',\n    token_pattern=r'\\w{2,}',  \n    ngram_range=(1,1),\n    norm='l1', \n    use_idf=False, \n    smooth_idf=False,\n    max_features=600000,\n    min_df=30)",
   "metadata": {
    "execution": {
     "iopub.status.busy": "2024-05-26T13:10:01.390908Z",
     "iopub.execute_input": "2024-05-26T13:10:01.391293Z",
     "iopub.status.idle": "2024-05-26T13:10:01.398843Z",
     "shell.execute_reply.started": "2024-05-26T13:10:01.391265Z",
     "shell.execute_reply": "2024-05-26T13:10:01.397585Z"
    },
    "trusted": true
   },
   "execution_count": null,
   "outputs": []
  },
  {
   "cell_type": "code",
   "source": "# Fit and transform the text data to tf-idf  \ntext_vectorizer.fit(X_train['full_text'])  \nX_train_tfidf = text_vectorizer.transform(X_train['full_text'])  \nX_test_tfidf = text_vectorizer.transform(X_test['full_text'])  \n  \n# Convert the tf-idf vectors into a DataFrame  \nX_train_tfidf_df = pd.DataFrame(X_train_tfidf.toarray(), index=X_train.index)  \nX_test_tfidf_df = pd.DataFrame(X_test_tfidf.toarray(), index=X_test.index)  \n  \n# Concatenate the tf-idf DataFrame with the original DataFrame  \nX_train_combined = pd.concat([X_train, X_train_tfidf_df], axis=1)  \nX_test_combined = pd.concat([X_test, X_test_tfidf_df], axis=1) \n\nX_train_final = X_train_combined.drop(['full_text', 'essay_id'], axis=1)  \nX_test_final = X_test_combined.drop(['full_text', 'essay_id'], axis=1)  ",
   "metadata": {
    "execution": {
     "iopub.status.busy": "2024-05-26T13:13:18.458671Z",
     "iopub.execute_input": "2024-05-26T13:13:18.459079Z",
     "iopub.status.idle": "2024-05-26T13:13:31.558431Z",
     "shell.execute_reply.started": "2024-05-26T13:13:18.459047Z",
     "shell.execute_reply": "2024-05-26T13:13:31.556699Z"
    },
    "trusted": true
   },
   "execution_count": null,
   "outputs": []
  },
  {
   "cell_type": "code",
   "source": "X_test_final",
   "metadata": {
    "execution": {
     "iopub.status.busy": "2024-05-26T13:13:34.318974Z",
     "iopub.execute_input": "2024-05-26T13:13:34.319468Z",
     "iopub.status.idle": "2024-05-26T13:13:34.372201Z",
     "shell.execute_reply.started": "2024-05-26T13:13:34.319431Z",
     "shell.execute_reply": "2024-05-26T13:13:34.37088Z"
    },
    "trusted": true
   },
   "execution_count": null,
   "outputs": []
  },
  {
   "cell_type": "code",
   "source": "X_train_final.columns = X_train_final.columns.astype(str)  \nX_test_final.columns = X_test_final.columns.astype(str)  ",
   "metadata": {
    "execution": {
     "iopub.status.busy": "2024-05-26T13:14:03.486079Z",
     "iopub.execute_input": "2024-05-26T13:14:03.486598Z",
     "iopub.status.idle": "2024-05-26T13:14:03.497562Z",
     "shell.execute_reply.started": "2024-05-26T13:14:03.48656Z",
     "shell.execute_reply": "2024-05-26T13:14:03.496297Z"
    },
    "trusted": true
   },
   "execution_count": null,
   "outputs": []
  },
  {
   "cell_type": "markdown",
   "source": "## Train features into the Support Vector Machine",
   "metadata": {}
  },
  {
   "cell_type": "code",
   "source": "from sklearn.pipeline import make_pipeline  \nfrom sklearn.preprocessing import MaxAbsScaler  \nfrom sklearn.svm import SVC  \n  \nclf = make_pipeline(MaxAbsScaler(), SVC(C=1.75, kernel='rbf', gamma='scale', decision_function_shape='ovr', random_state=123, tol=1e-5, shrinking=True, verbose=True, break_ties=True))  \nclf.fit(X_train_final, y_train.values.ravel())  \ny_pred = clf.predict(X_test_final)",
   "metadata": {
    "execution": {
     "iopub.status.busy": "2024-05-26T13:37:08.776364Z",
     "iopub.execute_input": "2024-05-26T13:37:08.77684Z",
     "iopub.status.idle": "2024-05-26T14:01:37.647162Z",
     "shell.execute_reply.started": "2024-05-26T13:37:08.776797Z",
     "shell.execute_reply": "2024-05-26T14:01:37.645673Z"
    },
    "trusted": true
   },
   "execution_count": null,
   "outputs": []
  },
  {
   "cell_type": "markdown",
   "source": "## Model Evaluation",
   "metadata": {}
  },
  {
   "cell_type": "code",
   "source": "print(confusion_matrix(y_test, y_pred))",
   "metadata": {
    "execution": {
     "iopub.status.busy": "2024-05-26T14:01:37.650129Z",
     "iopub.execute_input": "2024-05-26T14:01:37.650606Z",
     "iopub.status.idle": "2024-05-26T14:01:37.662692Z",
     "shell.execute_reply.started": "2024-05-26T14:01:37.650562Z",
     "shell.execute_reply": "2024-05-26T14:01:37.661305Z"
    },
    "trusted": true
   },
   "execution_count": null,
   "outputs": []
  },
  {
   "cell_type": "code",
   "source": "print(classification_report(y_test, y_pred))",
   "metadata": {
    "execution": {
     "iopub.status.busy": "2024-05-26T14:01:37.66436Z",
     "iopub.execute_input": "2024-05-26T14:01:37.664804Z",
     "iopub.status.idle": "2024-05-26T14:01:37.686413Z",
     "shell.execute_reply.started": "2024-05-26T14:01:37.664766Z",
     "shell.execute_reply": "2024-05-26T14:01:37.685083Z"
    },
    "trusted": true
   },
   "execution_count": null,
   "outputs": []
  },
  {
   "cell_type": "code",
   "source": "kappa = cohen_kappa_score(y_test, y_pred, weights='quadratic')  \nprint('Cohen\\'s kappa score: ', kappa)  ",
   "metadata": {
    "execution": {
     "iopub.status.busy": "2024-05-26T14:01:37.688832Z",
     "iopub.execute_input": "2024-05-26T14:01:37.689204Z",
     "iopub.status.idle": "2024-05-26T14:01:37.700382Z",
     "shell.execute_reply.started": "2024-05-26T14:01:37.689173Z",
     "shell.execute_reply": "2024-05-26T14:01:37.698823Z"
    },
    "trusted": true
   },
   "execution_count": null,
   "outputs": []
  },
  {
   "cell_type": "markdown",
   "source": "## Predict test features using the trained classifier (clf)",
   "metadata": {}
  },
  {
   "cell_type": "code",
   "source": "test_tfidf = text_vectorizer.transform(merged_test_df['full_text'])  \n  \n# Convert the tf-idf vectors into a DataFrame  \ntest_tfidf_df = pd.DataFrame(test_tfidf.toarray(), index=merged_test_df.index)  \n\n# Concatenate the tf-idf DataFrame with the original DataFrame  \ntest_combined = pd.concat([merged_test_df, test_tfidf_df], axis=1)  \n\ntest_final = test_combined.drop(['full_text','essay_id'], axis=1)  \n\ntest_final.columns = test_final.columns.astype(str) ",
   "metadata": {
    "execution": {
     "iopub.status.busy": "2024-05-26T14:03:18.79214Z",
     "iopub.execute_input": "2024-05-26T14:03:18.79256Z",
     "iopub.status.idle": "2024-05-26T14:03:18.810182Z",
     "shell.execute_reply.started": "2024-05-26T14:03:18.792527Z",
     "shell.execute_reply": "2024-05-26T14:03:18.809065Z"
    },
    "trusted": true
   },
   "execution_count": null,
   "outputs": []
  },
  {
   "cell_type": "code",
   "source": "test_predictions = clf.predict(test_final)",
   "metadata": {
    "execution": {
     "iopub.status.busy": "2024-05-26T14:03:20.787109Z",
     "iopub.execute_input": "2024-05-26T14:03:20.787675Z",
     "iopub.status.idle": "2024-05-26T14:03:21.145024Z",
     "shell.execute_reply.started": "2024-05-26T14:03:20.78755Z",
     "shell.execute_reply": "2024-05-26T14:03:21.143371Z"
    },
    "trusted": true
   },
   "execution_count": null,
   "outputs": []
  },
  {
   "cell_type": "markdown",
   "source": "## Save submission into a CSV file",
   "metadata": {}
  },
  {
   "cell_type": "code",
   "source": "submission = pd.read_csv(\"/kaggle/input/learning-agency-lab-automated-essay-scoring-2/sample_submission.csv\")\nsubmission['score'] = test_predictions\nsubmission.to_csv(\"submission.csv\", index=False)\ndisplay(submission)",
   "metadata": {
    "execution": {
     "iopub.status.busy": "2024-05-26T14:03:23.4557Z",
     "iopub.execute_input": "2024-05-26T14:03:23.456234Z",
     "iopub.status.idle": "2024-05-26T14:03:23.479608Z",
     "shell.execute_reply.started": "2024-05-26T14:03:23.456196Z",
     "shell.execute_reply": "2024-05-26T14:03:23.478527Z"
    },
    "trusted": true
   },
   "execution_count": null,
   "outputs": []
  }
 ]
}
