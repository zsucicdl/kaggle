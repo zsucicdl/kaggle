{
 "metadata": {
  "kernelspec": {
   "language": "python",
   "display_name": "Python 3",
   "name": "python3"
  },
  "language_info": {
   "name": "python",
   "version": "3.10.13",
   "mimetype": "text/x-python",
   "codemirror_mode": {
    "name": "ipython",
    "version": 3
   },
   "pygments_lexer": "ipython3",
   "nbconvert_exporter": "python",
   "file_extension": ".py"
  },
  "kaggle": {
   "accelerator": "none",
   "dataSources": [
    {
     "sourceId": 71485,
     "databundleVersionId": 8059942,
     "sourceType": "competition"
    }
   ],
   "dockerImageVersionId": 30698,
   "isInternetEnabled": true,
   "language": "python",
   "sourceType": "notebook",
   "isGpuEnabled": false
  }
 },
 "nbformat_minor": 4,
 "nbformat": 4,
 "cells": [
  {
   "cell_type": "code",
   "source": "import polars as pl\n\nimport numpy as np\nimport matplotlib.pyplot as plt\nimport seaborn as sns\n\nfrom wordcloud import WordCloud\n\nfrom sklearn.feature_extraction.text import CountVectorizer\nfrom sklearn.decomposition import LatentDirichletAllocation",
   "metadata": {},
   "execution_count": null,
   "outputs": []
  },
  {
   "cell_type": "code",
   "source": "train = pl.read_csv(\"/kaggle/input/learning-agency-lab-automated-essay-scoring-2/train.csv\")",
   "metadata": {
    "execution": {
     "iopub.status.busy": "2024-05-12T02:51:54.195765Z",
     "iopub.execute_input": "2024-05-12T02:51:54.196437Z",
     "iopub.status.idle": "2024-05-12T02:51:54.585887Z",
     "shell.execute_reply.started": "2024-05-12T02:51:54.196401Z",
     "shell.execute_reply": "2024-05-12T02:51:54.584367Z"
    },
    "trusted": true
   },
   "execution_count": null,
   "outputs": []
  },
  {
   "cell_type": "markdown",
   "source": "# Score vs Text or Word Length",
   "metadata": {}
  },
  {
   "cell_type": "code",
   "source": "train = train.with_columns(\n    pl.col(\"full_text\").str.len_chars().alias(\"text_length\"),\n    pl.col(\"full_text\")\n    .map_elements(lambda x: len(x.split()), return_dtype=pl.Int64)\n    .alias(\"word_length\"),\n)",
   "metadata": {
    "execution": {
     "iopub.status.busy": "2024-05-12T02:51:54.592699Z",
     "iopub.execute_input": "2024-05-12T02:51:54.593502Z",
     "iopub.status.idle": "2024-05-12T02:51:55.188411Z",
     "shell.execute_reply.started": "2024-05-12T02:51:54.59346Z",
     "shell.execute_reply": "2024-05-12T02:51:55.187046Z"
    },
    "trusted": true
   },
   "execution_count": null,
   "outputs": []
  },
  {
   "cell_type": "code",
   "source": "sns.scatterplot(train.to_pandas(), x=\"text_length\", y=\"score\", alpha=0.5);",
   "metadata": {
    "execution": {
     "iopub.status.busy": "2024-05-12T02:51:55.189587Z",
     "iopub.execute_input": "2024-05-12T02:51:55.190124Z",
     "iopub.status.idle": "2024-05-12T02:51:56.835496Z",
     "shell.execute_reply.started": "2024-05-12T02:51:55.190094Z",
     "shell.execute_reply": "2024-05-12T02:51:56.834244Z"
    },
    "trusted": true
   },
   "execution_count": null,
   "outputs": []
  },
  {
   "cell_type": "code",
   "source": "sns.scatterplot(train.to_pandas(), x=\"word_length\", y=\"score\", alpha=0.5);",
   "metadata": {
    "execution": {
     "iopub.status.busy": "2024-05-12T02:51:56.838552Z",
     "iopub.execute_input": "2024-05-12T02:51:56.83948Z",
     "iopub.status.idle": "2024-05-12T02:51:57.336549Z",
     "shell.execute_reply.started": "2024-05-12T02:51:56.839444Z",
     "shell.execute_reply": "2024-05-12T02:51:57.335222Z"
    },
    "trusted": true
   },
   "execution_count": null,
   "outputs": []
  },
  {
   "cell_type": "code",
   "source": "sns.boxplot(train.to_pandas(), x=\"score\", y=\"text_length\");",
   "metadata": {
    "execution": {
     "iopub.status.busy": "2024-05-12T02:51:57.33808Z",
     "iopub.execute_input": "2024-05-12T02:51:57.338511Z",
     "iopub.status.idle": "2024-05-12T02:51:57.760208Z",
     "shell.execute_reply.started": "2024-05-12T02:51:57.338471Z",
     "shell.execute_reply": "2024-05-12T02:51:57.758995Z"
    },
    "trusted": true
   },
   "execution_count": null,
   "outputs": []
  },
  {
   "cell_type": "code",
   "source": "sns.boxplot(train.to_pandas(), x=\"score\", y=\"word_length\");",
   "metadata": {
    "execution": {
     "iopub.status.busy": "2024-05-12T02:51:57.761716Z",
     "iopub.execute_input": "2024-05-12T02:51:57.762872Z",
     "iopub.status.idle": "2024-05-12T02:51:58.177978Z",
     "shell.execute_reply.started": "2024-05-12T02:51:57.762812Z",
     "shell.execute_reply": "2024-05-12T02:51:58.176757Z"
    },
    "trusted": true
   },
   "execution_count": null,
   "outputs": []
  },
  {
   "cell_type": "markdown",
   "source": "# Word Cloud(All Text)",
   "metadata": {}
  },
  {
   "cell_type": "code",
   "source": "full_text_combined = \" \".join(text for text in train['full_text'])\n\nwordcloud = WordCloud(width = 800, height = 400, background_color ='white').generate(full_text_combined)\n\nplt.figure(figsize=(10, 5))\nplt.imshow(wordcloud)\nplt.axis(\"off\");",
   "metadata": {
    "execution": {
     "iopub.status.busy": "2024-05-12T02:51:58.179506Z",
     "iopub.execute_input": "2024-05-12T02:51:58.180468Z",
     "iopub.status.idle": "2024-05-12T02:52:23.429763Z",
     "shell.execute_reply.started": "2024-05-12T02:51:58.18043Z",
     "shell.execute_reply": "2024-05-12T02:52:23.428863Z"
    },
    "trusted": true
   },
   "execution_count": null,
   "outputs": []
  },
  {
   "cell_type": "markdown",
   "source": "# Word Cloud(Text Per Score)",
   "metadata": {}
  },
  {
   "cell_type": "code",
   "source": "fig, axes = plt.subplots(nrows=3, ncols=2, figsize=(10, 6))\n\nfor score in [1, 2 ,3, 4, 5, 6]:\n    subset_text = \" \".join(\n        [\n            text for text\n            in train.filter(pl.col(\"score\") == score)[\"full_text\"].to_list()\n        ]\n    )\n    wordcloud = WordCloud(width = 800, height = 400, background_color ='white').generate(subset_text)\n    \n    ax_idx = (score - 1) // 2\n    ax_col = (score - 1) % 2\n    axes[ax_idx][ax_col].imshow(wordcloud)\n    axes[ax_idx][ax_col].axis(\"off\")\n    axes[ax_idx][ax_col].set_title(f\"Word Cloud for Score {score}\")\n\nplt.tight_layout()\nplt.show()",
   "metadata": {
    "execution": {
     "iopub.status.busy": "2024-05-12T02:52:23.431137Z",
     "iopub.execute_input": "2024-05-12T02:52:23.431832Z",
     "iopub.status.idle": "2024-05-12T02:52:55.746352Z",
     "shell.execute_reply.started": "2024-05-12T02:52:23.431786Z",
     "shell.execute_reply": "2024-05-12T02:52:55.744941Z"
    },
    "trusted": true
   },
   "execution_count": null,
   "outputs": []
  },
  {
   "cell_type": "markdown",
   "source": "# Topic Modeling",
   "metadata": {}
  },
  {
   "cell_type": "code",
   "source": "# Create a document-term matrix using CountVectorizer\ncv = CountVectorizer(max_df=0.95, min_df=2, stop_words='english')\ndtm = cv.fit_transform(train['full_text'])\n\n# LDA model\nLDA = LatentDirichletAllocation(n_components=5, random_state=42)\nLDA.fit(dtm)\n\n# Getting the words for each topic\ntopics = {}\nfor index, topic in enumerate(LDA.components_):\n    words = [cv.get_feature_names_out()[i] for i in topic.argsort()[-10:]]\n    topics[index] = words\n\ntopics",
   "metadata": {
    "execution": {
     "iopub.status.busy": "2024-05-12T02:52:55.747986Z",
     "iopub.execute_input": "2024-05-12T02:52:55.74892Z",
     "iopub.status.idle": "2024-05-12T02:54:34.428666Z",
     "shell.execute_reply.started": "2024-05-12T02:52:55.748805Z",
     "shell.execute_reply": "2024-05-12T02:54:34.426901Z"
    },
    "trusted": true
   },
   "execution_count": null,
   "outputs": []
  },
  {
   "cell_type": "markdown",
   "source": "named by GPT4\n\n- 0: Planetary Geography and Exploration\n- 1: Electoral Politics\n- 2: Environmental Concerns\n- 3: Educational Technology in the Classroom\n- 4: Automotive Technology and Innovation",
   "metadata": {}
  },
  {
   "cell_type": "markdown",
   "source": "# Score Per Topic Modeling",
   "metadata": {}
  },
  {
   "cell_type": "code",
   "source": "# Assign the dominant topic to each document\ntopic_results = LDA.transform(dtm)\ntrain = train.with_columns(\n    pl.Series(topic_results.argmax(axis=1)).alias(\"dominant_topic\")\n)",
   "metadata": {
    "execution": {
     "iopub.status.busy": "2024-05-12T02:57:00.355288Z",
     "iopub.execute_input": "2024-05-12T02:57:00.355797Z",
     "iopub.status.idle": "2024-05-12T02:57:06.159571Z",
     "shell.execute_reply.started": "2024-05-12T02:57:00.355765Z",
     "shell.execute_reply": "2024-05-12T02:57:06.15811Z"
    },
    "trusted": true
   },
   "execution_count": null,
   "outputs": []
  },
  {
   "cell_type": "code",
   "source": "plt.figure(figsize=(12, 6))\nsns.boxplot(data=train.to_pandas(), x='dominant_topic', y='score')\nplt.title('Score Distribution by Dominant Topic')\nplt.xlabel('Topic')\nplt.ylabel('Score')\nplt.xticks(np.arange(5),\n    [\n        'Planetary Geography and Exploration',\n        'Electoral Politics',\n        'Environmental Concerns',\n        'Educational Technology in the Classroom',\n        'Automotive Technology and Innovation'\n    ],\n    rotation=45\n);",
   "metadata": {
    "execution": {
     "iopub.status.busy": "2024-05-12T03:04:20.767806Z",
     "iopub.execute_input": "2024-05-12T03:04:20.768254Z",
     "iopub.status.idle": "2024-05-12T03:04:21.295267Z",
     "shell.execute_reply.started": "2024-05-12T03:04:20.768222Z",
     "shell.execute_reply": "2024-05-12T03:04:21.293908Z"
    },
    "trusted": true
   },
   "execution_count": null,
   "outputs": []
  },
  {
   "cell_type": "code",
   "source": "plt.figure(figsize=(12, 6))\nsns.violinplot(data=train.to_pandas(), x='dominant_topic', y='score')\nplt.title('Score Distribution by Dominant Topic')\nplt.xlabel('Topic')\nplt.ylabel('Score')\nplt.xticks(np.arange(5),\n    [\n        'Planetary Geography and Exploration',\n        'Electoral Politics',\n        'Environmental Concerns',\n        'Educational Technology in the Classroom',\n        'Automotive Technology and Innovation'\n    ],\n    rotation=45\n);",
   "metadata": {
    "execution": {
     "iopub.status.busy": "2024-05-12T03:04:21.506717Z",
     "iopub.execute_input": "2024-05-12T03:04:21.5079Z",
     "iopub.status.idle": "2024-05-12T03:04:22.253499Z",
     "shell.execute_reply.started": "2024-05-12T03:04:21.507838Z",
     "shell.execute_reply": "2024-05-12T03:04:22.252403Z"
    },
    "trusted": true
   },
   "execution_count": null,
   "outputs": []
  },
  {
   "cell_type": "code",
   "source": "",
   "metadata": {},
   "execution_count": null,
   "outputs": []
  }
 ]
}
