{
 "metadata": {
  "kernelspec": {
   "language": "python",
   "display_name": "Python 3",
   "name": "python3"
  },
  "language_info": {
   "name": "python",
   "version": "3.10.13",
   "mimetype": "text/x-python",
   "codemirror_mode": {
    "name": "ipython",
    "version": 3
   },
   "pygments_lexer": "ipython3",
   "nbconvert_exporter": "python",
   "file_extension": ".py"
  },
  "kaggle": {
   "accelerator": "gpu",
   "dataSources": [
    {
     "sourceId": 71485,
     "databundleVersionId": 8059942,
     "sourceType": "competition"
    },
    {
     "sourceId": 4620664,
     "sourceType": "datasetVersion",
     "datasetId": 2663421
    }
   ],
   "dockerImageVersionId": 30673,
   "isInternetEnabled": true,
   "language": "python",
   "sourceType": "notebook",
   "isGpuEnabled": true
  }
 },
 "nbformat_minor": 4,
 "nbformat": 4,
 "cells": [
  {
   "cell_type": "markdown",
   "source": "Inference: [https://www.kaggle.com/code/hashidoyuto/deberta-v3-base-aes2-0-infer](https://www.kaggle.com/code/hashidoyuto/deberta-v3-base-aes2-0-infer)",
   "metadata": {}
  },
  {
   "cell_type": "markdown",
   "source": "## Import & Config",
   "metadata": {}
  },
  {
   "cell_type": "code",
   "source": "import os\nimport re\nimport random\nimport warnings\nimport numpy as np\nimport pandas as pd\nimport matplotlib.pyplot as plt\nimport torch\nfrom transformers import AutoTokenizer, AutoModelForSequenceClassification\nfrom transformers import TrainingArguments, Trainer\nfrom transformers import DataCollatorWithPadding\nfrom datasets import Dataset\nfrom sklearn.model_selection import train_test_split\nfrom sklearn.model_selection import StratifiedKFold\nfrom sklearn.metrics import confusion_matrix, ConfusionMatrixDisplay\nfrom sklearn.metrics import cohen_kappa_score\n\nwarnings.simplefilter('ignore')",
   "metadata": {
    "execution": {
     "iopub.status.busy": "2024-04-14T20:38:32.645981Z",
     "iopub.execute_input": "2024-04-14T20:38:32.646375Z",
     "iopub.status.idle": "2024-04-14T20:38:32.653223Z",
     "shell.execute_reply.started": "2024-04-14T20:38:32.646345Z",
     "shell.execute_reply": "2024-04-14T20:38:32.652207Z"
    },
    "trusted": true
   },
   "execution_count": null,
   "outputs": []
  },
  {
   "cell_type": "code",
   "source": "class PATHS:\n    train_path = '/kaggle/input/learning-agency-lab-automated-essay-scoring-2/train.csv'\n    model_path = '/kaggle/input/huggingfacedebertav3variants/deberta-v3-base'",
   "metadata": {
    "execution": {
     "iopub.status.busy": "2024-04-14T20:38:32.945744Z",
     "iopub.execute_input": "2024-04-14T20:38:32.946048Z",
     "iopub.status.idle": "2024-04-14T20:38:32.950045Z",
     "shell.execute_reply.started": "2024-04-14T20:38:32.946009Z",
     "shell.execute_reply": "2024-04-14T20:38:32.949214Z"
    },
    "trusted": true
   },
   "execution_count": null,
   "outputs": []
  },
  {
   "cell_type": "code",
   "source": "class CFG:\n    n_splits = 5\n    seed = 42\n    max_length = 512\n    lr = 2e-5\n    train_batch_size = 8\n    eval_batch_size = 4\n    train_epochs = 1\n    weight_decay = 0.01\n    warmup_ratio = 0.1\n    num_labels = 6",
   "metadata": {
    "execution": {
     "iopub.status.busy": "2024-04-14T20:38:35.224595Z",
     "iopub.execute_input": "2024-04-14T20:38:35.22556Z",
     "iopub.status.idle": "2024-04-14T20:38:35.230865Z",
     "shell.execute_reply.started": "2024-04-14T20:38:35.225523Z",
     "shell.execute_reply": "2024-04-14T20:38:35.229795Z"
    },
    "trusted": true
   },
   "execution_count": null,
   "outputs": []
  },
  {
   "cell_type": "code",
   "source": "def seed_everything(seed):\n    import random, os\n    import numpy as np\n    import torch\n    \n    random.seed(seed)\n    os.environ['PYTHONHASHSEED'] = str(seed)\n    np.random.seed(seed)\n    torch.manual_seed(seed)\n    torch.cuda.manual_seed(seed)\n    torch.backends.cudnn.deterministic = True\n    torch.backends.cudnn.benchmark = True\n    \n    \nseed_everything(seed=CFG.seed)",
   "metadata": {
    "execution": {
     "iopub.status.busy": "2024-04-14T20:38:47.357984Z",
     "iopub.execute_input": "2024-04-14T20:38:47.358356Z",
     "iopub.status.idle": "2024-04-14T20:38:47.364441Z",
     "shell.execute_reply.started": "2024-04-14T20:38:47.358328Z",
     "shell.execute_reply": "2024-04-14T20:38:47.36349Z"
    },
    "trusted": true
   },
   "execution_count": null,
   "outputs": []
  },
  {
   "cell_type": "markdown",
   "source": "## Data Tokenization",
   "metadata": {}
  },
  {
   "cell_type": "code",
   "source": "class Tokenize(object):\n    def __init__(self, train, valid):\n        self.tokenizer = AutoTokenizer.from_pretrained(PATHS.model_path)\n        self.train = train\n        self.valid = valid\n        \n    def get_dataset(self, df):\n        ds = Dataset.from_dict({\n                'essay_id': [e for e in df['essay_id']],\n                'full_text': [ft for ft in df['full_text']],\n                'label': [s for s in df['label']],\n            })\n        return ds\n        \n    def tokenize_function(self, example):\n        tokenized_inputs = self.tokenizer(\n            example['full_text'], truncation=True, max_length=CFG.max_length\n        )\n        return tokenized_inputs\n    \n    def __call__(self):\n        train_ds = self.get_dataset(train)\n        valid_ds = self.get_dataset(valid)\n        \n        tokenized_train = train_ds.map(\n            self.tokenize_function, batched=True\n        )\n        tokenized_valid = valid_ds.map(\n            self.tokenize_function, batched=True\n        )\n        \n        return tokenized_train, tokenized_valid, self.tokenizer",
   "metadata": {
    "execution": {
     "iopub.status.busy": "2024-04-14T20:04:03.051987Z",
     "iopub.execute_input": "2024-04-14T20:04:03.052286Z",
     "iopub.status.idle": "2024-04-14T20:04:03.061131Z",
     "shell.execute_reply.started": "2024-04-14T20:04:03.052264Z",
     "shell.execute_reply": "2024-04-14T20:04:03.060431Z"
    },
    "trusted": true
   },
   "execution_count": null,
   "outputs": []
  },
  {
   "cell_type": "markdown",
   "source": "## Compute metrics",
   "metadata": {}
  },
  {
   "cell_type": "code",
   "source": "def compute_metrics(eval_pred):\n    predictions, labels = eval_pred\n    qwk = cohen_kappa_score(labels, predictions.argmax(-1), weights='quadratic')\n    results = {\n        'qwk': qwk\n    }\n    return results",
   "metadata": {
    "execution": {
     "iopub.status.busy": "2024-04-14T20:04:03.062039Z",
     "iopub.execute_input": "2024-04-14T20:04:03.062362Z",
     "iopub.status.idle": "2024-04-14T20:04:03.072341Z",
     "shell.execute_reply.started": "2024-04-14T20:04:03.062334Z",
     "shell.execute_reply": "2024-04-14T20:04:03.071592Z"
    },
    "trusted": true
   },
   "execution_count": null,
   "outputs": []
  },
  {
   "cell_type": "markdown",
   "source": "## Load Data & Set Fold",
   "metadata": {}
  },
  {
   "cell_type": "code",
   "source": "data = pd.read_csv(PATHS.train_path)\ndata['label'] = data['score'].apply(lambda x: x-1)\n\nskf = StratifiedKFold(n_splits=CFG.n_splits, shuffle=True, random_state=CFG.seed)\n\nfor i, (_, val_index) in enumerate(skf.split(data, data[\"score\"])):\n    data.loc[val_index, \"fold\"] = i\n\ndata.head()",
   "metadata": {
    "execution": {
     "iopub.status.busy": "2024-04-14T20:05:19.420402Z",
     "iopub.execute_input": "2024-04-14T20:05:19.421312Z",
     "iopub.status.idle": "2024-04-14T20:05:19.818605Z",
     "shell.execute_reply.started": "2024-04-14T20:05:19.421279Z",
     "shell.execute_reply": "2024-04-14T20:05:19.817607Z"
    },
    "trusted": true
   },
   "execution_count": null,
   "outputs": []
  },
  {
   "cell_type": "markdown",
   "source": "## Set Training Args",
   "metadata": {}
  },
  {
   "cell_type": "code",
   "source": "training_args = TrainingArguments(\n    output_dir='output',\n    fp16=True,\n    learning_rate=CFG.lr,\n    per_device_train_batch_size=CFG.train_batch_size,\n    per_device_eval_batch_size=CFG.eval_batch_size,\n    num_train_epochs=CFG.train_epochs,\n    weight_decay=CFG.weight_decay,\n    evaluation_strategy='epoch',\n    metric_for_best_model='qwk',\n    save_strategy='epoch',\n    save_total_limit=1,\n    load_best_model_at_end=True,\n    report_to='none',\n    warmup_ratio=CFG.warmup_ratio,\n    optim='adamw_torch'\n)",
   "metadata": {
    "execution": {
     "iopub.status.busy": "2024-04-14T20:05:25.822412Z",
     "iopub.execute_input": "2024-04-14T20:05:25.822769Z",
     "iopub.status.idle": "2024-04-14T20:05:25.878256Z",
     "shell.execute_reply.started": "2024-04-14T20:05:25.82274Z",
     "shell.execute_reply": "2024-04-14T20:05:25.877415Z"
    },
    "trusted": true
   },
   "execution_count": null,
   "outputs": []
  },
  {
   "cell_type": "markdown",
   "source": "## Training by hold",
   "metadata": {}
  },
  {
   "cell_type": "code",
   "source": "for fold in range(len(data['fold'].unique())):\n    train = data[data['fold'] != fold]\n    valid = data[data['fold'] == fold]\n    \n    tokenize = Tokenize(train, valid)\n    tokenized_train, tokenized_valid, tokenizer = tokenize()\n    \n    model = AutoModelForSequenceClassification.from_pretrained(PATHS.model_path, num_labels=CFG.num_labels)\n    data_collator = DataCollatorWithPadding(tokenizer=tokenizer)\n    \n    trainer = Trainer(\n    model=model,\n    args=training_args,\n    train_dataset=tokenized_train,\n    eval_dataset=tokenized_valid,\n    data_collator=data_collator,\n    tokenizer=tokenizer,\n    compute_metrics=compute_metrics\n    )\n    \n    trainer.train()\n    \n    y_true = valid['score'].values\n    predictions = trainer.predict(tokenized_valid).predictions\n    predictions = predictions.argmax(axis=1) + 1\n    cm = confusion_matrix(y_true, predictions, labels=[x for x in range(1,7)])\n    draw_cm = ConfusionMatrixDisplay(confusion_matrix=cm,\n                                  display_labels=[x for x in range(1,7)])\n    draw_cm.plot()\n    plt.show()\n    \n    trainer.save_model(f'deberta-v3-base_AES2_fold_{fold}')\n    tokenizer.save_pretrained(f'deberta-v3-base_AES2_fold_{fold}')\n    \n    valid.to_csv(f'valid_df_fold_{fold}.csv', index=False)",
   "metadata": {
    "execution": {
     "iopub.status.busy": "2024-04-14T20:18:56.900742Z",
     "iopub.execute_input": "2024-04-14T20:18:56.901598Z",
     "iopub.status.idle": "2024-04-14T20:19:42.194372Z",
     "shell.execute_reply.started": "2024-04-14T20:18:56.901564Z",
     "shell.execute_reply": "2024-04-14T20:19:42.193336Z"
    },
    "trusted": true
   },
   "execution_count": null,
   "outputs": []
  },
  {
   "cell_type": "code",
   "source": "",
   "metadata": {},
   "execution_count": null,
   "outputs": []
  }
 ]
}
