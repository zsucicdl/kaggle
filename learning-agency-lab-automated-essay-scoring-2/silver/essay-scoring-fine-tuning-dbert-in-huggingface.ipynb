{
 "metadata": {
  "kernelspec": {
   "language": "python",
   "display_name": "Python 3",
   "name": "python3"
  },
  "language_info": {
   "name": "python",
   "version": "3.10.13",
   "mimetype": "text/x-python",
   "codemirror_mode": {
    "name": "ipython",
    "version": 3
   },
   "pygments_lexer": "ipython3",
   "nbconvert_exporter": "python",
   "file_extension": ".py"
  },
  "kaggle": {
   "accelerator": "none",
   "dataSources": [
    {
     "sourceId": 71485,
     "databundleVersionId": 8059942,
     "sourceType": "competition"
    }
   ],
   "dockerImageVersionId": 30715,
   "isInternetEnabled": true,
   "language": "python",
   "sourceType": "notebook",
   "isGpuEnabled": false
  }
 },
 "nbformat_minor": 4,
 "nbformat": 4,
 "cells": [
  {
   "cell_type": "markdown",
   "source": "Hi, for fun and to remind myself of some of the **Hugging Face** functionalities, I created a notebook in which I fine-tune the distilBERT model using **data from the \"Learning Agency Lab - Automated Essay Scoring 2.0\"** competition. \n\nThe \"y\" in this competition is a score between 1-6, but I am creating a model that, based on the full content of the essay, is to **predict whether a student writing a essay will receive a score greater than or equal to 4 (4, 5, or 6) or less than 4 (1, 2, and 3)**. \n\nThe **model's prediction can be used as the explained feature** (the probability of label \"1\" which is a high score), but due to the \"flattening\" of the information about the target feature, it does not seem to have much predictive ability. \n\nHave fun!",
   "metadata": {}
  },
  {
   "cell_type": "code",
   "source": "DEBUG = False",
   "metadata": {
    "execution": {
     "iopub.status.busy": "2024-06-09T12:28:00.966736Z",
     "iopub.execute_input": "2024-06-09T12:28:00.967493Z",
     "iopub.status.idle": "2024-06-09T12:28:01.008248Z",
     "shell.execute_reply.started": "2024-06-09T12:28:00.967459Z",
     "shell.execute_reply": "2024-06-09T12:28:01.006929Z"
    },
    "trusted": true
   },
   "execution_count": null,
   "outputs": []
  },
  {
   "cell_type": "code",
   "source": "! rm -rf /opt/conda/lib/python3.10/site-packages/aiohttp-3.9.1.dist-info\n!pip install evaluate\n\nimport pandas as pd\nimport numpy as np\nfrom datasets import load_metric, Dataset, DatasetDict\nfrom transformers import  AutoModelForSequenceClassification, AutoTokenizer\nfrom transformers import TrainingArguments, Trainer, DataCollatorWithPadding\nfrom sklearn.metrics import classification_report\nimport evaluate",
   "metadata": {
    "_kg_hide-output": true,
    "execution": {
     "iopub.status.busy": "2024-06-09T12:28:01.010122Z",
     "iopub.execute_input": "2024-06-09T12:28:01.010466Z",
     "iopub.status.idle": "2024-06-09T12:28:38.802736Z",
     "shell.execute_reply.started": "2024-06-09T12:28:01.010441Z",
     "shell.execute_reply": "2024-06-09T12:28:38.801576Z"
    },
    "trusted": true
   },
   "execution_count": null,
   "outputs": []
  },
  {
   "cell_type": "code",
   "source": "!pip install huggingface_hub\n!python -c \"from huggingface_hub.hf_api import HfFolder; HfFolder.save_token('')\"",
   "metadata": {
    "_kg_hide-output": true,
    "execution": {
     "iopub.status.busy": "2024-06-09T12:28:38.804033Z",
     "iopub.execute_input": "2024-06-09T12:28:38.804706Z",
     "iopub.status.idle": "2024-06-09T12:28:52.565285Z",
     "shell.execute_reply.started": "2024-06-09T12:28:38.804675Z",
     "shell.execute_reply": "2024-06-09T12:28:52.563678Z"
    },
    "trusted": true
   },
   "execution_count": null,
   "outputs": []
  },
  {
   "cell_type": "code",
   "source": "essays = pd.read_csv('/kaggle/input/learning-agency-lab-automated-essay-scoring-2/train.csv')\nessays.head()",
   "metadata": {
    "_kg_hide-output": true,
    "execution": {
     "iopub.status.busy": "2024-06-09T12:28:52.569283Z",
     "iopub.execute_input": "2024-06-09T12:28:52.569852Z",
     "iopub.status.idle": "2024-06-09T12:28:53.395322Z",
     "shell.execute_reply.started": "2024-06-09T12:28:52.569801Z",
     "shell.execute_reply": "2024-06-09T12:28:53.394158Z"
    },
    "trusted": true
   },
   "execution_count": null,
   "outputs": []
  },
  {
   "cell_type": "code",
   "source": "conditions = [\n    (essays['score'] >= 4),\n    (essays['score'] < 4),\n]\n\nchoices = [1, 0]\n\n\nessays['label'] = np.select(conditions, choices, default = np.nan)",
   "metadata": {
    "_kg_hide-output": true,
    "execution": {
     "iopub.status.busy": "2024-06-09T12:28:53.396551Z",
     "iopub.execute_input": "2024-06-09T12:28:53.396888Z",
     "iopub.status.idle": "2024-06-09T12:28:53.406129Z",
     "shell.execute_reply.started": "2024-06-09T12:28:53.39686Z",
     "shell.execute_reply": "2024-06-09T12:28:53.404922Z"
    },
    "trusted": true
   },
   "execution_count": null,
   "outputs": []
  },
  {
   "cell_type": "code",
   "source": "essays = essays[essays['label'].notnull()]\nessays = essays[['full_text', 'label']]\nessays = essays.rename(columns={\"full_text\": \"text\"})\nessays['label'] = essays['label'].astype('int')",
   "metadata": {
    "_kg_hide-output": true,
    "execution": {
     "iopub.status.busy": "2024-06-09T12:28:53.407672Z",
     "iopub.execute_input": "2024-06-09T12:28:53.408156Z",
     "iopub.status.idle": "2024-06-09T12:28:53.429808Z",
     "shell.execute_reply.started": "2024-06-09T12:28:53.408084Z",
     "shell.execute_reply": "2024-06-09T12:28:53.428703Z"
    },
    "trusted": true
   },
   "execution_count": null,
   "outputs": []
  },
  {
   "cell_type": "code",
   "source": "essays",
   "metadata": {
    "execution": {
     "iopub.status.busy": "2024-06-09T12:28:53.431282Z",
     "iopub.execute_input": "2024-06-09T12:28:53.431659Z",
     "iopub.status.idle": "2024-06-09T12:28:53.445399Z",
     "shell.execute_reply.started": "2024-06-09T12:28:53.431629Z",
     "shell.execute_reply": "2024-06-09T12:28:53.444201Z"
    },
    "trusted": true
   },
   "execution_count": null,
   "outputs": []
  },
  {
   "cell_type": "code",
   "source": "essays['label'].value_counts()",
   "metadata": {
    "execution": {
     "iopub.status.busy": "2024-06-09T12:28:53.446843Z",
     "iopub.execute_input": "2024-06-09T12:28:53.447299Z",
     "iopub.status.idle": "2024-06-09T12:28:53.467477Z",
     "shell.execute_reply.started": "2024-06-09T12:28:53.447258Z",
     "shell.execute_reply": "2024-06-09T12:28:53.466225Z"
    },
    "trusted": true
   },
   "execution_count": null,
   "outputs": []
  },
  {
   "cell_type": "code",
   "source": "train = essays.head(8500)\nvalid = essays.tail(7807)\ntest = valid.tail(7400)",
   "metadata": {
    "_kg_hide-output": true,
    "execution": {
     "iopub.status.busy": "2024-06-09T12:28:53.468878Z",
     "iopub.execute_input": "2024-06-09T12:28:53.469275Z",
     "iopub.status.idle": "2024-06-09T12:28:53.479039Z",
     "shell.execute_reply.started": "2024-06-09T12:28:53.469218Z",
     "shell.execute_reply": "2024-06-09T12:28:53.477951Z"
    },
    "trusted": true
   },
   "execution_count": null,
   "outputs": []
  },
  {
   "cell_type": "code",
   "source": "print(\"Train rows: \", train.shape[0])\nprint(\"Valid rows: \", valid.shape[0])\nprint(\"Test rows: \", test.shape[0])",
   "metadata": {
    "execution": {
     "iopub.status.busy": "2024-06-09T12:28:53.483774Z",
     "iopub.execute_input": "2024-06-09T12:28:53.484622Z",
     "iopub.status.idle": "2024-06-09T12:28:53.493961Z",
     "shell.execute_reply.started": "2024-06-09T12:28:53.484583Z",
     "shell.execute_reply": "2024-06-09T12:28:53.492407Z"
    },
    "trusted": true
   },
   "execution_count": null,
   "outputs": []
  },
  {
   "cell_type": "code",
   "source": "if DEBUG:\n    train = train.head(150)\n    valid = valid.head(50)\n    test = test.head(100)",
   "metadata": {
    "_kg_hide-output": true,
    "execution": {
     "iopub.status.busy": "2024-06-09T12:28:53.495598Z",
     "iopub.execute_input": "2024-06-09T12:28:53.496062Z",
     "iopub.status.idle": "2024-06-09T12:28:53.50835Z",
     "shell.execute_reply.started": "2024-06-09T12:28:53.496019Z",
     "shell.execute_reply": "2024-06-09T12:28:53.507193Z"
    },
    "trusted": true
   },
   "execution_count": null,
   "outputs": []
  },
  {
   "cell_type": "code",
   "source": "train = Dataset.from_dict(train)\nvalid = Dataset.from_dict(valid)\ntest = Dataset.from_dict(test)\ndataset = DatasetDict({\"train\": train, \"valid\": valid, \"test\": test})",
   "metadata": {
    "_kg_hide-output": true,
    "execution": {
     "iopub.status.busy": "2024-06-09T12:28:53.510188Z",
     "iopub.execute_input": "2024-06-09T12:28:53.510673Z",
     "iopub.status.idle": "2024-06-09T12:28:54.153086Z",
     "shell.execute_reply.started": "2024-06-09T12:28:53.510631Z",
     "shell.execute_reply": "2024-06-09T12:28:54.15183Z"
    },
    "trusted": true
   },
   "execution_count": null,
   "outputs": []
  },
  {
   "cell_type": "code",
   "source": "model_name = \"distilbert-base-uncased\"\nmodel = AutoModelForSequenceClassification.from_pretrained(model_name)\ntokenizer = AutoTokenizer.from_pretrained(model_name)",
   "metadata": {
    "_kg_hide-output": true,
    "execution": {
     "iopub.status.busy": "2024-06-09T12:28:54.154487Z",
     "iopub.execute_input": "2024-06-09T12:28:54.154852Z",
     "iopub.status.idle": "2024-06-09T12:29:00.027997Z",
     "shell.execute_reply.started": "2024-06-09T12:28:54.154821Z",
     "shell.execute_reply": "2024-06-09T12:29:00.026928Z"
    },
    "trusted": true
   },
   "execution_count": null,
   "outputs": []
  },
  {
   "cell_type": "code",
   "source": "def tokenize(examples):\n    outputs = tokenizer(examples['text'], truncation=True)\n    return outputs\n\ntokenized_dataset = dataset.map(tokenize, batched=True)",
   "metadata": {
    "_kg_hide-output": true,
    "execution": {
     "iopub.status.busy": "2024-06-09T12:29:00.029549Z",
     "iopub.execute_input": "2024-06-09T12:29:00.030016Z",
     "iopub.status.idle": "2024-06-09T12:29:18.860275Z",
     "shell.execute_reply.started": "2024-06-09T12:29:00.029974Z",
     "shell.execute_reply": "2024-06-09T12:29:18.859185Z"
    },
    "trusted": true
   },
   "execution_count": null,
   "outputs": []
  },
  {
   "cell_type": "code",
   "source": "tokenized_dataset",
   "metadata": {
    "execution": {
     "iopub.status.busy": "2024-06-09T12:29:18.861776Z",
     "iopub.execute_input": "2024-06-09T12:29:18.862224Z",
     "iopub.status.idle": "2024-06-09T12:29:18.868447Z",
     "shell.execute_reply.started": "2024-06-09T12:29:18.862195Z",
     "shell.execute_reply": "2024-06-09T12:29:18.867437Z"
    },
    "trusted": true
   },
   "execution_count": null,
   "outputs": []
  },
  {
   "cell_type": "code",
   "source": "def compute_metrics(eval_preds):\n    metric = evaluate.load(\"glue\", \"mrpc\") \n    logits, labels = eval_preds\n    predictions = np.argmax(logits, axis=-1)\n    return metric.compute(predictions=predictions, references=labels)",
   "metadata": {
    "_kg_hide-output": true,
    "execution": {
     "iopub.status.busy": "2024-06-09T12:29:18.86979Z",
     "iopub.execute_input": "2024-06-09T12:29:18.870152Z",
     "iopub.status.idle": "2024-06-09T12:29:18.880452Z",
     "shell.execute_reply.started": "2024-06-09T12:29:18.870097Z",
     "shell.execute_reply": "2024-06-09T12:29:18.879249Z"
    },
    "trusted": true
   },
   "execution_count": null,
   "outputs": []
  },
  {
   "cell_type": "code",
   "source": "training_args = TrainingArguments(num_train_epochs=1,\n                                  output_dir=\"distilbert-food\",\n                                  push_to_hub=True,\n                                  per_device_train_batch_size=8,\n                                  per_device_eval_batch_size=8,\n                                  evaluation_strategy=\"epoch\",\n                                  weight_decay=5e-4)",
   "metadata": {
    "_kg_hide-output": true,
    "execution": {
     "iopub.status.busy": "2024-06-09T12:29:18.882166Z",
     "iopub.execute_input": "2024-06-09T12:29:18.88257Z",
     "iopub.status.idle": "2024-06-09T12:29:18.906109Z",
     "shell.execute_reply.started": "2024-06-09T12:29:18.882539Z",
     "shell.execute_reply": "2024-06-09T12:29:18.90506Z"
    },
    "trusted": true
   },
   "execution_count": null,
   "outputs": []
  },
  {
   "cell_type": "code",
   "source": "data_collator = DataCollatorWithPadding(tokenizer)",
   "metadata": {
    "_kg_hide-output": true,
    "execution": {
     "iopub.status.busy": "2024-06-09T12:29:18.907453Z",
     "iopub.execute_input": "2024-06-09T12:29:18.907792Z",
     "iopub.status.idle": "2024-06-09T12:29:18.912324Z",
     "shell.execute_reply.started": "2024-06-09T12:29:18.907764Z",
     "shell.execute_reply": "2024-06-09T12:29:18.911269Z"
    },
    "trusted": true
   },
   "execution_count": null,
   "outputs": []
  },
  {
   "cell_type": "code",
   "source": "trainer = Trainer(model = model, tokenizer = tokenizer,\n                  data_collator = data_collator,\n                  args = training_args,\n                  train_dataset = tokenized_dataset[\"train\"],\n                  eval_dataset = tokenized_dataset[\"valid\"], \n                  compute_metrics = compute_metrics)",
   "metadata": {
    "_kg_hide-output": true,
    "execution": {
     "iopub.status.busy": "2024-06-09T12:29:18.91359Z",
     "iopub.execute_input": "2024-06-09T12:29:18.913995Z",
     "iopub.status.idle": "2024-06-09T12:29:19.996999Z",
     "shell.execute_reply.started": "2024-06-09T12:29:18.913966Z",
     "shell.execute_reply": "2024-06-09T12:29:19.995905Z"
    },
    "trusted": true
   },
   "execution_count": null,
   "outputs": []
  },
  {
   "cell_type": "code",
   "source": "trainer.train()",
   "metadata": {
    "execution": {
     "iopub.status.busy": "2024-06-09T12:29:19.998284Z",
     "iopub.execute_input": "2024-06-09T12:29:19.998597Z"
    },
    "trusted": true
   },
   "execution_count": null,
   "outputs": []
  },
  {
   "cell_type": "code",
   "source": "# Make prediction on evaluation dataset\ny_pred = trainer.predict(tokenized_dataset[\"test\"]).predictions\ny_pred = np.argmax(y_pred, axis=-1)\n\ny_true = tokenized_dataset[\"test\"][\"label\"]\ny_true = np.array(y_true)\n\n# Print the classification report\nprint(classification_report(y_true, y_pred, digits=4))",
   "metadata": {
    "trusted": true
   },
   "execution_count": null,
   "outputs": []
  },
  {
   "cell_type": "code",
   "source": "model_id = \"Michau96\" + \"/\" + model_name + \"_essay_scoring_kaggle\" ",
   "metadata": {
    "_kg_hide-output": true,
    "trusted": true
   },
   "execution_count": null,
   "outputs": []
  },
  {
   "cell_type": "code",
   "source": "model.push_to_hub(model_id) \ntrainer.push_to_hub(model_id)",
   "metadata": {
    "_kg_hide-output": true,
    "trusted": true
   },
   "execution_count": null,
   "outputs": []
  },
  {
   "cell_type": "code",
   "source": "trainer.save_model('distilbert_essay_scoring_kaggle')",
   "metadata": {
    "_kg_hide-output": true,
    "trusted": true
   },
   "execution_count": null,
   "outputs": []
  },
  {
   "cell_type": "markdown",
   "source": "**Thanks for reading my notebook!**\n\n**If you have any suggestions for improving the analysis or questions, let me know in the comment!**\n\n**If you appreciate my work in this notebook, give upvote!**\n\n**If you have a moment, I recommend looking at my other [projects](https://www.kaggle.com/michau96/code).**",
   "metadata": {}
  }
 ]
}
