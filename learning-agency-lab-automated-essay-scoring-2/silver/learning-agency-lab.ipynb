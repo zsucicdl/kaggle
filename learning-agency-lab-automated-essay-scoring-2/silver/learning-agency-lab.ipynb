{
 "metadata": {
  "kernelspec": {
   "language": "python",
   "display_name": "Python 3",
   "name": "python3"
  },
  "language_info": {
   "name": "python",
   "version": "3.10.13",
   "mimetype": "text/x-python",
   "codemirror_mode": {
    "name": "ipython",
    "version": 3
   },
   "pygments_lexer": "ipython3",
   "nbconvert_exporter": "python",
   "file_extension": ".py"
  },
  "kaggle": {
   "accelerator": "gpu",
   "dataSources": [
    {
     "sourceId": 71485,
     "databundleVersionId": 8059942,
     "sourceType": "competition"
    },
    {
     "sourceId": 8129759,
     "sourceType": "datasetVersion",
     "datasetId": 4805091
    }
   ],
   "dockerImageVersionId": 30684,
   "isInternetEnabled": true,
   "language": "python",
   "sourceType": "notebook",
   "isGpuEnabled": true
  }
 },
 "nbformat_minor": 4,
 "nbformat": 4,
 "cells": [
  {
   "cell_type": "markdown",
   "source": "# *1-Import libraries:*",
   "metadata": {
    "_uuid": "8f2839f25d086af736a60e9eeb907d3b93b6e0e5",
    "_cell_guid": "b1076dfc-b9ad-4769-8c92-a6c4dae69d19",
    "execution": {
     "iopub.status.busy": "2024-04-11T10:32:15.5838Z",
     "iopub.execute_input": "2024-04-11T10:32:15.584237Z",
     "iopub.status.idle": "2024-04-11T10:32:18.142669Z",
     "shell.execute_reply.started": "2024-04-11T10:32:15.584203Z",
     "shell.execute_reply": "2024-04-11T10:32:18.141282Z"
    }
   }
  },
  {
   "cell_type": "code",
   "source": "import numpy as np \nimport pandas as pd \n\nimport matplotlib.pyplot as plt\nimport seaborn as sns\nimport plotly.express as px\nimport plotly.graph_objects as go\nimport plotly.io as pio",
   "metadata": {
    "execution": {
     "iopub.status.busy": "2024-04-15T22:34:16.556418Z",
     "iopub.execute_input": "2024-04-15T22:34:16.557253Z",
     "iopub.status.idle": "2024-04-15T22:34:16.561737Z",
     "shell.execute_reply.started": "2024-04-15T22:34:16.557217Z",
     "shell.execute_reply": "2024-04-15T22:34:16.560758Z"
    },
    "trusted": true
   },
   "execution_count": null,
   "outputs": []
  },
  {
   "cell_type": "markdown",
   "source": "# *2-Importing data:*",
   "metadata": {}
  },
  {
   "cell_type": "code",
   "source": "train_df = pd.read_csv('/kaggle/input/learning-agency-lab-automated-essay-scoring-2/train.csv')\ntest_df = pd.read_csv('/kaggle/input/learning-agency-lab-automated-essay-scoring-2/test.csv')\nsub_df = pd.read_csv('/kaggle/input/learning-agency-lab-automated-essay-scoring-2/sample_submission.csv')",
   "metadata": {
    "execution": {
     "iopub.status.busy": "2024-04-15T22:35:15.308528Z",
     "iopub.execute_input": "2024-04-15T22:35:15.309231Z",
     "iopub.status.idle": "2024-04-15T22:35:15.675357Z",
     "shell.execute_reply.started": "2024-04-15T22:35:15.309199Z",
     "shell.execute_reply": "2024-04-15T22:35:15.674467Z"
    },
    "trusted": true
   },
   "execution_count": null,
   "outputs": []
  },
  {
   "cell_type": "markdown",
   "source": "# *3-Data cleaning:*",
   "metadata": {}
  },
  {
   "cell_type": "code",
   "source": "train_df.head()",
   "metadata": {
    "execution": {
     "iopub.status.busy": "2024-04-15T22:35:19.847193Z",
     "iopub.execute_input": "2024-04-15T22:35:19.847543Z",
     "iopub.status.idle": "2024-04-15T22:35:19.857791Z",
     "shell.execute_reply.started": "2024-04-15T22:35:19.847518Z",
     "shell.execute_reply": "2024-04-15T22:35:19.856823Z"
    },
    "trusted": true
   },
   "execution_count": null,
   "outputs": []
  },
  {
   "cell_type": "code",
   "source": "test_df",
   "metadata": {
    "execution": {
     "iopub.status.busy": "2024-04-15T22:35:26.030145Z",
     "iopub.execute_input": "2024-04-15T22:35:26.030498Z",
     "iopub.status.idle": "2024-04-15T22:35:26.039366Z",
     "shell.execute_reply.started": "2024-04-15T22:35:26.030472Z",
     "shell.execute_reply": "2024-04-15T22:35:26.038358Z"
    },
    "trusted": true
   },
   "execution_count": null,
   "outputs": []
  },
  {
   "cell_type": "code",
   "source": "train_df.info()",
   "metadata": {
    "execution": {
     "iopub.status.busy": "2024-04-15T22:35:28.923487Z",
     "iopub.execute_input": "2024-04-15T22:35:28.923847Z",
     "iopub.status.idle": "2024-04-15T22:35:28.9394Z",
     "shell.execute_reply.started": "2024-04-15T22:35:28.923816Z",
     "shell.execute_reply": "2024-04-15T22:35:28.938495Z"
    },
    "trusted": true
   },
   "execution_count": null,
   "outputs": []
  },
  {
   "cell_type": "code",
   "source": "test_df.info()",
   "metadata": {
    "execution": {
     "iopub.status.busy": "2024-04-15T22:35:31.887369Z",
     "iopub.execute_input": "2024-04-15T22:35:31.887739Z",
     "iopub.status.idle": "2024-04-15T22:35:31.897033Z",
     "shell.execute_reply.started": "2024-04-15T22:35:31.887711Z",
     "shell.execute_reply": "2024-04-15T22:35:31.89605Z"
    },
    "trusted": true
   },
   "execution_count": null,
   "outputs": []
  },
  {
   "cell_type": "code",
   "source": "train_df.describe().transpose().reset_index()",
   "metadata": {
    "execution": {
     "iopub.status.busy": "2024-04-15T22:35:34.995539Z",
     "iopub.execute_input": "2024-04-15T22:35:34.995899Z",
     "iopub.status.idle": "2024-04-15T22:35:35.014183Z",
     "shell.execute_reply.started": "2024-04-15T22:35:34.99587Z",
     "shell.execute_reply": "2024-04-15T22:35:35.013307Z"
    },
    "trusted": true
   },
   "execution_count": null,
   "outputs": []
  },
  {
   "cell_type": "code",
   "source": "test_df.describe().transpose()",
   "metadata": {
    "execution": {
     "iopub.status.busy": "2024-04-15T22:35:44.050511Z",
     "iopub.execute_input": "2024-04-15T22:35:44.050873Z",
     "iopub.status.idle": "2024-04-15T22:35:44.064398Z",
     "shell.execute_reply.started": "2024-04-15T22:35:44.050845Z",
     "shell.execute_reply": "2024-04-15T22:35:44.063477Z"
    },
    "trusted": true
   },
   "execution_count": null,
   "outputs": []
  },
  {
   "cell_type": "code",
   "source": "train_df.isnull().sum()",
   "metadata": {
    "execution": {
     "iopub.status.busy": "2024-04-15T22:35:53.851901Z",
     "iopub.execute_input": "2024-04-15T22:35:53.852255Z",
     "iopub.status.idle": "2024-04-15T22:35:53.86467Z",
     "shell.execute_reply.started": "2024-04-15T22:35:53.852226Z",
     "shell.execute_reply": "2024-04-15T22:35:53.863775Z"
    },
    "trusted": true
   },
   "execution_count": null,
   "outputs": []
  },
  {
   "cell_type": "code",
   "source": "test_df.isnull().sum()",
   "metadata": {
    "execution": {
     "iopub.status.busy": "2024-04-15T22:35:55.491324Z",
     "iopub.execute_input": "2024-04-15T22:35:55.491709Z",
     "iopub.status.idle": "2024-04-15T22:35:55.499806Z",
     "shell.execute_reply.started": "2024-04-15T22:35:55.491676Z",
     "shell.execute_reply": "2024-04-15T22:35:55.49884Z"
    },
    "trusted": true
   },
   "execution_count": null,
   "outputs": []
  },
  {
   "cell_type": "markdown",
   "source": "#### the dataset doesn’t have any null values.",
   "metadata": {}
  },
  {
   "cell_type": "code",
   "source": "X = pd.get_dummies(train_df,drop_first=True)\nX.sum()",
   "metadata": {
    "execution": {
     "iopub.status.busy": "2024-04-15T22:35:57.571475Z",
     "iopub.execute_input": "2024-04-15T22:35:57.571836Z",
     "iopub.status.idle": "2024-04-15T22:35:58.571192Z",
     "shell.execute_reply.started": "2024-04-15T22:35:57.571806Z",
     "shell.execute_reply": "2024-04-15T22:35:58.570219Z"
    },
    "trusted": true
   },
   "execution_count": null,
   "outputs": []
  },
  {
   "cell_type": "markdown",
   "source": "# 4-Data Preprocessing:",
   "metadata": {}
  },
  {
   "cell_type": "code",
   "source": "pip install nltk",
   "metadata": {
    "execution": {
     "iopub.status.busy": "2024-04-15T22:36:20.545885Z",
     "iopub.execute_input": "2024-04-15T22:36:20.546267Z",
     "iopub.status.idle": "2024-04-15T22:36:32.6752Z",
     "shell.execute_reply.started": "2024-04-15T22:36:20.546224Z",
     "shell.execute_reply": "2024-04-15T22:36:32.673984Z"
    },
    "trusted": true
   },
   "execution_count": null,
   "outputs": []
  },
  {
   "cell_type": "code",
   "source": "import nltk",
   "metadata": {
    "execution": {
     "iopub.status.busy": "2024-04-15T22:36:47.803143Z",
     "iopub.execute_input": "2024-04-15T22:36:47.803514Z",
     "iopub.status.idle": "2024-04-15T22:36:47.807944Z",
     "shell.execute_reply.started": "2024-04-15T22:36:47.803488Z",
     "shell.execute_reply": "2024-04-15T22:36:47.806879Z"
    },
    "trusted": true
   },
   "execution_count": null,
   "outputs": []
  },
  {
   "cell_type": "code",
   "source": "nltk.download('punkt')\nnltk.download('stopwords')\nnltk.download('wordnet')",
   "metadata": {
    "execution": {
     "iopub.status.busy": "2024-04-15T22:36:50.406272Z",
     "iopub.execute_input": "2024-04-15T22:36:50.406969Z",
     "iopub.status.idle": "2024-04-15T22:36:50.611382Z",
     "shell.execute_reply.started": "2024-04-15T22:36:50.406935Z",
     "shell.execute_reply": "2024-04-15T22:36:50.610422Z"
    },
    "trusted": true
   },
   "execution_count": null,
   "outputs": []
  },
  {
   "cell_type": "markdown",
   "source": "# *5-Data visualization:*",
   "metadata": {}
  },
  {
   "cell_type": "code",
   "source": "# Visualize the distribution of scores\nplt.hist(train_df['score'])\nplt.xlabel('Score')\nplt.ylabel('Number of documents')\nplt.title('Distribution of scores')\nplt.show()\n",
   "metadata": {
    "execution": {
     "iopub.status.busy": "2024-04-15T22:37:01.414359Z",
     "iopub.execute_input": "2024-04-15T22:37:01.415224Z",
     "iopub.status.idle": "2024-04-15T22:37:01.69094Z",
     "shell.execute_reply.started": "2024-04-15T22:37:01.415189Z",
     "shell.execute_reply": "2024-04-15T22:37:01.689897Z"
    },
    "trusted": true
   },
   "execution_count": null,
   "outputs": []
  },
  {
   "cell_type": "markdown",
   "source": "# 6-*Model Building:*",
   "metadata": {}
  },
  {
   "cell_type": "code",
   "source": "from sklearn.model_selection import train_test_split\nfrom sklearn.feature_extraction.text import TfidfVectorizer\nfrom sklearn.linear_model import LinearRegression\n\nX_train, X_test, y_train, y_test = train_test_split(train_df['full_text'], train_df['score'], test_size=0.2, random_state=101)\n\n\nvectorizer = TfidfVectorizer()\nX_train_vectorized = vectorizer.fit_transform(X_train)\nX_test_vectorized = vectorizer.transform(X_test)\n\n\nmodel = LinearRegression()\nmodel.fit(X_train_vectorized, y_train)\n",
   "metadata": {
    "execution": {
     "iopub.status.busy": "2024-04-15T22:37:43.185745Z",
     "iopub.execute_input": "2024-04-15T22:37:43.186084Z",
     "iopub.status.idle": "2024-04-15T22:38:02.336615Z",
     "shell.execute_reply.started": "2024-04-15T22:37:43.18606Z",
     "shell.execute_reply": "2024-04-15T22:38:02.335351Z"
    },
    "trusted": true
   },
   "execution_count": null,
   "outputs": []
  },
  {
   "cell_type": "markdown",
   "source": "# *7-Model:*",
   "metadata": {}
  },
  {
   "cell_type": "code",
   "source": "from sklearn.metrics import mean_squared_error",
   "metadata": {
    "execution": {
     "iopub.status.busy": "2024-04-15T22:38:10.34151Z",
     "iopub.execute_input": "2024-04-15T22:38:10.341867Z",
     "iopub.status.idle": "2024-04-15T22:38:10.346317Z",
     "shell.execute_reply.started": "2024-04-15T22:38:10.341839Z",
     "shell.execute_reply": "2024-04-15T22:38:10.345294Z"
    },
    "trusted": true
   },
   "execution_count": null,
   "outputs": []
  },
  {
   "cell_type": "code",
   "source": "predictions = model.predict(X_test_vectorized)\n\nmse = mean_squared_error(y_test, predictions)\nprint(\"MSE:\", mse)\n",
   "metadata": {
    "execution": {
     "iopub.status.busy": "2024-04-15T22:38:12.742154Z",
     "iopub.execute_input": "2024-04-15T22:38:12.742531Z",
     "iopub.status.idle": "2024-04-15T22:38:12.75018Z",
     "shell.execute_reply.started": "2024-04-15T22:38:12.742501Z",
     "shell.execute_reply": "2024-04-15T22:38:12.749302Z"
    },
    "trusted": true
   },
   "execution_count": null,
   "outputs": []
  }
 ]
}
