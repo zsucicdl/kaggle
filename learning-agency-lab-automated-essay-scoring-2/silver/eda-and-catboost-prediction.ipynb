{
 "metadata": {
  "kernelspec": {
   "language": "python",
   "display_name": "Python 3",
   "name": "python3"
  },
  "language_info": {
   "name": "python",
   "version": "3.10.13",
   "mimetype": "text/x-python",
   "codemirror_mode": {
    "name": "ipython",
    "version": 3
   },
   "pygments_lexer": "ipython3",
   "nbconvert_exporter": "python",
   "file_extension": ".py"
  },
  "kaggle": {
   "accelerator": "gpu",
   "dataSources": [
    {
     "sourceId": 71485,
     "databundleVersionId": 8059942,
     "sourceType": "competition"
    }
   ],
   "dockerImageVersionId": 30674,
   "isInternetEnabled": true,
   "language": "python",
   "sourceType": "notebook",
   "isGpuEnabled": true
  }
 },
 "nbformat_minor": 4,
 "nbformat": 4,
 "cells": [
  {
   "cell_type": "code",
   "source": "import pandas as pd\nimport numpy as np\nimport matplotlib.pyplot as plt\nimport seaborn as sns\nimport spacy\nimport re\nfrom sklearn.feature_extraction.text import CountVectorizer\nfrom wordcloud import WordCloud\nfrom sklearn.decomposition import LatentDirichletAllocation\nfrom textblob import TextBlob",
   "metadata": {
    "_uuid": "8f2839f25d086af736a60e9eeb907d3b93b6e0e5",
    "_cell_guid": "b1076dfc-b9ad-4769-8c92-a6c4dae69d19",
    "execution": {
     "iopub.status.busy": "2024-04-06T05:21:51.712864Z",
     "iopub.execute_input": "2024-04-06T05:21:51.713568Z",
     "iopub.status.idle": "2024-04-06T05:22:01.557396Z",
     "shell.execute_reply.started": "2024-04-06T05:21:51.713533Z",
     "shell.execute_reply": "2024-04-06T05:22:01.556574Z"
    },
    "trusted": true
   },
   "execution_count": null,
   "outputs": []
  },
  {
   "cell_type": "code",
   "source": "nlp = spacy.load('en_core_web_sm')",
   "metadata": {
    "execution": {
     "iopub.status.busy": "2024-04-06T05:22:01.559042Z",
     "iopub.execute_input": "2024-04-06T05:22:01.559558Z",
     "iopub.status.idle": "2024-04-06T05:22:02.718575Z",
     "shell.execute_reply.started": "2024-04-06T05:22:01.559529Z",
     "shell.execute_reply": "2024-04-06T05:22:02.717697Z"
    },
    "trusted": true
   },
   "execution_count": null,
   "outputs": []
  },
  {
   "cell_type": "code",
   "source": "train_df = pd.read_csv('/kaggle/input/learning-agency-lab-automated-essay-scoring-2/train.csv')\nprint(\"DataFrame shape:\", train_df.shape)",
   "metadata": {
    "execution": {
     "iopub.status.busy": "2024-04-06T05:22:02.719656Z",
     "iopub.execute_input": "2024-04-06T05:22:02.719934Z",
     "iopub.status.idle": "2024-04-06T05:22:03.481205Z",
     "shell.execute_reply.started": "2024-04-06T05:22:02.71991Z",
     "shell.execute_reply": "2024-04-06T05:22:03.480213Z"
    },
    "trusted": true
   },
   "execution_count": null,
   "outputs": []
  },
  {
   "cell_type": "code",
   "source": "print(train_df.head())",
   "metadata": {
    "execution": {
     "iopub.status.busy": "2024-04-06T05:22:03.483063Z",
     "iopub.execute_input": "2024-04-06T05:22:03.483373Z",
     "iopub.status.idle": "2024-04-06T05:22:03.49271Z",
     "shell.execute_reply.started": "2024-04-06T05:22:03.483344Z",
     "shell.execute_reply": "2024-04-06T05:22:03.491769Z"
    },
    "trusted": true
   },
   "execution_count": null,
   "outputs": []
  },
  {
   "cell_type": "code",
   "source": "# Examine the data types and missing values\nprint(\"\\nData types and missing values:\")\nprint(train_df.info())",
   "metadata": {
    "execution": {
     "iopub.status.busy": "2024-04-06T05:22:03.493727Z",
     "iopub.execute_input": "2024-04-06T05:22:03.494025Z",
     "iopub.status.idle": "2024-04-06T05:22:03.519702Z",
     "shell.execute_reply.started": "2024-04-06T05:22:03.493993Z",
     "shell.execute_reply": "2024-04-06T05:22:03.518884Z"
    },
    "trusted": true
   },
   "execution_count": null,
   "outputs": []
  },
  {
   "cell_type": "code",
   "source": "# Analyze the essay scores\nprint(\"\\nEssay score distribution:\")\nprint(train_df['score'].value_counts())",
   "metadata": {
    "execution": {
     "iopub.status.busy": "2024-04-06T05:22:03.520611Z",
     "iopub.execute_input": "2024-04-06T05:22:03.520869Z",
     "iopub.status.idle": "2024-04-06T05:22:03.52719Z",
     "shell.execute_reply.started": "2024-04-06T05:22:03.520846Z",
     "shell.execute_reply": "2024-04-06T05:22:03.526301Z"
    },
    "trusted": true
   },
   "execution_count": null,
   "outputs": []
  },
  {
   "cell_type": "code",
   "source": "# Visualize the score distribution\nplt.figure(figsize=(8, 6))\nsns.countplot(x='score', data=train_df)\nplt.title(\"Essay Score Distribution\")\nplt.xlabel(\"Score\")\nplt.ylabel(\"Count\")\nplt.show()",
   "metadata": {
    "execution": {
     "iopub.status.busy": "2024-04-06T05:22:03.528236Z",
     "iopub.execute_input": "2024-04-06T05:22:03.528524Z",
     "iopub.status.idle": "2024-04-06T05:22:03.8125Z",
     "shell.execute_reply.started": "2024-04-06T05:22:03.528501Z",
     "shell.execute_reply": "2024-04-06T05:22:03.811585Z"
    },
    "trusted": true
   },
   "execution_count": null,
   "outputs": []
  },
  {
   "cell_type": "code",
   "source": "print(\"Essay score summary statistics:\")\nprint(train_df['score'].describe())",
   "metadata": {
    "execution": {
     "iopub.status.busy": "2024-04-06T05:22:31.983273Z",
     "iopub.execute_input": "2024-04-06T05:22:31.984115Z",
     "iopub.status.idle": "2024-04-06T05:22:31.994327Z",
     "shell.execute_reply.started": "2024-04-06T05:22:31.98408Z",
     "shell.execute_reply": "2024-04-06T05:22:31.993492Z"
    },
    "trusted": true
   },
   "execution_count": null,
   "outputs": []
  },
  {
   "cell_type": "code",
   "source": "train_df['essay_length'] = train_df['full_text'].apply(len)\nprint(\"\\nEssay length distribution:\")\nprint(train_df['essay_length'].describe())",
   "metadata": {
    "execution": {
     "iopub.status.busy": "2024-04-06T05:22:32.134993Z",
     "iopub.execute_input": "2024-04-06T05:22:32.135559Z",
     "iopub.status.idle": "2024-04-06T05:22:32.15652Z",
     "shell.execute_reply.started": "2024-04-06T05:22:32.135529Z",
     "shell.execute_reply": "2024-04-06T05:22:32.155596Z"
    },
    "trusted": true
   },
   "execution_count": null,
   "outputs": []
  },
  {
   "cell_type": "code",
   "source": "plt.figure(figsize=(8, 6))\nsns.histplot(data=train_df, x='essay_length', bins=50)\nplt.title(\"Essay Length Distribution\")\nplt.xlabel(\"Length\")\nplt.ylabel(\"Count\")\nplt.show()",
   "metadata": {
    "execution": {
     "iopub.status.busy": "2024-04-06T05:22:32.305929Z",
     "iopub.execute_input": "2024-04-06T05:22:32.306224Z",
     "iopub.status.idle": "2024-04-06T05:22:32.611295Z",
     "shell.execute_reply.started": "2024-04-06T05:22:32.3062Z",
     "shell.execute_reply": "2024-04-06T05:22:32.610384Z"
    },
    "trusted": true
   },
   "execution_count": null,
   "outputs": []
  },
  {
   "cell_type": "code",
   "source": "def preprocess_text(text):\n    text = text.lower()\n    text = re.sub(r'[^a-zA-Z0-9\\s]', '', text)\n    doc = nlp(text)\n    tokens = [token.lemma_ for token in doc if not token.is_stop and not token.is_punct]\n    return ' '.join(tokens)",
   "metadata": {
    "execution": {
     "iopub.status.busy": "2024-04-06T05:22:32.613143Z",
     "iopub.execute_input": "2024-04-06T05:22:32.61354Z",
     "iopub.status.idle": "2024-04-06T05:22:32.619115Z",
     "shell.execute_reply.started": "2024-04-06T05:22:32.613504Z",
     "shell.execute_reply": "2024-04-06T05:22:32.618217Z"
    },
    "trusted": true
   },
   "execution_count": null,
   "outputs": []
  },
  {
   "cell_type": "code",
   "source": "train_df['preprocessed_text'] = train_df['full_text'].apply(preprocess_text)\ntrain_df['word_count'] = train_df['preprocessed_text'].apply(lambda x: len(x.split()))",
   "metadata": {
    "execution": {
     "iopub.status.busy": "2024-04-06T05:22:32.64275Z",
     "iopub.execute_input": "2024-04-06T05:22:32.643061Z",
     "iopub.status.idle": "2024-04-06T05:38:38.288683Z",
     "shell.execute_reply.started": "2024-04-06T05:22:32.643035Z",
     "shell.execute_reply": "2024-04-06T05:38:38.287838Z"
    },
    "trusted": true
   },
   "execution_count": null,
   "outputs": []
  },
  {
   "cell_type": "code",
   "source": "# Identify the most frequent words\nvectorizer = CountVectorizer()\nword_counts = vectorizer.fit_transform(train_df['preprocessed_text'])\nword_freq = pd.DataFrame(word_counts.sum(axis=0), columns=vectorizer.get_feature_names_out(), index=['Frequency'])\nword_freq = word_freq.T.sort_values(by='Frequency', ascending=False)\nprint(\"Most frequent words:\")\nprint(word_freq.head(10))",
   "metadata": {
    "execution": {
     "iopub.status.busy": "2024-04-06T05:38:38.290246Z",
     "iopub.execute_input": "2024-04-06T05:38:38.290546Z",
     "iopub.status.idle": "2024-04-06T05:38:41.362135Z",
     "shell.execute_reply.started": "2024-04-06T05:38:38.290521Z",
     "shell.execute_reply": "2024-04-06T05:38:41.361193Z"
    },
    "trusted": true
   },
   "execution_count": null,
   "outputs": []
  },
  {
   "cell_type": "code",
   "source": "# Create a word cloud visualization\nwordcloud = WordCloud(width=800, height=400, background_color='white').generate(' '.join(train_df['preprocessed_text']))\nplt.figure(figsize=(12, 8))\nplt.imshow(wordcloud, interpolation='bilinear')\nplt.axis('off')\nplt.title(\"Word Cloud\")\nplt.show()",
   "metadata": {
    "execution": {
     "iopub.status.busy": "2024-04-06T05:38:41.363477Z",
     "iopub.execute_input": "2024-04-06T05:38:41.363838Z",
     "iopub.status.idle": "2024-04-06T05:38:59.750668Z",
     "shell.execute_reply.started": "2024-04-06T05:38:41.363806Z",
     "shell.execute_reply": "2024-04-06T05:38:59.749797Z"
    },
    "trusted": true
   },
   "execution_count": null,
   "outputs": []
  },
  {
   "cell_type": "code",
   "source": "# Relationship between essay length and score\nplt.figure(figsize=(8, 6))\nsns.scatterplot(x='word_count', y='score', data=train_df)\nplt.title(\"Essay Length vs. Score\")\nplt.xlabel(\"Word Count\")\nplt.ylabel(\"Score\")\nplt.show()",
   "metadata": {
    "execution": {
     "iopub.status.busy": "2024-04-06T05:38:59.753148Z",
     "iopub.execute_input": "2024-04-06T05:38:59.753425Z",
     "iopub.status.idle": "2024-04-06T05:39:00.070411Z",
     "shell.execute_reply.started": "2024-04-06T05:38:59.753401Z",
     "shell.execute_reply": "2024-04-06T05:39:00.069523Z"
    },
    "trusted": true
   },
   "execution_count": null,
   "outputs": []
  },
  {
   "cell_type": "code",
   "source": "correlation = train_df['word_count'].corr(train_df['score'])\nprint(f\"\\nCorrelation between essay length and score: {correlation:.2f}\")",
   "metadata": {
    "execution": {
     "iopub.status.busy": "2024-04-06T05:39:00.071729Z",
     "iopub.execute_input": "2024-04-06T05:39:00.072096Z",
     "iopub.status.idle": "2024-04-06T05:39:00.079532Z",
     "shell.execute_reply.started": "2024-04-06T05:39:00.072062Z",
     "shell.execute_reply": "2024-04-06T05:39:00.0785Z"
    },
    "trusted": true
   },
   "execution_count": null,
   "outputs": []
  },
  {
   "cell_type": "code",
   "source": "# Topic modeling\nlda = LatentDirichletAllocation(n_components=5, random_state=42)\nlda.fit(word_counts)",
   "metadata": {
    "execution": {
     "iopub.status.busy": "2024-04-06T05:39:00.08078Z",
     "iopub.execute_input": "2024-04-06T05:39:00.081099Z",
     "iopub.status.idle": "2024-04-06T05:40:05.892179Z",
     "shell.execute_reply.started": "2024-04-06T05:39:00.081074Z",
     "shell.execute_reply": "2024-04-06T05:40:05.891216Z"
    },
    "trusted": true
   },
   "execution_count": null,
   "outputs": []
  },
  {
   "cell_type": "code",
   "source": "topic_keywords = []\nfor topic in lda.components_:\n    top_keywords = [vectorizer.get_feature_names_out()[i] for i in topic.argsort()[:-11:-1]]\n    topic_keywords.append(top_keywords)",
   "metadata": {
    "execution": {
     "iopub.status.busy": "2024-04-06T05:40:05.893427Z",
     "iopub.execute_input": "2024-04-06T05:40:05.893822Z",
     "iopub.status.idle": "2024-04-06T05:40:07.777701Z",
     "shell.execute_reply.started": "2024-04-06T05:40:05.893787Z",
     "shell.execute_reply": "2024-04-06T05:40:07.776895Z"
    },
    "trusted": true
   },
   "execution_count": null,
   "outputs": []
  },
  {
   "cell_type": "code",
   "source": "print(\"\\nTopic modeling results:\")\nfor i, keywords in enumerate(topic_keywords):\n    print(f\"Topic {i+1}: {', '.join(keywords)}\")",
   "metadata": {
    "execution": {
     "iopub.status.busy": "2024-04-06T05:40:07.77911Z",
     "iopub.execute_input": "2024-04-06T05:40:07.779492Z",
     "iopub.status.idle": "2024-04-06T05:40:07.785172Z",
     "shell.execute_reply.started": "2024-04-06T05:40:07.779437Z",
     "shell.execute_reply": "2024-04-06T05:40:07.784307Z"
    },
    "trusted": true
   },
   "execution_count": null,
   "outputs": []
  },
  {
   "cell_type": "code",
   "source": "# Sentiment analysis\ntrain_df['sentiment'] = train_df['full_text'].apply(lambda x: TextBlob(x).sentiment.polarity)\nprint(\"\\nSentiment analysis results:\")\nprint(train_df['sentiment'].describe())",
   "metadata": {
    "execution": {
     "iopub.status.busy": "2024-04-06T05:40:07.786504Z",
     "iopub.execute_input": "2024-04-06T05:40:07.786843Z",
     "iopub.status.idle": "2024-04-06T05:40:56.523407Z",
     "shell.execute_reply.started": "2024-04-06T05:40:07.786812Z",
     "shell.execute_reply": "2024-04-06T05:40:56.522517Z"
    },
    "trusted": true
   },
   "execution_count": null,
   "outputs": []
  },
  {
   "cell_type": "code",
   "source": "from sklearn.model_selection import train_test_split\nfrom sklearn.feature_extraction.text import TfidfVectorizer\n\nX = train_df['preprocessed_text']\ny = train_df['score']\nX_train, X_val, y_train, y_val = train_test_split(X, y, test_size=0.2, random_state=42)",
   "metadata": {
    "execution": {
     "iopub.status.busy": "2024-04-06T05:40:56.526903Z",
     "iopub.execute_input": "2024-04-06T05:40:56.527205Z",
     "iopub.status.idle": "2024-04-06T05:40:56.537664Z",
     "shell.execute_reply.started": "2024-04-06T05:40:56.52718Z",
     "shell.execute_reply": "2024-04-06T05:40:56.536757Z"
    },
    "trusted": true
   },
   "execution_count": null,
   "outputs": []
  },
  {
   "cell_type": "code",
   "source": "tfidf = TfidfVectorizer()\nX_train_tfidf = tfidf.fit_transform(X_train)\nX_val_tfidf = tfidf.transform(X_val)",
   "metadata": {
    "execution": {
     "iopub.status.busy": "2024-04-06T05:40:56.538771Z",
     "iopub.execute_input": "2024-04-06T05:40:56.53914Z",
     "iopub.status.idle": "2024-04-06T05:40:59.504789Z",
     "shell.execute_reply.started": "2024-04-06T05:40:56.539105Z",
     "shell.execute_reply": "2024-04-06T05:40:59.50379Z"
    },
    "trusted": true
   },
   "execution_count": null,
   "outputs": []
  },
  {
   "cell_type": "code",
   "source": "from catboost import CatBoostClassifier\nfrom sklearn.metrics import accuracy_score, precision_score, recall_score, f1_score, classification_report",
   "metadata": {
    "execution": {
     "iopub.status.busy": "2024-04-06T05:40:59.50602Z",
     "iopub.execute_input": "2024-04-06T05:40:59.506317Z",
     "iopub.status.idle": "2024-04-06T05:40:59.839432Z",
     "shell.execute_reply.started": "2024-04-06T05:40:59.506293Z",
     "shell.execute_reply": "2024-04-06T05:40:59.838481Z"
    },
    "trusted": true
   },
   "execution_count": null,
   "outputs": []
  },
  {
   "cell_type": "code",
   "source": "# Initialize CatBoostClassifier\ncatboost_model = CatBoostClassifier(\n    iterations=1000,\n    task_type=\"GPU\",\n    learning_rate=0.1,\n    depth=6,\n    loss_function='MultiClass',\n    random_seed=42,\n    verbose=True\n)",
   "metadata": {
    "execution": {
     "iopub.status.busy": "2024-04-06T05:40:59.840607Z",
     "iopub.execute_input": "2024-04-06T05:40:59.840953Z",
     "iopub.status.idle": "2024-04-06T05:40:59.851274Z",
     "shell.execute_reply.started": "2024-04-06T05:40:59.84092Z",
     "shell.execute_reply": "2024-04-06T05:40:59.850459Z"
    },
    "trusted": true
   },
   "execution_count": null,
   "outputs": []
  },
  {
   "cell_type": "code",
   "source": "# Train the CatBoost model\ncatboost_model.fit(X_train_tfidf, y_train)",
   "metadata": {
    "trusted": true
   },
   "execution_count": null,
   "outputs": []
  },
  {
   "cell_type": "code",
   "source": "# Save the trained CatBoost model to disk\ncatboost_model.save_model('catboost_model.cbm')\n\n# Save the TF-IDF vectorizer to disk\nimport joblib\njoblib.dump(tfidf, 'tfidf_vectorizer.pkl')",
   "metadata": {
    "execution": {
     "iopub.status.busy": "2024-04-06T05:43:58.468032Z",
     "iopub.execute_input": "2024-04-06T05:43:58.468414Z",
     "iopub.status.idle": "2024-04-06T05:43:59.06034Z",
     "shell.execute_reply.started": "2024-04-06T05:43:58.468383Z",
     "shell.execute_reply": "2024-04-06T05:43:59.059403Z"
    },
    "trusted": true
   },
   "execution_count": null,
   "outputs": []
  }
 ]
}
