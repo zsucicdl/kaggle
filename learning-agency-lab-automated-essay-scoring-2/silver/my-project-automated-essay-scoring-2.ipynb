{
 "metadata": {
  "kernelspec": {
   "language": "python",
   "display_name": "Python 3",
   "name": "python3"
  },
  "language_info": {
   "name": "python",
   "version": "3.10.13",
   "mimetype": "text/x-python",
   "codemirror_mode": {
    "name": "ipython",
    "version": 3
   },
   "pygments_lexer": "ipython3",
   "nbconvert_exporter": "python",
   "file_extension": ".py"
  },
  "kaggle": {
   "accelerator": "none",
   "dataSources": [
    {
     "sourceId": 71485,
     "databundleVersionId": 8059942,
     "sourceType": "competition"
    }
   ],
   "dockerImageVersionId": 30684,
   "isInternetEnabled": false,
   "language": "python",
   "sourceType": "notebook",
   "isGpuEnabled": false
  }
 },
 "nbformat_minor": 4,
 "nbformat": 4,
 "cells": [
  {
   "cell_type": "code",
   "source": "# This Python 3 environment comes with many helpful analytics libraries installed\n# It is defined by the kaggle/python Docker image: https://github.com/kaggle/docker-python\n# For example, here's several helpful packages to load\n\nimport numpy as np # linear algebra\nimport pandas as pd # data processing, CSV file I/O (e.g. pd.read_csv)\n\n# Input data files are available in the read-only \"../input/\" directory\n# For example, running this (by clicking run or pressing Shift+Enter) will list all files under the input directory\n\nimport os\nfor dirname, _, filenames in os.walk('/kaggle/input'):\n    for filename in filenames:\n        print(os.path.join(dirname, filename))\n\n# You can write up to 20GB to the current directory (/kaggle/working/) that gets preserved as output when you create a version using \"Save & Run All\" \n# You can also write temporary files to /kaggle/temp/, but they won't be saved outside of the current session",
   "metadata": {
    "_uuid": "8f2839f25d086af736a60e9eeb907d3b93b6e0e5",
    "_cell_guid": "b1076dfc-b9ad-4769-8c92-a6c4dae69d19",
    "execution": {
     "iopub.status.busy": "2024-04-16T01:07:21.964472Z",
     "iopub.execute_input": "2024-04-16T01:07:21.964876Z",
     "iopub.status.idle": "2024-04-16T01:07:23.132139Z",
     "shell.execute_reply.started": "2024-04-16T01:07:21.964843Z",
     "shell.execute_reply": "2024-04-16T01:07:23.130571Z"
    },
    "trusted": true
   },
   "execution_count": null,
   "outputs": []
  },
  {
   "cell_type": "code",
   "source": "import pandas as pd\nimport numpy as np",
   "metadata": {
    "execution": {
     "iopub.status.busy": "2024-04-16T01:07:28.118063Z",
     "iopub.execute_input": "2024-04-16T01:07:28.11847Z",
     "iopub.status.idle": "2024-04-16T01:07:28.123697Z",
     "shell.execute_reply.started": "2024-04-16T01:07:28.118437Z",
     "shell.execute_reply": "2024-04-16T01:07:28.122495Z"
    },
    "trusted": true
   },
   "execution_count": null,
   "outputs": []
  },
  {
   "cell_type": "code",
   "source": "test = pd.read_csv('/kaggle/input/learning-agency-lab-automated-essay-scoring-2/test.csv')",
   "metadata": {
    "execution": {
     "iopub.status.busy": "2024-04-16T01:08:06.785638Z",
     "iopub.execute_input": "2024-04-16T01:08:06.786338Z",
     "iopub.status.idle": "2024-04-16T01:08:06.805831Z",
     "shell.execute_reply.started": "2024-04-16T01:08:06.786293Z",
     "shell.execute_reply": "2024-04-16T01:08:06.804942Z"
    },
    "trusted": true
   },
   "execution_count": null,
   "outputs": []
  },
  {
   "cell_type": "code",
   "source": "train = pd.read_csv('/kaggle/input/learning-agency-lab-automated-essay-scoring-2/train.csv')",
   "metadata": {
    "execution": {
     "iopub.status.busy": "2024-04-16T01:08:08.70485Z",
     "iopub.execute_input": "2024-04-16T01:08:08.705599Z",
     "iopub.status.idle": "2024-04-16T01:08:09.560745Z",
     "shell.execute_reply.started": "2024-04-16T01:08:08.705552Z",
     "shell.execute_reply": "2024-04-16T01:08:09.559643Z"
    },
    "trusted": true
   },
   "execution_count": null,
   "outputs": []
  },
  {
   "cell_type": "markdown",
   "source": "Preprocessing Text",
   "metadata": {}
  },
  {
   "cell_type": "code",
   "source": "import re\n\ndef preprocess_text(text):\n    # Convert to lowercase\n    text = text.lower()\n    # Remove punctuation and numbers\n    text = re.sub(r'[^a-zA-Z\\s]', '', text, re.I|re.A)\n    # Remove extra spaces\n    text = re.sub(r'\\s+', ' ', text).strip()\n    return text\n\n# Apply the preprocessing function to the training data\ntrain['clean_text'] = train['full_text'].apply(preprocess_text)\ntrain[['full_text', 'clean_text']].head()",
   "metadata": {
    "execution": {
     "iopub.status.busy": "2024-04-16T01:08:39.946304Z",
     "iopub.execute_input": "2024-04-16T01:08:39.946737Z",
     "iopub.status.idle": "2024-04-16T01:08:44.793844Z",
     "shell.execute_reply.started": "2024-04-16T01:08:39.946686Z",
     "shell.execute_reply": "2024-04-16T01:08:44.792733Z"
    },
    "trusted": true
   },
   "execution_count": null,
   "outputs": []
  },
  {
   "cell_type": "code",
   "source": "train.columns",
   "metadata": {
    "execution": {
     "iopub.status.busy": "2024-04-16T01:08:56.029052Z",
     "iopub.execute_input": "2024-04-16T01:08:56.029469Z",
     "iopub.status.idle": "2024-04-16T01:08:56.036574Z",
     "shell.execute_reply.started": "2024-04-16T01:08:56.029434Z",
     "shell.execute_reply": "2024-04-16T01:08:56.035377Z"
    },
    "trusted": true
   },
   "execution_count": null,
   "outputs": []
  },
  {
   "cell_type": "markdown",
   "source": "Use the TF-IDF (Term Frequency-Inverse Document Frequency) vectorization",
   "metadata": {}
  },
  {
   "cell_type": "code",
   "source": "from sklearn.feature_extraction.text import TfidfVectorizer\n\n# Initialize the TF-IDF Vectorizer\nvectorizer = TfidfVectorizer(max_features=5000)\n\n# Fit and transform the training data\ntfidf_train = vectorizer.fit_transform(train['clean_text'])\n\n# Display the shape of the transformed data\ntfidf_train.shape",
   "metadata": {
    "execution": {
     "iopub.status.busy": "2024-04-16T01:09:32.85505Z",
     "iopub.execute_input": "2024-04-16T01:09:32.855433Z",
     "iopub.status.idle": "2024-04-16T01:09:41.570247Z",
     "shell.execute_reply.started": "2024-04-16T01:09:32.855404Z",
     "shell.execute_reply": "2024-04-16T01:09:41.569147Z"
    },
    "trusted": true
   },
   "execution_count": null,
   "outputs": []
  },
  {
   "cell_type": "markdown",
   "source": "Train the model using the TF-IDF features and the essay scores.",
   "metadata": {}
  },
  {
   "cell_type": "code",
   "source": "from sklearn.linear_model import Ridge\n\n# Initialize the Ridge Regression model\nmodel = Ridge()\n\n# Train the model on the training data\nmodel.fit(tfidf_train, train['score'])",
   "metadata": {
    "execution": {
     "iopub.status.busy": "2024-04-16T01:10:18.815966Z",
     "iopub.execute_input": "2024-04-16T01:10:18.816345Z",
     "iopub.status.idle": "2024-04-16T01:10:20.222046Z",
     "shell.execute_reply.started": "2024-04-16T01:10:18.816317Z",
     "shell.execute_reply": "2024-04-16T01:10:20.22062Z"
    },
    "trusted": true
   },
   "execution_count": null,
   "outputs": []
  },
  {
   "cell_type": "code",
   "source": "# Apply the preprocessing function to the test data\ntest['clean_text'] = test['full_text'].apply(preprocess_text)\n\n# Transform the test data using the trained TF-IDF vectorizer\ntfidf_test = vectorizer.transform(test['clean_text'])\n\n# Use the trained model to predict the scores for the test data\npredicted_scores = model.predict(tfidf_test)",
   "metadata": {
    "execution": {
     "iopub.status.busy": "2024-04-16T01:11:08.614396Z",
     "iopub.execute_input": "2024-04-16T01:11:08.615071Z",
     "iopub.status.idle": "2024-04-16T01:11:08.627313Z",
     "shell.execute_reply.started": "2024-04-16T01:11:08.615037Z",
     "shell.execute_reply": "2024-04-16T01:11:08.625963Z"
    },
    "trusted": true
   },
   "execution_count": null,
   "outputs": []
  },
  {
   "cell_type": "code",
   "source": "predicted_scores",
   "metadata": {
    "execution": {
     "iopub.status.busy": "2024-04-16T01:11:22.735166Z",
     "iopub.execute_input": "2024-04-16T01:11:22.736236Z",
     "iopub.status.idle": "2024-04-16T01:11:22.744415Z",
     "shell.execute_reply.started": "2024-04-16T01:11:22.736195Z",
     "shell.execute_reply": "2024-04-16T01:11:22.743056Z"
    },
    "trusted": true
   },
   "execution_count": null,
   "outputs": []
  },
  {
   "cell_type": "markdown",
   "source": "The predicted scores for the essays in the test :\n\n- Essay 1: approximately 2.10\n- Essay 2: approximately 2.87\n- Essay 3: approximately 4.75",
   "metadata": {}
  },
  {
   "cell_type": "markdown",
   "source": "Create Submission csv",
   "metadata": {}
  },
  {
   "cell_type": "code",
   "source": "import pandas as pd\n\n# Create a DataFrame to store the essay IDs and the predicted scores\nsubmission_df = pd.DataFrame({\n    'essay_id': test['full_text'],\n    'predicted_score': predicted_scores\n})\n\n# Save the DataFrame to a CSV file\nsubmission_df.to_csv('submission.csv', index=False)",
   "metadata": {
    "execution": {
     "iopub.status.busy": "2024-04-16T01:14:18.475536Z",
     "iopub.execute_input": "2024-04-16T01:14:18.475983Z",
     "iopub.status.idle": "2024-04-16T01:14:18.486476Z",
     "shell.execute_reply.started": "2024-04-16T01:14:18.475948Z",
     "shell.execute_reply": "2024-04-16T01:14:18.485145Z"
    },
    "trusted": true
   },
   "execution_count": null,
   "outputs": []
  },
  {
   "cell_type": "code",
   "source": "submission_df",
   "metadata": {
    "execution": {
     "iopub.status.busy": "2024-04-16T01:14:34.165254Z",
     "iopub.execute_input": "2024-04-16T01:14:34.165681Z",
     "iopub.status.idle": "2024-04-16T01:14:34.178177Z",
     "shell.execute_reply.started": "2024-04-16T01:14:34.165647Z",
     "shell.execute_reply": "2024-04-16T01:14:34.176672Z"
    },
    "trusted": true
   },
   "execution_count": null,
   "outputs": []
  }
 ]
}
