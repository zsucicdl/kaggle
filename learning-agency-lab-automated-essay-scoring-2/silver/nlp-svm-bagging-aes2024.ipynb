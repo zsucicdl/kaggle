{
 "metadata": {
  "kernelspec": {
   "language": "python",
   "display_name": "Python 3",
   "name": "python3"
  },
  "language_info": {
   "name": "python",
   "version": "3.10.13",
   "mimetype": "text/x-python",
   "codemirror_mode": {
    "name": "ipython",
    "version": 3
   },
   "pygments_lexer": "ipython3",
   "nbconvert_exporter": "python",
   "file_extension": ".py"
  },
  "kaggle": {
   "accelerator": "none",
   "dataSources": [
    {
     "sourceId": 71485,
     "databundleVersionId": 8059942,
     "sourceType": "competition"
    }
   ],
   "isInternetEnabled": false,
   "language": "python",
   "sourceType": "notebook",
   "isGpuEnabled": false
  }
 },
 "nbformat_minor": 4,
 "nbformat": 4,
 "cells": [
  {
   "cell_type": "markdown",
   "source": "## Import Libraries",
   "metadata": {}
  },
  {
   "cell_type": "code",
   "source": "import pandas as pd\nimport numpy as np\nimport os\nimport re\nimport string\nfrom textblob import TextBlob\nimport nltk\nfrom sklearn.feature_extraction.text import TfidfVectorizer\nfrom sklearn.model_selection import train_test_split\nfrom sklearn.metrics import classification_report\nfrom sklearn.metrics import confusion_matrix\nfrom sklearn.metrics import cohen_kappa_score",
   "metadata": {
    "execution": {
     "iopub.status.busy": "2024-05-16T13:19:23.535842Z",
     "iopub.execute_input": "2024-05-16T13:19:23.537097Z",
     "iopub.status.idle": "2024-05-16T13:19:24.93267Z",
     "shell.execute_reply.started": "2024-05-16T13:19:23.537031Z",
     "shell.execute_reply": "2024-05-16T13:19:24.931333Z"
    },
    "trusted": true
   },
   "execution_count": null,
   "outputs": []
  },
  {
   "cell_type": "code",
   "source": "# os.remove(\"/kaggle/working/submission.csv\")\n# os.remove(\"/kaggle/working/state.db\")",
   "metadata": {
    "execution": {
     "iopub.status.busy": "2024-05-16T13:19:24.935167Z",
     "iopub.execute_input": "2024-05-16T13:19:24.93591Z",
     "iopub.status.idle": "2024-05-16T13:19:24.941436Z",
     "shell.execute_reply.started": "2024-05-16T13:19:24.935861Z",
     "shell.execute_reply": "2024-05-16T13:19:24.939966Z"
    },
    "trusted": true
   },
   "execution_count": null,
   "outputs": []
  },
  {
   "cell_type": "markdown",
   "source": "## Data exploration",
   "metadata": {}
  },
  {
   "cell_type": "code",
   "source": "for dirname, _, filenames in os.walk('/kaggle/input'):\n    for filename in filenames:\n        print(os.path.join(dirname, filename))\n        \n\n# display datasets\n\ntrain_df1 = pd.read_csv('/kaggle/input/learning-agency-lab-automated-essay-scoring-2/train.csv')",
   "metadata": {
    "execution": {
     "iopub.status.busy": "2024-05-16T13:19:24.943331Z",
     "iopub.execute_input": "2024-05-16T13:19:24.943905Z",
     "iopub.status.idle": "2024-05-16T13:19:25.419838Z",
     "shell.execute_reply.started": "2024-05-16T13:19:24.943814Z",
     "shell.execute_reply": "2024-05-16T13:19:25.418681Z"
    },
    "trusted": true
   },
   "execution_count": null,
   "outputs": []
  },
  {
   "cell_type": "code",
   "source": "train_df1['score'].dtypes",
   "metadata": {
    "execution": {
     "iopub.status.busy": "2024-05-16T13:19:25.422146Z",
     "iopub.execute_input": "2024-05-16T13:19:25.423087Z",
     "iopub.status.idle": "2024-05-16T13:19:25.433562Z",
     "shell.execute_reply.started": "2024-05-16T13:19:25.423046Z",
     "shell.execute_reply": "2024-05-16T13:19:25.431844Z"
    },
    "trusted": true
   },
   "execution_count": null,
   "outputs": []
  },
  {
   "cell_type": "code",
   "source": "train_df1.head(10)",
   "metadata": {
    "execution": {
     "iopub.status.busy": "2024-05-16T13:19:25.435349Z",
     "iopub.execute_input": "2024-05-16T13:19:25.435763Z",
     "iopub.status.idle": "2024-05-16T13:19:25.457532Z",
     "shell.execute_reply.started": "2024-05-16T13:19:25.435715Z",
     "shell.execute_reply": "2024-05-16T13:19:25.455062Z"
    },
    "trusted": true
   },
   "execution_count": null,
   "outputs": []
  },
  {
   "cell_type": "code",
   "source": "train_df1['score'].value_counts()",
   "metadata": {
    "execution": {
     "iopub.status.busy": "2024-05-16T13:19:25.460256Z",
     "iopub.execute_input": "2024-05-16T13:19:25.461158Z",
     "iopub.status.idle": "2024-05-16T13:19:25.476323Z",
     "shell.execute_reply.started": "2024-05-16T13:19:25.461106Z",
     "shell.execute_reply": "2024-05-16T13:19:25.474888Z"
    },
    "trusted": true
   },
   "execution_count": null,
   "outputs": []
  },
  {
   "cell_type": "markdown",
   "source": "## Data Cleaning",
   "metadata": {}
  },
  {
   "cell_type": "code",
   "source": "contractions_dict = { \"ain't\": \"are not\",\"'s\":\" is\",\"aren't\": \"are not\",\n                     \"can't\": \"cannot\",\"can't've\": \"cannot have\",\n                     \"'cause\": \"because\",\"could've\": \"could have\",\"couldn't\": \"could not\",\n                     \"couldn't've\": \"could not have\", \"didn't\": \"did not\",\"doesn't\": \"does not\",\n                     \"don't\": \"do not\",\"hadn't\": \"had not\",\"hadn't've\": \"had not have\",\n                     \"hasn't\": \"has not\",\"haven't\": \"have not\",\"he'd\": \"he would\",\n                     \"he'd've\": \"he would have\",\"he'll\": \"he will\", \"he'll've\": \"he will have\",\n                     \"how'd\": \"how did\",\"how'd'y\": \"how do you\",\"how'll\": \"how will\",\n                     \"I'd\": \"I would\", \"I'd've\": \"I would have\",\"I'll\": \"I will\",\n                     \"I'll've\": \"I will have\",\"I'm\": \"I am\",\"I've\": \"I have\", \"isn't\": \"is not\",\n                     \"it'd\": \"it would\",\"it'd've\": \"it would have\",\"it'll\": \"it will\",\n                     \"it'll've\": \"it will have\", \"let's\": \"let us\",\"ma'am\": \"madam\",\n                     \"mayn't\": \"may not\",\"might've\": \"might have\",\"mightn't\": \"might not\", \n                     \"mightn't've\": \"might not have\",\"must've\": \"must have\",\"mustn't\": \"must not\",\n                     \"mustn't've\": \"must not have\", \"needn't\": \"need not\",\n                     \"needn't've\": \"need not have\",\"o'clock\": \"of the clock\",\"oughtn't\": \"ought not\",\n                     \"oughtn't've\": \"ought not have\",\"shan't\": \"shall not\",\"sha'n't\": \"shall not\",\n                     \"shan't've\": \"shall not have\",\"she'd\": \"she would\",\"she'd've\": \"she would have\",\n                     \"she'll\": \"she will\", \"she'll've\": \"she will have\",\"should've\": \"should have\",\n                     \"shouldn't\": \"should not\", \"shouldn't've\": \"should not have\",\"so've\": \"so have\",\n                     \"that'd\": \"that would\",\"that'd've\": \"that would have\", \"there'd\": \"there would\",\n                     \"there'd've\": \"there would have\", \"they'd\": \"they would\",\n                     \"they'd've\": \"they would have\",\"they'll\": \"they will\",\n                     \"they'll've\": \"they will have\", \"they're\": \"they are\",\"they've\": \"they have\",\n                     \"to've\": \"to have\",\"wasn't\": \"was not\",\"we'd\": \"we would\",\n                     \"we'd've\": \"we would have\",\"we'll\": \"we will\",\"we'll've\": \"we will have\",\n                     \"we're\": \"we are\",\"we've\": \"we have\", \"weren't\": \"were not\",\"what'll\": \"what will\",\n                     \"what'll've\": \"what will have\",\"what're\": \"what are\", \"what've\": \"what have\",\n                     \"when've\": \"when have\",\"where'd\": \"where did\", \"where've\": \"where have\",\n                     \"who'll\": \"who will\",\"who'll've\": \"who will have\",\"who've\": \"who have\",\n                     \"why've\": \"why have\",\"will've\": \"will have\",\"won't\": \"will not\",\n                     \"won't've\": \"will not have\", \"would've\": \"would have\",\"wouldn't\": \"would not\",\n                     \"wouldn't've\": \"would not have\",\"y'all\": \"you all\", \"y'all'd\": \"you all would\",\n                     \"y'all'd've\": \"you all would have\",\"y'all're\": \"you all are\",\n                     \"y'all've\": \"you all have\", \"you'd\": \"you would\",\"you'd've\": \"you would have\",\n                     \"you'll\": \"you will\",\"you'll've\": \"you will have\", \"you're\": \"you are\",\n                     \"you've\": \"you have\"}",
   "metadata": {
    "execution": {
     "iopub.status.busy": "2024-05-16T13:19:25.479239Z",
     "iopub.execute_input": "2024-05-16T13:19:25.479827Z",
     "iopub.status.idle": "2024-05-16T13:19:25.499456Z",
     "shell.execute_reply.started": "2024-05-16T13:19:25.479778Z",
     "shell.execute_reply": "2024-05-16T13:19:25.497038Z"
    },
    "trusted": true
   },
   "execution_count": null,
   "outputs": []
  },
  {
   "cell_type": "code",
   "source": "# Regular expression for finding contractions\ncontractions_re=re.compile('(%s)' % '|'.join(contractions_dict.keys()))\n\n# Function for expanding contractions\ndef expand_contractions(text,contractions_dict=contractions_dict):\n    def replace(match):\n        return contractions_dict[match.group(0)]\n    return contractions_re.sub(replace, text)",
   "metadata": {
    "execution": {
     "iopub.status.busy": "2024-05-16T13:19:25.501424Z",
     "iopub.execute_input": "2024-05-16T13:19:25.502361Z",
     "iopub.status.idle": "2024-05-16T13:19:25.523019Z",
     "shell.execute_reply.started": "2024-05-16T13:19:25.502316Z",
     "shell.execute_reply": "2024-05-16T13:19:25.521549Z"
    },
    "trusted": true
   },
   "execution_count": null,
   "outputs": []
  },
  {
   "cell_type": "code",
   "source": "def removeHTML(x):\n    html=re.compile(r'<.*?>')\n    return html.sub(r'',x)",
   "metadata": {
    "execution": {
     "iopub.status.busy": "2024-05-16T13:19:25.52541Z",
     "iopub.execute_input": "2024-05-16T13:19:25.526094Z",
     "iopub.status.idle": "2024-05-16T13:19:25.534588Z",
     "shell.execute_reply.started": "2024-05-16T13:19:25.526045Z",
     "shell.execute_reply": "2024-05-16T13:19:25.533591Z"
    },
    "trusted": true
   },
   "execution_count": null,
   "outputs": []
  },
  {
   "cell_type": "code",
   "source": "def dataPreprocessing(x):\n    x = x.apply(expand_contractions)\n    x = x.apply(lambda x: re.sub('\\w*\\d\\w*','', x)) # Remove digits and words containing digits\n    x = x.apply(lambda s: s.lower()) # lower case texts\n    x = x.apply(lambda x: re.sub('[%s]' % re.escape(string.punctuation), '', x)) # remove punctuations\n    x = x.apply(lambda x: re.sub(' +',' ',x)) # remove extra space after remove punctuations\n    x = x.apply(removeHTML)\n    x = x.apply(lambda s: re.sub(\"@\\w+\", '', s))  \n    x = x.apply(lambda s: re.sub(\"'\\d+\", '', s))\n    x = x.apply(lambda s: re.sub(\"\\d+\", '',s))\n    x = x.apply(lambda s: re.sub(\"http\\w+\", '',s))\n    x = x.apply(lambda s: re.sub(r\"\\s+\", \" \", s))\n    x = x.apply(lambda s: re.sub(r\"\\.+\", \".\", s))\n    x = x.apply(lambda s: re.sub(r\"\\,+\", \",\", s))\n    x = x.apply(lambda s: re.sub('\\n', '',s))\n    x = x.apply(lambda s: re.sub('[^\\w\\s]', '',s))\n    x = x.apply(lambda s: s.strip()) \n    return x",
   "metadata": {
    "execution": {
     "iopub.status.busy": "2024-05-16T13:19:25.540069Z",
     "iopub.execute_input": "2024-05-16T13:19:25.541302Z",
     "iopub.status.idle": "2024-05-16T13:19:25.554884Z",
     "shell.execute_reply.started": "2024-05-16T13:19:25.541237Z",
     "shell.execute_reply": "2024-05-16T13:19:25.552975Z"
    },
    "trusted": true
   },
   "execution_count": null,
   "outputs": []
  },
  {
   "cell_type": "code",
   "source": "x = dataPreprocessing(train_df1['full_text'])",
   "metadata": {
    "execution": {
     "iopub.status.busy": "2024-05-16T13:19:25.556623Z",
     "iopub.execute_input": "2024-05-16T13:19:25.557494Z",
     "iopub.status.idle": "2024-05-16T13:19:45.384675Z",
     "shell.execute_reply.started": "2024-05-16T13:19:25.557456Z",
     "shell.execute_reply": "2024-05-16T13:19:45.383392Z"
    },
    "trusted": true
   },
   "execution_count": null,
   "outputs": []
  },
  {
   "cell_type": "code",
   "source": "train_df1['full_text'] = x",
   "metadata": {
    "execution": {
     "iopub.status.busy": "2024-05-16T13:19:45.387446Z",
     "iopub.execute_input": "2024-05-16T13:19:45.387848Z",
     "iopub.status.idle": "2024-05-16T13:19:45.394996Z",
     "shell.execute_reply.started": "2024-05-16T13:19:45.387815Z",
     "shell.execute_reply": "2024-05-16T13:19:45.393681Z"
    },
    "trusted": true
   },
   "execution_count": null,
   "outputs": []
  },
  {
   "cell_type": "markdown",
   "source": "## Identify Essay Characteristics",
   "metadata": {}
  },
  {
   "cell_type": "code",
   "source": "# nltk.download('punkt')  \n# nltk.download('averaged_perceptron_tagger')  \n  \ndef lexical_diversity(text):  \n    return len(set(text)) / len(text)  \n  \ndef get_metrics(text):  \n    blob = TextBlob(text)  \n      \n    # Number of words  \n    num_words = len(blob.words)  \n      \n    # Lexical diversity  \n    lex_div = lexical_diversity(blob.words)  \n      \n    # Average sentence length  \n    avg_sent_length = sum(len(sentence.words) for sentence in blob.sentences) / len(blob.sentences)  \n      \n    # Number of adjectives and adverbs  \n    tags = blob.tags  \n    num_adj = len([word for word, tag in tags if tag == 'JJ'])  \n    num_adv = len([word for word, tag in tags if tag == 'RB'])  \n    num_noun = len([word for word, tag in tags if tag == 'NN'])  \n      \n    return num_words, lex_div, avg_sent_length, num_adj, num_adv, num_noun  \n    \n# num_words, lex_div, avg_sent_length, num_adj, num_adv, num_noun = get_metrics(str(train_df1['full_text']))\n  \n# print(f'Number of Words: {num_words}')  \n# print(f'Lexical Diversity: {lex_div}')  \n# print(f'Average Sentence Length: {avg_sent_length}')  \n# print(f'Number of Adjectives: {num_adj}')  \n# print(f'Number of Adverbs: {num_adv}')  \n# print(f'Number of Nouns: {num_noun}')  ",
   "metadata": {
    "execution": {
     "iopub.status.busy": "2024-05-16T13:19:45.396359Z",
     "iopub.execute_input": "2024-05-16T13:19:45.396692Z",
     "iopub.status.idle": "2024-05-16T13:19:45.411465Z",
     "shell.execute_reply.started": "2024-05-16T13:19:45.396664Z",
     "shell.execute_reply": "2024-05-16T13:19:45.410415Z"
    },
    "trusted": true
   },
   "execution_count": null,
   "outputs": []
  },
  {
   "cell_type": "code",
   "source": "# Set 'essay_id' as the index of the DataFrame  \ntrain_df1.set_index('essay_id', inplace=True)  \n  \nfor idx, row in train_df1.iterrows():  \n    num_words, lex_div, avg_sent_length, num_adj, num_adv, num_noun = get_metrics(str(row['full_text']))  \n  \n    train_df1.loc[idx, 'num_words'] = num_words  \n    train_df1.loc[idx, 'lex_div'] = lex_div  \n    train_df1.loc[idx, 'avg_sent_length'] = avg_sent_length  \n    train_df1.loc[idx, 'num_adj'] = num_adj  \n    train_df1.loc[idx, 'num_adv'] = num_adv  \n    train_df1.loc[idx, 'num_noun'] = num_noun  ",
   "metadata": {
    "execution": {
     "iopub.status.busy": "2024-05-16T13:19:45.412697Z",
     "iopub.execute_input": "2024-05-16T13:19:45.41317Z",
     "iopub.status.idle": "2024-05-16T13:28:09.796594Z",
     "shell.execute_reply.started": "2024-05-16T13:19:45.413134Z",
     "shell.execute_reply": "2024-05-16T13:28:09.795049Z"
    },
    "trusted": true
   },
   "execution_count": null,
   "outputs": []
  },
  {
   "cell_type": "code",
   "source": "# train_df1.head(20)\ntrain_df1.tail(20)",
   "metadata": {
    "execution": {
     "iopub.status.busy": "2024-05-16T13:28:09.798401Z",
     "iopub.execute_input": "2024-05-16T13:28:09.798957Z",
     "iopub.status.idle": "2024-05-16T13:28:09.826138Z",
     "shell.execute_reply.started": "2024-05-16T13:28:09.798909Z",
     "shell.execute_reply": "2024-05-16T13:28:09.825007Z"
    },
    "trusted": true
   },
   "execution_count": null,
   "outputs": []
  },
  {
   "cell_type": "markdown",
   "source": "## Preparing Text Data for Exploratory Data Analysis (EDA)",
   "metadata": {}
  },
  {
   "cell_type": "code",
   "source": "# nlp = spacy.load('en_core_web_sm',disable=['parser', 'ner'])",
   "metadata": {
    "execution": {
     "iopub.status.busy": "2024-05-16T13:28:09.827367Z",
     "iopub.execute_input": "2024-05-16T13:28:09.828309Z",
     "iopub.status.idle": "2024-05-16T13:28:09.838358Z",
     "shell.execute_reply.started": "2024-05-16T13:28:09.828268Z",
     "shell.execute_reply": "2024-05-16T13:28:09.837415Z"
    },
    "trusted": true
   },
   "execution_count": null,
   "outputs": []
  },
  {
   "cell_type": "code",
   "source": "# def dataPrep(x):\n#     # remove stopwods and apply lemmatization\n#     x = x.apply(lambda x: ' '.join([token.lemma_ for token in list(nlp(x)) if (token.is_stop==False)]))\n    \n# dataPrep(x)\n# dataPrep(x0)",
   "metadata": {
    "execution": {
     "iopub.status.busy": "2024-05-16T13:28:09.83963Z",
     "iopub.execute_input": "2024-05-16T13:28:09.840277Z",
     "iopub.status.idle": "2024-05-16T13:28:09.852414Z",
     "shell.execute_reply.started": "2024-05-16T13:28:09.840241Z",
     "shell.execute_reply": "2024-05-16T13:28:09.851246Z"
    },
    "trusted": true
   },
   "execution_count": null,
   "outputs": []
  },
  {
   "cell_type": "code",
   "source": "# train_df1['full_text'] = x\n# display(train_df1)",
   "metadata": {
    "execution": {
     "iopub.status.busy": "2024-05-16T13:28:09.853933Z",
     "iopub.execute_input": "2024-05-16T13:28:09.854389Z",
     "iopub.status.idle": "2024-05-16T13:28:09.867921Z",
     "shell.execute_reply.started": "2024-05-16T13:28:09.854347Z",
     "shell.execute_reply": "2024-05-16T13:28:09.86659Z"
    },
    "trusted": true
   },
   "execution_count": null,
   "outputs": []
  },
  {
   "cell_type": "markdown",
   "source": "## Create a Document Term Matrix.",
   "metadata": {}
  },
  {
   "cell_type": "code",
   "source": "# tv = TfidfVectorizer(\n#     stop_words='english',\n#     sublinear_tf=False,\n#     strip_accents='unicode',\n#     binary=True,\n#     analyzer='word',\n#     token_pattern=r'\\w{3,}',  \n#     ngram_range=(3,6),\n#     norm='l1', \n#     use_idf=False, \n#     smooth_idf=False,\n#     max_features=9000000,\n#     min_df=30)",
   "metadata": {
    "execution": {
     "iopub.status.busy": "2024-05-16T13:28:09.869852Z",
     "iopub.execute_input": "2024-05-16T13:28:09.870875Z",
     "iopub.status.idle": "2024-05-16T13:28:09.883054Z",
     "shell.execute_reply.started": "2024-05-16T13:28:09.870813Z",
     "shell.execute_reply": "2024-05-16T13:28:09.881783Z"
    },
    "trusted": true
   },
   "execution_count": null,
   "outputs": []
  },
  {
   "cell_type": "code",
   "source": "# data = tv.fit_transform(train_df1['full_text'])  \n# feature_names = tv.get_feature_names_out()  \n  \n# train_df1_tv = pd.DataFrame(data.toarray(), columns=feature_names)  \n# train_df1_tv.index= train_df1.index  ",
   "metadata": {
    "execution": {
     "iopub.status.busy": "2024-05-16T13:28:09.884769Z",
     "iopub.execute_input": "2024-05-16T13:28:09.885815Z",
     "iopub.status.idle": "2024-05-16T13:28:09.895856Z",
     "shell.execute_reply.started": "2024-05-16T13:28:09.885763Z",
     "shell.execute_reply": "2024-05-16T13:28:09.894514Z"
    },
    "trusted": true
   },
   "execution_count": null,
   "outputs": []
  },
  {
   "cell_type": "code",
   "source": "# # Concatenate the original DataFrame with the TF-IDF DataFrame  \n# train_df1_final = pd.concat([train_df1, train_df1_tv], axis=1) ",
   "metadata": {
    "execution": {
     "iopub.status.busy": "2024-05-16T13:28:09.898473Z",
     "iopub.execute_input": "2024-05-16T13:28:09.898972Z",
     "iopub.status.idle": "2024-05-16T13:28:09.908203Z",
     "shell.execute_reply.started": "2024-05-16T13:28:09.898935Z",
     "shell.execute_reply": "2024-05-16T13:28:09.906958Z"
    },
    "trusted": true
   },
   "execution_count": null,
   "outputs": []
  },
  {
   "cell_type": "markdown",
   "source": "## Splitting data into training and testing sets",
   "metadata": {}
  },
  {
   "cell_type": "code",
   "source": "X = train_df1.drop(['score','full_text'], axis=1)  \ny = train_df1['score']",
   "metadata": {
    "execution": {
     "iopub.status.busy": "2024-05-16T13:28:09.909606Z",
     "iopub.execute_input": "2024-05-16T13:28:09.910046Z",
     "iopub.status.idle": "2024-05-16T13:28:09.921409Z",
     "shell.execute_reply.started": "2024-05-16T13:28:09.910017Z",
     "shell.execute_reply": "2024-05-16T13:28:09.920109Z"
    },
    "trusted": true
   },
   "execution_count": null,
   "outputs": []
  },
  {
   "cell_type": "code",
   "source": "y",
   "metadata": {
    "execution": {
     "iopub.status.busy": "2024-05-16T13:28:09.923164Z",
     "iopub.execute_input": "2024-05-16T13:28:09.92369Z",
     "iopub.status.idle": "2024-05-16T13:28:09.937524Z",
     "shell.execute_reply.started": "2024-05-16T13:28:09.923651Z",
     "shell.execute_reply": "2024-05-16T13:28:09.936322Z"
    },
    "trusted": true
   },
   "execution_count": null,
   "outputs": []
  },
  {
   "cell_type": "code",
   "source": "X_train, X_test, y_train, y_test = train_test_split(X, y, test_size=0.2, random_state=123)",
   "metadata": {
    "execution": {
     "iopub.status.busy": "2024-05-16T13:28:09.938939Z",
     "iopub.execute_input": "2024-05-16T13:28:09.939624Z",
     "iopub.status.idle": "2024-05-16T13:28:09.953662Z",
     "shell.execute_reply.started": "2024-05-16T13:28:09.939587Z",
     "shell.execute_reply": "2024-05-16T13:28:09.952371Z"
    },
    "trusted": true
   },
   "execution_count": null,
   "outputs": []
  },
  {
   "cell_type": "code",
   "source": "y_train",
   "metadata": {
    "execution": {
     "iopub.status.busy": "2024-05-16T13:28:09.95601Z",
     "iopub.execute_input": "2024-05-16T13:28:09.956609Z",
     "iopub.status.idle": "2024-05-16T13:28:09.967613Z",
     "shell.execute_reply.started": "2024-05-16T13:28:09.956576Z",
     "shell.execute_reply": "2024-05-16T13:28:09.966544Z"
    },
    "trusted": true
   },
   "execution_count": null,
   "outputs": []
  },
  {
   "cell_type": "code",
   "source": "X_train",
   "metadata": {
    "execution": {
     "iopub.status.busy": "2024-05-16T13:28:09.969106Z",
     "iopub.execute_input": "2024-05-16T13:28:09.969682Z",
     "iopub.status.idle": "2024-05-16T13:28:09.991819Z",
     "shell.execute_reply.started": "2024-05-16T13:28:09.969651Z",
     "shell.execute_reply": "2024-05-16T13:28:09.991002Z"
    },
    "trusted": true
   },
   "execution_count": null,
   "outputs": []
  },
  {
   "cell_type": "code",
   "source": "print(X_train.shape)\nprint(y_train.shape)\nprint(X_test.shape)\nprint(y_test.shape)",
   "metadata": {
    "execution": {
     "iopub.status.busy": "2024-05-16T13:28:09.99313Z",
     "iopub.execute_input": "2024-05-16T13:28:09.993629Z",
     "iopub.status.idle": "2024-05-16T13:28:09.999093Z",
     "shell.execute_reply.started": "2024-05-16T13:28:09.9936Z",
     "shell.execute_reply": "2024-05-16T13:28:09.998147Z"
    },
    "trusted": true
   },
   "execution_count": null,
   "outputs": []
  },
  {
   "cell_type": "markdown",
   "source": "## Instantiate TF-IDF VEctorizer ",
   "metadata": {}
  },
  {
   "cell_type": "code",
   "source": "# X_train_features = text_vectorizer.fit_transform(X_train)",
   "metadata": {
    "execution": {
     "iopub.status.busy": "2024-05-16T13:28:10.005668Z",
     "iopub.execute_input": "2024-05-16T13:28:10.006437Z",
     "iopub.status.idle": "2024-05-16T13:28:10.011532Z",
     "shell.execute_reply.started": "2024-05-16T13:28:10.006399Z",
     "shell.execute_reply": "2024-05-16T13:28:10.010283Z"
    },
    "trusted": true
   },
   "execution_count": null,
   "outputs": []
  },
  {
   "cell_type": "code",
   "source": "# X_train_features",
   "metadata": {
    "execution": {
     "iopub.status.busy": "2024-05-16T13:28:10.013074Z",
     "iopub.execute_input": "2024-05-16T13:28:10.014129Z",
     "iopub.status.idle": "2024-05-16T13:28:10.022917Z",
     "shell.execute_reply.started": "2024-05-16T13:28:10.01409Z",
     "shell.execute_reply": "2024-05-16T13:28:10.021556Z"
    },
    "trusted": true
   },
   "execution_count": null,
   "outputs": []
  },
  {
   "cell_type": "code",
   "source": "# test_features = text_vectorizer.transform(X_test)",
   "metadata": {
    "execution": {
     "iopub.status.busy": "2024-05-16T13:28:10.02465Z",
     "iopub.execute_input": "2024-05-16T13:28:10.025062Z",
     "iopub.status.idle": "2024-05-16T13:28:10.033614Z",
     "shell.execute_reply.started": "2024-05-16T13:28:10.025025Z",
     "shell.execute_reply": "2024-05-16T13:28:10.032215Z"
    },
    "trusted": true
   },
   "execution_count": null,
   "outputs": []
  },
  {
   "cell_type": "markdown",
   "source": "## Train features into the Support Vector Machine",
   "metadata": {}
  },
  {
   "cell_type": "code",
   "source": "from sklearn.pipeline import make_pipeline\nfrom sklearn.preprocessing import MaxAbsScaler\nfrom sklearn.svm import SVC\n    \nclf = make_pipeline(MaxAbsScaler(), SVC(C=1.75, kernel='rbf', gamma='scale', decision_function_shape='ovr', random_state=123, tol=1e-5, shrinking=True, verbose=True, break_ties=True))\nclf.fit(X_train, y_train.values.ravel())\ny_pred = clf.predict(X_test)  ",
   "metadata": {
    "execution": {
     "iopub.status.busy": "2024-05-16T13:28:10.035244Z",
     "iopub.execute_input": "2024-05-16T13:28:10.035646Z",
     "iopub.status.idle": "2024-05-16T13:28:23.181997Z",
     "shell.execute_reply.started": "2024-05-16T13:28:10.035612Z",
     "shell.execute_reply": "2024-05-16T13:28:23.180836Z"
    },
    "trusted": true
   },
   "execution_count": null,
   "outputs": []
  },
  {
   "cell_type": "code",
   "source": "print(confusion_matrix(y_test.values.ravel(), y_pred.ravel()))",
   "metadata": {
    "execution": {
     "iopub.status.busy": "2024-05-16T13:28:23.183775Z",
     "iopub.execute_input": "2024-05-16T13:28:23.184141Z",
     "iopub.status.idle": "2024-05-16T13:28:23.194754Z",
     "shell.execute_reply.started": "2024-05-16T13:28:23.184111Z",
     "shell.execute_reply": "2024-05-16T13:28:23.193766Z"
    },
    "trusted": true
   },
   "execution_count": null,
   "outputs": []
  },
  {
   "cell_type": "code",
   "source": "print(classification_report(y_test.values.ravel(), y_pred.ravel()))",
   "metadata": {
    "execution": {
     "iopub.status.busy": "2024-05-16T13:28:23.196074Z",
     "iopub.execute_input": "2024-05-16T13:28:23.196449Z",
     "iopub.status.idle": "2024-05-16T13:28:23.227647Z",
     "shell.execute_reply.started": "2024-05-16T13:28:23.196416Z",
     "shell.execute_reply": "2024-05-16T13:28:23.226686Z"
    },
    "trusted": true
   },
   "execution_count": null,
   "outputs": []
  },
  {
   "cell_type": "code",
   "source": "kappa = cohen_kappa_score(y_test.values.ravel(), y_pred.ravel(), weights='quadratic')  \nprint('Cohen\\'s kappa score: ', kappa)  ",
   "metadata": {
    "execution": {
     "iopub.status.busy": "2024-05-16T13:28:23.229249Z",
     "iopub.execute_input": "2024-05-16T13:28:23.229593Z",
     "iopub.status.idle": "2024-05-16T13:28:23.241935Z",
     "shell.execute_reply.started": "2024-05-16T13:28:23.229565Z",
     "shell.execute_reply": "2024-05-16T13:28:23.240345Z"
    },
    "trusted": true
   },
   "execution_count": null,
   "outputs": []
  },
  {
   "cell_type": "markdown",
   "source": "## Bagging Classifier + SVM",
   "metadata": {}
  },
  {
   "cell_type": "code",
   "source": "# from sklearn import metrics  \n# from sklearn.ensemble import BaggingClassifier  \n\n# # fit a Bagging model to the data  \n# model = BaggingClassifier(estimator=clf, n_estimators=10, random_state=123, verbose=3)\n# model.fit(X_train_features, y_train.values.ravel())\n# y_pred_bag = model.predict(test_features)",
   "metadata": {
    "execution": {
     "iopub.status.busy": "2024-05-16T13:28:23.243569Z",
     "iopub.execute_input": "2024-05-16T13:28:23.243986Z",
     "iopub.status.idle": "2024-05-16T13:28:23.253987Z",
     "shell.execute_reply.started": "2024-05-16T13:28:23.243953Z",
     "shell.execute_reply": "2024-05-16T13:28:23.252438Z"
    },
    "trusted": true
   },
   "execution_count": null,
   "outputs": []
  },
  {
   "cell_type": "markdown",
   "source": "## Model Evaluation",
   "metadata": {}
  },
  {
   "cell_type": "code",
   "source": "# print(confusion_matrix(y_test.values.ravel(), y_pred_bag.ravel()))",
   "metadata": {
    "execution": {
     "iopub.status.busy": "2024-05-16T13:28:23.25545Z",
     "iopub.execute_input": "2024-05-16T13:28:23.255876Z",
     "iopub.status.idle": "2024-05-16T13:28:23.270543Z",
     "shell.execute_reply.started": "2024-05-16T13:28:23.25584Z",
     "shell.execute_reply": "2024-05-16T13:28:23.269177Z"
    },
    "trusted": true
   },
   "execution_count": null,
   "outputs": []
  },
  {
   "cell_type": "code",
   "source": "# print(classification_report(y_test.values.ravel(), y_pred_bag.ravel()))",
   "metadata": {
    "execution": {
     "iopub.status.busy": "2024-05-16T13:28:23.272303Z",
     "iopub.execute_input": "2024-05-16T13:28:23.272706Z",
     "iopub.status.idle": "2024-05-16T13:28:23.286555Z",
     "shell.execute_reply.started": "2024-05-16T13:28:23.272675Z",
     "shell.execute_reply": "2024-05-16T13:28:23.28493Z"
    },
    "trusted": true
   },
   "execution_count": null,
   "outputs": []
  },
  {
   "cell_type": "code",
   "source": "# kappa = cohen_kappa_score(y_test.values.ravel(), y_pred_bag.ravel(), weights='quadratic')  \n# print('Cohen\\'s kappa score: ', kappa)  ",
   "metadata": {
    "execution": {
     "iopub.status.busy": "2024-05-16T13:28:23.288911Z",
     "iopub.execute_input": "2024-05-16T13:28:23.289426Z",
     "iopub.status.idle": "2024-05-16T13:28:23.299315Z",
     "shell.execute_reply.started": "2024-05-16T13:28:23.289379Z",
     "shell.execute_reply": "2024-05-16T13:28:23.298133Z"
    },
    "trusted": true
   },
   "execution_count": null,
   "outputs": []
  },
  {
   "cell_type": "markdown",
   "source": "## Predict test features using the trained classifier (clf)",
   "metadata": {}
  },
  {
   "cell_type": "code",
   "source": "test_df1 = pd.read_csv('/kaggle/input/learning-agency-lab-automated-essay-scoring-2/test.csv')",
   "metadata": {
    "execution": {
     "iopub.status.busy": "2024-05-16T13:28:23.301415Z",
     "iopub.execute_input": "2024-05-16T13:28:23.301945Z",
     "iopub.status.idle": "2024-05-16T13:28:23.321604Z",
     "shell.execute_reply.started": "2024-05-16T13:28:23.301901Z",
     "shell.execute_reply": "2024-05-16T13:28:23.319639Z"
    },
    "trusted": true
   },
   "execution_count": null,
   "outputs": []
  },
  {
   "cell_type": "code",
   "source": "test_df1",
   "metadata": {
    "execution": {
     "iopub.status.busy": "2024-05-16T13:28:23.322762Z",
     "iopub.execute_input": "2024-05-16T13:28:23.323213Z",
     "iopub.status.idle": "2024-05-16T13:28:23.334895Z",
     "shell.execute_reply.started": "2024-05-16T13:28:23.323179Z",
     "shell.execute_reply": "2024-05-16T13:28:23.333503Z"
    },
    "trusted": true
   },
   "execution_count": null,
   "outputs": []
  },
  {
   "cell_type": "code",
   "source": "x0 = dataPreprocessing(test_df1['full_text'])",
   "metadata": {
    "execution": {
     "iopub.status.busy": "2024-05-16T13:28:23.336518Z",
     "iopub.execute_input": "2024-05-16T13:28:23.336945Z",
     "iopub.status.idle": "2024-05-16T13:28:23.355978Z",
     "shell.execute_reply.started": "2024-05-16T13:28:23.336907Z",
     "shell.execute_reply": "2024-05-16T13:28:23.354586Z"
    },
    "trusted": true
   },
   "execution_count": null,
   "outputs": []
  },
  {
   "cell_type": "code",
   "source": "test_df1['full_text'] = x0",
   "metadata": {
    "execution": {
     "iopub.status.busy": "2024-05-16T13:28:23.357652Z",
     "iopub.execute_input": "2024-05-16T13:28:23.358689Z",
     "iopub.status.idle": "2024-05-16T13:28:23.36872Z",
     "shell.execute_reply.started": "2024-05-16T13:28:23.358647Z",
     "shell.execute_reply": "2024-05-16T13:28:23.367684Z"
    },
    "trusted": true
   },
   "execution_count": null,
   "outputs": []
  },
  {
   "cell_type": "code",
   "source": "# Set 'essay_id' as the index of the DataFrame  \ntest_df1.set_index('essay_id', inplace=True)  \n  \nfor idx, row in test_df1.iterrows():  \n    num_words, lex_div, avg_sent_length, num_adj, num_adv, num_noun = get_metrics(str(row['full_text']))  \n  \n    test_df1.loc[idx, 'num_words'] = num_words  \n    test_df1.loc[idx, 'lex_div'] = lex_div  \n    test_df1.loc[idx, 'avg_sent_length'] = avg_sent_length  \n    test_df1.loc[idx, 'num_adj'] = num_adj  \n    test_df1.loc[idx, 'num_adv'] = num_adv  \n    test_df1.loc[idx, 'num_noun'] = num_noun",
   "metadata": {
    "execution": {
     "iopub.status.busy": "2024-05-16T13:28:23.369877Z",
     "iopub.execute_input": "2024-05-16T13:28:23.370245Z",
     "iopub.status.idle": "2024-05-16T13:28:23.623339Z",
     "shell.execute_reply.started": "2024-05-16T13:28:23.370214Z",
     "shell.execute_reply": "2024-05-16T13:28:23.62185Z"
    },
    "trusted": true
   },
   "execution_count": null,
   "outputs": []
  },
  {
   "cell_type": "code",
   "source": "# st_features = text_vectorizer.transform(x0)\n\nY_test_final = test_df1.drop('full_text', axis=1)  \n\ntest_predictions = clf.predict(Y_test_final)",
   "metadata": {
    "execution": {
     "iopub.status.busy": "2024-05-16T13:28:23.624711Z",
     "iopub.execute_input": "2024-05-16T13:28:23.625201Z",
     "iopub.status.idle": "2024-05-16T13:28:23.63822Z",
     "shell.execute_reply.started": "2024-05-16T13:28:23.625157Z",
     "shell.execute_reply": "2024-05-16T13:28:23.637017Z"
    },
    "trusted": true
   },
   "execution_count": null,
   "outputs": []
  },
  {
   "cell_type": "markdown",
   "source": "## Save submission into a CSV file",
   "metadata": {}
  },
  {
   "cell_type": "code",
   "source": "submission = pd.read_csv(\"/kaggle/input/learning-agency-lab-automated-essay-scoring-2/sample_submission.csv\")\nsubmission",
   "metadata": {
    "execution": {
     "iopub.status.busy": "2024-05-16T13:28:23.640122Z",
     "iopub.execute_input": "2024-05-16T13:28:23.64051Z",
     "iopub.status.idle": "2024-05-16T13:28:23.653565Z",
     "shell.execute_reply.started": "2024-05-16T13:28:23.640479Z",
     "shell.execute_reply": "2024-05-16T13:28:23.652232Z"
    },
    "trusted": true
   },
   "execution_count": null,
   "outputs": []
  },
  {
   "cell_type": "code",
   "source": "submission['score'] = test_predictions\nsubmission.to_csv(\"submission.csv\", index=False)\ndisplay(submission)",
   "metadata": {
    "execution": {
     "iopub.status.busy": "2024-05-16T13:28:23.65637Z",
     "iopub.execute_input": "2024-05-16T13:28:23.656964Z",
     "iopub.status.idle": "2024-05-16T13:28:23.677028Z",
     "shell.execute_reply.started": "2024-05-16T13:28:23.656918Z",
     "shell.execute_reply": "2024-05-16T13:28:23.675735Z"
    },
    "trusted": true
   },
   "execution_count": null,
   "outputs": []
  }
 ]
}
