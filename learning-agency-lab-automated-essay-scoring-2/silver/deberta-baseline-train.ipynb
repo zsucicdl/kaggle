{
 "metadata": {
  "kernelspec": {
   "language": "python",
   "display_name": "Python 3",
   "name": "python3"
  },
  "language_info": {
   "name": "python",
   "version": "3.10.13",
   "mimetype": "text/x-python",
   "codemirror_mode": {
    "name": "ipython",
    "version": 3
   },
   "pygments_lexer": "ipython3",
   "nbconvert_exporter": "python",
   "file_extension": ".py"
  },
  "kaggle": {
   "accelerator": "gpu",
   "dataSources": [
    {
     "sourceId": 71485,
     "databundleVersionId": 8059942,
     "sourceType": "competition"
    }
   ],
   "dockerImageVersionId": 30674,
   "isInternetEnabled": true,
   "language": "python",
   "sourceType": "notebook",
   "isGpuEnabled": true
  }
 },
 "nbformat_minor": 4,
 "nbformat": 4,
 "cells": [
  {
   "cell_type": "markdown",
   "source": "Inference notebook: https://www.kaggle.com/code/idv2005/deberta-baseline-inference",
   "metadata": {}
  },
  {
   "cell_type": "code",
   "source": "import pandas as pd\nimport numpy as np\nimport torch\n\nfrom transformers import AutoTokenizer, Trainer, TrainingArguments\nfrom transformers import AutoModelForSequenceClassification, DataCollatorWithPadding\n\nfrom datasets import Dataset\nfrom sklearn.metrics import cohen_kappa_score\n\nMODEL_NAME = 'microsoft/deberta-v3-large'\nFOLD = 0\nMAX_LENGTH = 512",
   "metadata": {},
   "execution_count": null,
   "outputs": []
  },
  {
   "cell_type": "code",
   "source": "tokenizer = AutoTokenizer.from_pretrained(MODEL_NAME)\ndef tokenize(sample):\n    return tokenizer(sample['full_text'], max_length=MAX_LENGTH, truncation=True)\n\ndf_train = pd.read_csv('/kaggle/input/learning-agency-lab-automated-essay-scoring-2/train.csv')\ndf_train['fold'] = df_train.essay_id.map(lambda x: int(x, base=16) % 5)\ndf_train['labels'] = df_train.score.map(lambda x: x-1)\n\n# remove .iloc[:3000] and .iloc[:200] to use all data\nds_train = Dataset.from_pandas(df_train[df_train.fold!=FOLD].iloc[:3000].copy())\nds_eval = Dataset.from_pandas(df_train[df_train.fold==FOLD].iloc[:200].copy())\n\nds_train = ds_train.map(tokenize).remove_columns(['essay_id', 'full_text', 'score', 'fold', '__index_level_0__'])\nds_eval = ds_eval.map(tokenize).remove_columns(['essay_id', 'full_text', 'score', 'fold', '__index_level_0__'])",
   "metadata": {
    "execution": {
     "iopub.status.busy": "2024-04-06T03:24:29.181694Z",
     "iopub.execute_input": "2024-04-06T03:24:29.182049Z",
     "iopub.status.idle": "2024-04-06T03:24:41.242635Z",
     "shell.execute_reply.started": "2024-04-06T03:24:29.182024Z",
     "shell.execute_reply": "2024-04-06T03:24:41.24176Z"
    },
    "trusted": true
   },
   "execution_count": null,
   "outputs": []
  },
  {
   "cell_type": "code",
   "source": "def compute_metrics(p):\n    preds, labels = p\n    score = cohen_kappa_score(labels, preds.argmax(-1), weights='quadratic')\n    return { 'qwk':score }\n\ntrain_args = TrainingArguments(\n    output_dir='/kaggle/working/deberta-large-fold0', \n    fp16=True,\n    learning_rate=2e-5,\n    num_train_epochs=1,\n    per_device_train_batch_size=2,\n    per_device_eval_batch_size=1,\n    gradient_accumulation_steps=4,\n    report_to=\"none\",\n    evaluation_strategy=\"steps\",\n    do_eval=True,\n    eval_steps=100,\n    save_total_limit=1,\n    save_strategy=\"steps\",\n    save_steps=100,\n    logging_steps=100,\n    lr_scheduler_type='linear',\n    metric_for_best_model=\"qwk\",\n    greater_is_better=True,\n    warmup_ratio=0.1,\n    weight_decay=0.01,\n    save_safetensors=True\n)",
   "metadata": {
    "execution": {
     "iopub.status.busy": "2024-04-06T03:26:27.379383Z",
     "iopub.execute_input": "2024-04-06T03:26:27.37999Z",
     "iopub.status.idle": "2024-04-06T03:26:31.307089Z",
     "shell.execute_reply.started": "2024-04-06T03:26:27.379957Z",
     "shell.execute_reply": "2024-04-06T03:26:31.306301Z"
    },
    "trusted": true
   },
   "execution_count": null,
   "outputs": []
  },
  {
   "cell_type": "code",
   "source": "model = AutoModelForSequenceClassification.from_pretrained(MODEL_NAME, num_labels=6)\n\ntrainer = Trainer(\n    model=model, \n    args=train_args, \n    train_dataset=ds_train,\n    eval_dataset=ds_eval,\n    data_collator=DataCollatorWithPadding(tokenizer), \n    tokenizer=tokenizer,\n    compute_metrics=compute_metrics,\n)",
   "metadata": {
    "execution": {
     "iopub.status.busy": "2024-04-06T03:27:06.893576Z",
     "iopub.execute_input": "2024-04-06T03:27:06.894283Z",
     "iopub.status.idle": "2024-04-06T03:27:07.638044Z",
     "shell.execute_reply.started": "2024-04-06T03:27:06.894252Z",
     "shell.execute_reply": "2024-04-06T03:27:07.637039Z"
    },
    "trusted": true
   },
   "execution_count": null,
   "outputs": []
  },
  {
   "cell_type": "code",
   "source": "trainer.train()",
   "metadata": {
    "execution": {
     "iopub.status.busy": "2024-04-06T03:27:25.459376Z",
     "iopub.execute_input": "2024-04-06T03:27:25.460346Z",
     "iopub.status.idle": "2024-04-06T03:36:53.537491Z",
     "shell.execute_reply.started": "2024-04-06T03:27:25.460309Z",
     "shell.execute_reply": "2024-04-06T03:36:53.536156Z"
    },
    "trusted": true
   },
   "execution_count": null,
   "outputs": []
  }
 ]
}
