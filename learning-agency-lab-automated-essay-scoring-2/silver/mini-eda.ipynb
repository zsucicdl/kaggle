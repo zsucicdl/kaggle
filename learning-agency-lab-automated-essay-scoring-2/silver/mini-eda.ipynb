{
 "metadata": {
  "kernelspec": {
   "language": "python",
   "display_name": "Python 3",
   "name": "python3"
  },
  "language_info": {
   "name": "python",
   "version": "3.10.13",
   "mimetype": "text/x-python",
   "codemirror_mode": {
    "name": "ipython",
    "version": 3
   },
   "pygments_lexer": "ipython3",
   "nbconvert_exporter": "python",
   "file_extension": ".py"
  },
  "kaggle": {
   "accelerator": "none",
   "dataSources": [
    {
     "sourceId": 71485,
     "databundleVersionId": 8059942,
     "sourceType": "competition"
    }
   ],
   "dockerImageVersionId": 30698,
   "isInternetEnabled": true,
   "language": "python",
   "sourceType": "notebook",
   "isGpuEnabled": false
  }
 },
 "nbformat_minor": 4,
 "nbformat": 4,
 "cells": [
  {
   "cell_type": "markdown",
   "source": "# Lets check the essays.",
   "metadata": {}
  },
  {
   "cell_type": "markdown",
   "source": "# Lets get Libraries.",
   "metadata": {}
  },
  {
   "cell_type": "code",
   "source": "import numpy as np # linear algebra\nimport pandas as pd # data processing, CSV file I/O (e.g. pd.read_csv)\nimport nltk",
   "metadata": {
    "_uuid": "8f2839f25d086af736a60e9eeb907d3b93b6e0e5",
    "_cell_guid": "b1076dfc-b9ad-4769-8c92-a6c4dae69d19",
    "execution": {
     "iopub.status.busy": "2024-04-19T17:35:02.084374Z",
     "iopub.execute_input": "2024-04-19T17:35:02.084807Z",
     "iopub.status.idle": "2024-04-19T17:35:02.090409Z",
     "shell.execute_reply.started": "2024-04-19T17:35:02.084775Z",
     "shell.execute_reply": "2024-04-19T17:35:02.089019Z"
    },
    "trusted": true
   },
   "execution_count": null,
   "outputs": []
  },
  {
   "cell_type": "code",
   "source": "essay_df = pd.read_csv('/kaggle/input/learning-agency-lab-automated-essay-scoring-2/train.csv')\nessay_df['essay_word_count'] = essay_df['full_text'].str.split().str.len()\nessay_df[\"sentence_count\"] = essay_df[\"full_text\"].apply(lambda x:len(nltk.sent_tokenize(x)))\nessay_df[\"sentence_length\"] = essay_df[[\"sentence_count\",\"essay_word_count\"]].apply(lambda row:row[\"essay_word_count\"]/row[\"sentence_count\"], axis=1)\nessay_df.head()",
   "metadata": {
    "execution": {
     "iopub.status.busy": "2024-04-19T17:44:11.985289Z",
     "iopub.execute_input": "2024-04-19T17:44:11.985739Z",
     "iopub.status.idle": "2024-04-19T17:44:24.66377Z",
     "shell.execute_reply.started": "2024-04-19T17:44:11.985702Z",
     "shell.execute_reply": "2024-04-19T17:44:24.662565Z"
    },
    "trusted": true
   },
   "execution_count": null,
   "outputs": []
  },
  {
   "cell_type": "markdown",
   "source": "# Lets see how much words we have in our essays. ",
   "metadata": {}
  },
  {
   "cell_type": "code",
   "source": "essay_df[\"essay_word_count\"].plot(kind=\"hist\",figsize=(20,10))",
   "metadata": {
    "execution": {
     "iopub.status.busy": "2024-04-19T17:46:21.561061Z",
     "iopub.execute_input": "2024-04-19T17:46:21.56149Z",
     "iopub.status.idle": "2024-04-19T17:46:21.947974Z",
     "shell.execute_reply.started": "2024-04-19T17:46:21.561454Z",
     "shell.execute_reply": "2024-04-19T17:46:21.946807Z"
    },
    "trusted": true
   },
   "execution_count": null,
   "outputs": []
  },
  {
   "cell_type": "markdown",
   "source": "# Essay word count VS Score.",
   "metadata": {}
  },
  {
   "cell_type": "code",
   "source": "essay_df[[\"essay_word_count\",\"score\"]].plot(kind=\"scatter\",y=\"score\",x=\"essay_word_count\",figsize=(20,8))",
   "metadata": {
    "execution": {
     "iopub.status.busy": "2024-04-19T17:46:50.797857Z",
     "iopub.execute_input": "2024-04-19T17:46:50.798305Z",
     "iopub.status.idle": "2024-04-19T17:46:51.176396Z",
     "shell.execute_reply.started": "2024-04-19T17:46:50.79827Z",
     "shell.execute_reply": "2024-04-19T17:46:51.1753Z"
    },
    "trusted": true
   },
   "execution_count": null,
   "outputs": []
  },
  {
   "cell_type": "markdown",
   "source": "# Sentence count VS Score.",
   "metadata": {}
  },
  {
   "cell_type": "code",
   "source": "essay_df[[\"sentence_count\",\"score\"]].plot(kind=\"scatter\",y=\"score\",x=\"sentence_count\",figsize=(20,8))",
   "metadata": {
    "execution": {
     "iopub.status.busy": "2024-04-19T17:47:24.10819Z",
     "iopub.execute_input": "2024-04-19T17:47:24.108576Z",
     "iopub.status.idle": "2024-04-19T17:47:24.479941Z",
     "shell.execute_reply.started": "2024-04-19T17:47:24.108547Z",
     "shell.execute_reply": "2024-04-19T17:47:24.478761Z"
    },
    "trusted": true
   },
   "execution_count": null,
   "outputs": []
  },
  {
   "cell_type": "markdown",
   "source": "# Average Sentence length VS Score.",
   "metadata": {}
  },
  {
   "cell_type": "code",
   "source": "essay_df[[\"sentence_length\",\"score\"]].plot(kind=\"scatter\",y=\"score\",x=\"sentence_length\",figsize=(20,8))",
   "metadata": {
    "execution": {
     "iopub.status.busy": "2024-04-19T17:48:08.460834Z",
     "iopub.execute_input": "2024-04-19T17:48:08.461243Z",
     "iopub.status.idle": "2024-04-19T17:48:08.839125Z",
     "shell.execute_reply.started": "2024-04-19T17:48:08.461204Z",
     "shell.execute_reply": "2024-04-19T17:48:08.837867Z"
    },
    "trusted": true
   },
   "execution_count": null,
   "outputs": []
  },
  {
   "cell_type": "markdown",
   "source": "# Key Observations.\n1. Most Essays which have score more than 4 have more than 400 tokens and more than 10 sentences.\n2. High scoring essay has shorter sentences.\n\n# Takeaways.\n1. Transformers with around 1200 tokens will have better information for rating between 3-6.",
   "metadata": {}
  },
  {
   "cell_type": "markdown",
   "source": "# Please upvote 🙏. It will be very helpfull. Thanks Happy kaggling.",
   "metadata": {}
  }
 ]
}
