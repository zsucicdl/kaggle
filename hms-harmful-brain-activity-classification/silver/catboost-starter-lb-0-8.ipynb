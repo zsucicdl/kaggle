{
 "metadata": {
  "kernelspec": {
   "language": "python",
   "display_name": "Python 3",
   "name": "python3"
  },
  "language_info": {
   "name": "python",
   "version": "3.10.12",
   "mimetype": "text/x-python",
   "codemirror_mode": {
    "name": "ipython",
    "version": 3
   },
   "pygments_lexer": "ipython3",
   "nbconvert_exporter": "python",
   "file_extension": ".py"
  },
  "kaggle": {
   "accelerator": "nvidiaTeslaT4",
   "dataSources": [
    {
     "sourceId": 59093,
     "databundleVersionId": 7469972,
     "sourceType": "competition"
    },
    {
     "sourceId": 7392733,
     "sourceType": "datasetVersion",
     "datasetId": 4297749
    },
    {
     "sourceId": 7392775,
     "sourceType": "datasetVersion",
     "datasetId": 4297782
    }
   ],
   "dockerImageVersionId": 30636,
   "isInternetEnabled": false,
   "language": "python",
   "sourceType": "notebook",
   "isGpuEnabled": true
  }
 },
 "nbformat_minor": 4,
 "nbformat": 4,
 "cells": [
  {
   "cell_type": "markdown",
   "source": [
    "# CatBoost Starter for Brain Comp\n",
    "This is a CatBoost starter notebook for Kaggle's brain comp. We can improve the CV and LB score by engineering more features and/or tuning the CatBoost model. \n",
    "\n",
    "In this notebook, we also compare three CV scores. Kaggle's sample submission uses equal predictions of 1/6 for all targets and achieves CV 1.46, LB 1.09. The best public notebook [here][1] uses train means and achieves CV 1.26 LB 0.97. Our CatBoost model achieves CV 1.01. Let's submit and see what the LB score is!\n",
    "\n",
    "[1]: https://www.kaggle.com/code/seshurajup/eda-train-csv"
   ],
   "metadata": {}
  },
  {
   "cell_type": "markdown",
   "source": [
    "# Load Libraries"
   ],
   "metadata": {}
  },
  {
   "cell_type": "code",
   "source": [
    "import os\n",
    "os.environ[\"CUDA_VISIBLE_DEVICES\"]=\"0,1\"\n",
    "import pandas as pd, numpy as np\n",
    "import matplotlib.pyplot as plt\n",
    "\n",
    "VER = 1"
   ],
   "metadata": {
    "execution": {
     "iopub.status.busy": "2024-01-13T03:23:37.609926Z",
     "iopub.execute_input": "2024-01-13T03:23:37.610325Z",
     "iopub.status.idle": "2024-01-13T03:23:37.615335Z",
     "shell.execute_reply.started": "2024-01-13T03:23:37.610294Z",
     "shell.execute_reply": "2024-01-13T03:23:37.614289Z"
    },
    "trusted": true
   },
   "execution_count": null,
   "outputs": []
  },
  {
   "cell_type": "markdown",
   "source": [
    "# Load Train Data"
   ],
   "metadata": {}
  },
  {
   "cell_type": "code",
   "source": [
    "df = pd.read_csv('/kaggle/input/hms-harmful-brain-activity-classification/train.csv')\n",
    "TARGETS = df.columns[-6:]\n",
    "print('Train shape:', df.shape )\n",
    "print('Targets', list(TARGETS))\n",
    "df.head()"
   ],
   "metadata": {
    "_uuid": "8f2839f25d086af736a60e9eeb907d3b93b6e0e5",
    "_cell_guid": "b1076dfc-b9ad-4769-8c92-a6c4dae69d19",
    "execution": {
     "iopub.status.busy": "2024-01-13T04:07:26.196523Z",
     "iopub.execute_input": "2024-01-13T04:07:26.196944Z",
     "iopub.status.idle": "2024-01-13T04:07:26.369741Z",
     "shell.execute_reply.started": "2024-01-13T04:07:26.196914Z",
     "shell.execute_reply": "2024-01-13T04:07:26.368675Z"
    },
    "trusted": true
   },
   "execution_count": null,
   "outputs": []
  },
  {
   "cell_type": "markdown",
   "source": [
    "# Create Non-Overlapping Eeg Id Train Data"
   ],
   "metadata": {}
  },
  {
   "cell_type": "code",
   "source": [
    "train = df.groupby('eeg_id')[['spectrogram_id','spectrogram_label_offset_seconds']].agg(\n",
    "    {'spectrogram_id':'first','spectrogram_label_offset_seconds':'min'})\n",
    "train.columns = ['spec_id','min']\n",
    "\n",
    "tmp = df.groupby('eeg_id')[['spectrogram_id','spectrogram_label_offset_seconds']].agg(\n",
    "    {'spectrogram_label_offset_seconds':'max'})\n",
    "train['max'] = tmp\n",
    "\n",
    "tmp = df.groupby('eeg_id')[['patient_id']].agg('first')\n",
    "train['patient_id'] = tmp\n",
    "\n",
    "tmp = df.groupby('eeg_id')[TARGETS].agg('sum')\n",
    "for t in TARGETS:\n",
    "    train[t] = tmp[t].values\n",
    "    \n",
    "y_data = train[TARGETS].values\n",
    "y_data = y_data / y_data.sum(axis=1,keepdims=True)\n",
    "train[TARGETS] = y_data\n",
    "\n",
    "tmp = df.groupby('eeg_id')[['expert_consensus']].agg('first')\n",
    "train['target'] = tmp\n",
    "\n",
    "train = train.reset_index()\n",
    "print('Train non-overlapp eeg_id shape:', train.shape )\n",
    "train.head()"
   ],
   "metadata": {
    "execution": {
     "iopub.status.busy": "2024-01-13T04:07:28.753763Z",
     "iopub.execute_input": "2024-01-13T04:07:28.754819Z",
     "iopub.status.idle": "2024-01-13T04:07:28.837073Z",
     "shell.execute_reply.started": "2024-01-13T04:07:28.75477Z",
     "shell.execute_reply": "2024-01-13T04:07:28.836066Z"
    },
    "trusted": true
   },
   "execution_count": null,
   "outputs": []
  },
  {
   "cell_type": "markdown",
   "source": [
    "# Feature Engineer\n",
    "In this section, we create features for our CatBoost model. \n",
    "\n",
    "First we need to read in all 11k train spectrogram files. Reading thousands of files takes 11 minutes with Pandas. Instead, we can read 1 file from my [Kaggle dataset here][1] which contains all the 11k spectrograms in less than 1 minute! To use my [Kaggle dataset][1], set variable `READ_SPEC_FILES = False`. Don't forget to upvote this helpful [dataset][1] :-)\n",
    "\n",
    "Next we need to engineer features for our CatBoost model. In this notebook, we just take the mean (over time) of each of the 400 spectrogram frequencies (using middle 10 minutes). This produces 400 features (per each unique eeg id). We can improve CV and LB score by engineering new features (and/or tuning CatBoost).\n",
    "\n",
    "[1]: https://www.kaggle.com/datasets/cdeotte/brain-spectrograms"
   ],
   "metadata": {}
  },
  {
   "cell_type": "code",
   "source": [
    "READ_SPEC_FILES = False\n",
    "FEATURE_ENGINEER = True"
   ],
   "metadata": {
    "execution": {
     "iopub.status.busy": "2024-01-13T04:07:55.508134Z",
     "iopub.execute_input": "2024-01-13T04:07:55.508952Z",
     "iopub.status.idle": "2024-01-13T04:07:55.513319Z",
     "shell.execute_reply.started": "2024-01-13T04:07:55.508914Z",
     "shell.execute_reply": "2024-01-13T04:07:55.512317Z"
    },
    "trusted": true
   },
   "execution_count": null,
   "outputs": []
  },
  {
   "cell_type": "code",
   "source": [
    "%%time\n",
    "# READ ALL SPECTROGRAMS\n",
    "PATH = '/kaggle/input/hms-harmful-brain-activity-classification/train_spectrograms/'\n",
    "files = os.listdir(PATH)\n",
    "print(f'There are {len(files)} spectrogram parquets')\n",
    "\n",
    "if READ_SPEC_FILES:    \n",
    "    spectrograms = {}\n",
    "    for i,f in enumerate(files):\n",
    "        if i%100==0: print(i,', ',end='')\n",
    "        tmp = pd.read_parquet(f'{PATH}{f}')\n",
    "        name = int(f.split('.')[0])\n",
    "        spectrograms[name] = tmp.iloc[:,1:].values\n",
    "else:\n",
    "    spectrograms = np.load('/kaggle/input/brain-spectrograms/specs.npy',allow_pickle=True).item()"
   ],
   "metadata": {
    "execution": {
     "iopub.status.busy": "2024-01-13T03:51:05.054714Z",
     "iopub.execute_input": "2024-01-13T03:51:05.055069Z",
     "iopub.status.idle": "2024-01-13T03:51:55.039345Z",
     "shell.execute_reply.started": "2024-01-13T03:51:05.055041Z",
     "shell.execute_reply": "2024-01-13T03:51:55.038444Z"
    },
    "trusted": true
   },
   "execution_count": null,
   "outputs": []
  },
  {
   "cell_type": "code",
   "source": [
    "%time\n",
    "# ENGINEER FEATURES\n",
    "import warnings\n",
    "warnings.filterwarnings('ignore')\n",
    "FEATURES = [f'f{x}' for x in range(400)]\n",
    "\n",
    "if FEATURE_ENGINEER:\n",
    "    data = np.zeros((len(train),len(FEATURES)))\n",
    "    for k in range(len(train)):\n",
    "        if k%100==0: print(k,', ',end='')\n",
    "        row = train.iloc[k]\n",
    "        r = int( (row['min'] + row['max'])//4 ) \n",
    "        s = row.spec_id \n",
    "        x = np.array( spectrograms[s][r:r+300,:] ).mean(axis=0)\n",
    "        data[k,] = x\n",
    "    train[FEATURES] = data\n",
    "else:\n",
    "    train = pd.read_parquet('/kaggle/input/brain-spectrograms/train.pqt')\n",
    "print()\n",
    "print('New train shape:',train.shape)"
   ],
   "metadata": {
    "execution": {
     "iopub.status.busy": "2024-01-13T04:08:01.064723Z",
     "iopub.execute_input": "2024-01-13T04:08:01.065084Z",
     "iopub.status.idle": "2024-01-13T04:08:06.629642Z",
     "shell.execute_reply.started": "2024-01-13T04:08:01.065056Z",
     "shell.execute_reply": "2024-01-13T04:08:06.628557Z"
    },
    "trusted": true
   },
   "execution_count": null,
   "outputs": []
  },
  {
   "cell_type": "markdown",
   "source": [
    "# Train CatBoost\n",
    "We use the default settings for CatBoost which are pretty good. We can tune CatBoost manually to improve CV and LB score. Note that CatBoost will automatically use both Kaggle T4 GPUs (when we add parameter `task_type='GPU'`)  for super fast training!"
   ],
   "metadata": {}
  },
  {
   "cell_type": "code",
   "source": [
    "import catboost as cat, gc\n",
    "from catboost import CatBoostClassifier, Pool\n",
    "print('CatBoost version',cat.__version__)"
   ],
   "metadata": {
    "execution": {
     "iopub.status.busy": "2024-01-13T03:52:56.964764Z",
     "iopub.execute_input": "2024-01-13T03:52:56.965168Z",
     "iopub.status.idle": "2024-01-13T03:52:56.971243Z",
     "shell.execute_reply.started": "2024-01-13T03:52:56.965126Z",
     "shell.execute_reply": "2024-01-13T03:52:56.970106Z"
    },
    "trusted": true
   },
   "execution_count": null,
   "outputs": []
  },
  {
   "cell_type": "code",
   "source": [
    "from sklearn.model_selection import KFold, GroupKFold\n",
    "\n",
    "all_oof = []\n",
    "all_true = []\n",
    "TARS = {'Seizure':0, 'LPD':1, 'GPD':2, 'LRDA':3, 'GRDA':4, 'Other':5}\n",
    "\n",
    "gkf = GroupKFold(n_splits=5)\n",
    "for i, (train_index, valid_index) in enumerate(gkf.split(train, train.target, train.patient_id)):   \n",
    "    \n",
    "    print('#'*25)\n",
    "    print(f'### Fold {i+1}')\n",
    "    print(f'### train size {len(train_index)}, valid size {len(valid_index)}')\n",
    "    print('#'*25)\n",
    "    \n",
    "    model = CatBoostClassifier(task_type='GPU',\n",
    "                               loss_function='MultiClass')\n",
    "    \n",
    "    train_pool = Pool(\n",
    "        data = train.loc[train_index,FEATURES],\n",
    "        label = train.loc[train_index,'target'].map(TARS),\n",
    "    )\n",
    "    \n",
    "    valid_pool = Pool(\n",
    "        data = train.loc[valid_index,FEATURES],\n",
    "        label = train.loc[valid_index,'target'].map(TARS),\n",
    "    )\n",
    "    \n",
    "    model.fit(train_pool,\n",
    "             verbose=100,\n",
    "             eval_set=valid_pool,\n",
    "             )\n",
    "    model.save_model(f'CAT_v{VER}_f{i}.cat')\n",
    "    \n",
    "    oof = model.predict_proba(valid_pool)\n",
    "    all_oof.append(oof)\n",
    "    all_true.append(train.loc[valid_index, TARGETS].values)\n",
    "    \n",
    "    del train_pool, valid_pool, oof #model\n",
    "    gc.collect()\n",
    "    \n",
    "    #break\n",
    "    \n",
    "all_oof = np.concatenate(all_oof)\n",
    "all_true = np.concatenate(all_true)"
   ],
   "metadata": {
    "execution": {
     "iopub.status.busy": "2024-01-13T03:53:05.591284Z",
     "iopub.execute_input": "2024-01-13T03:53:05.591701Z",
     "iopub.status.idle": "2024-01-13T03:54:39.216594Z",
     "shell.execute_reply.started": "2024-01-13T03:53:05.591652Z",
     "shell.execute_reply": "2024-01-13T03:54:39.215631Z"
    },
    "trusted": true
   },
   "execution_count": null,
   "outputs": []
  },
  {
   "cell_type": "markdown",
   "source": [
    "# Feature Importance\n",
    "Below we display the CatBoost top 25 feature importance for the last fold we trained."
   ],
   "metadata": {}
  },
  {
   "cell_type": "code",
   "source": [
    "TOP = 25\n",
    "SPEC_COLS = pd.read_parquet(f'{PATH}1000086677.parquet').columns[1:]\n",
    "\n",
    "feature_importance = model.feature_importances_\n",
    "sorted_idx = np.argsort(feature_importance)\n",
    "fig = plt.figure(figsize=(10, 8))\n",
    "plt.barh(np.arange(len(sorted_idx))[-TOP:], feature_importance[sorted_idx][-TOP:], align='center')\n",
    "plt.yticks(np.arange(len(sorted_idx))[-TOP:], np.array(SPEC_COLS)[sorted_idx][-TOP:])\n",
    "plt.title(f'Feature Importance - Top {TOP}')\n",
    "plt.show()"
   ],
   "metadata": {
    "execution": {
     "iopub.status.busy": "2024-01-13T03:56:29.248174Z",
     "iopub.execute_input": "2024-01-13T03:56:29.248556Z",
     "iopub.status.idle": "2024-01-13T03:56:29.750966Z",
     "shell.execute_reply.started": "2024-01-13T03:56:29.248529Z",
     "shell.execute_reply": "2024-01-13T03:56:29.750029Z"
    },
    "trusted": true
   },
   "execution_count": null,
   "outputs": []
  },
  {
   "cell_type": "markdown",
   "source": [
    "# CV Score for CatBoost\n",
    "This is CV score for our CatBoost model."
   ],
   "metadata": {}
  },
  {
   "cell_type": "code",
   "source": [
    "import sys\n",
    "sys.path.append('/kaggle/input/kaggle-kl-div')\n",
    "from kaggle_kl_div import score\n",
    "\n",
    "oof = pd.DataFrame(all_oof.copy())\n",
    "oof['id'] = np.arange(len(oof))\n",
    "\n",
    "true = pd.DataFrame(all_true.copy())\n",
    "true['id'] = np.arange(len(true))\n",
    "\n",
    "cv = score(solution=true, submission=oof, row_id_column_name='id')\n",
    "print('CV Score KL-Div for CatBoost =',cv)"
   ],
   "metadata": {
    "execution": {
     "iopub.status.busy": "2024-01-13T03:56:32.824017Z",
     "iopub.execute_input": "2024-01-13T03:56:32.824392Z",
     "iopub.status.idle": "2024-01-13T03:56:32.890349Z",
     "shell.execute_reply.started": "2024-01-13T03:56:32.824361Z",
     "shell.execute_reply": "2024-01-13T03:56:32.889366Z"
    },
    "trusted": true
   },
   "execution_count": null,
   "outputs": []
  },
  {
   "cell_type": "markdown",
   "source": [
    "# CV Score for Preds 1/6\n",
    "This is CV score for Kaggle's sample submission.csv which uses equal predictions of 1/6 for all targets."
   ],
   "metadata": {}
  },
  {
   "cell_type": "code",
   "source": [
    "oof = pd.DataFrame(all_oof.copy())\n",
    "for c in oof.columns:\n",
    "    oof[c] = 1/6.\n",
    "oof['id'] = np.arange(len(oof))\n",
    "\n",
    "true = pd.DataFrame(all_true.copy())\n",
    "true['id'] = np.arange(len(true))\n",
    "\n",
    "cv = score(solution=true, submission=oof, row_id_column_name='id')\n",
    "print('CV Score for \"Use Equal Preds 1/6\" =',cv)"
   ],
   "metadata": {
    "execution": {
     "iopub.status.busy": "2024-01-13T03:56:54.439163Z",
     "iopub.execute_input": "2024-01-13T03:56:54.439517Z",
     "iopub.status.idle": "2024-01-13T03:56:54.504094Z",
     "shell.execute_reply.started": "2024-01-13T03:56:54.439491Z",
     "shell.execute_reply": "2024-01-13T03:56:54.503143Z"
    },
    "trusted": true
   },
   "execution_count": null,
   "outputs": []
  },
  {
   "cell_type": "markdown",
   "source": [
    "# CV Score for EEG_Id Means\n",
    "This is CV score for current highest scoring public notebook [here][1] which uses train means as predictions.\n",
    "\n",
    "[1]: https://www.kaggle.com/code/seshurajup/eda-train-csv"
   ],
   "metadata": {}
  },
  {
   "cell_type": "code",
   "source": [
    "all_oof2 = []\n",
    "\n",
    "gkf = GroupKFold(n_splits=5)\n",
    "for i, (train_index, valid_index) in enumerate(gkf.split(train, train.target, train.patient_id)):  \n",
    "    #print('#'*25)\n",
    "    #print(f'### Fold {i+1}')\n",
    "        \n",
    "    y_train = train.iloc[train_index][TARGETS].values\n",
    "    y_valid = train.iloc[valid_index][TARGETS].values\n",
    "    \n",
    "    #print(f'### train size {len(train_index)}, valid size {len(valid_index)}')\n",
    "    #print('#'*25)\n",
    "        \n",
    "    oof = y_valid.copy()\n",
    "    for j in range(6):\n",
    "        oof[:,j] = y_train[:,j].mean()\n",
    "    oof = oof / oof.sum(axis=1,keepdims=True)\n",
    "    all_oof2.append(oof)\n",
    "    \n",
    "all_oof2 = np.concatenate(all_oof2)"
   ],
   "metadata": {
    "execution": {
     "iopub.status.busy": "2024-01-13T03:57:08.928548Z",
     "iopub.execute_input": "2024-01-13T03:57:08.929412Z",
     "iopub.status.idle": "2024-01-13T03:57:09.239484Z",
     "shell.execute_reply.started": "2024-01-13T03:57:08.929379Z",
     "shell.execute_reply": "2024-01-13T03:57:09.23856Z"
    },
    "trusted": true
   },
   "execution_count": null,
   "outputs": []
  },
  {
   "cell_type": "code",
   "source": [
    "oof = pd.DataFrame(all_oof2.copy())\n",
    "oof['id'] = np.arange(len(oof))\n",
    "\n",
    "true = pd.DataFrame(all_true.copy())\n",
    "true['id'] = np.arange(len(true))\n",
    "\n",
    "cv = score(solution=true, submission=oof, row_id_column_name='id')\n",
    "print('CV Score for \"Use Train Means\" =',cv)"
   ],
   "metadata": {
    "execution": {
     "iopub.status.busy": "2024-01-13T03:57:11.33266Z",
     "iopub.execute_input": "2024-01-13T03:57:11.333611Z",
     "iopub.status.idle": "2024-01-13T03:57:11.398558Z",
     "shell.execute_reply.started": "2024-01-13T03:57:11.333562Z",
     "shell.execute_reply": "2024-01-13T03:57:11.397623Z"
    },
    "trusted": true
   },
   "execution_count": null,
   "outputs": []
  },
  {
   "cell_type": "markdown",
   "source": [
    "# Infer Test and Create Submission CSV\n",
    "Below we use our 5 CatBoost fold models to infer the test data and create a `submission.csv` file."
   ],
   "metadata": {}
  },
  {
   "cell_type": "code",
   "source": [
    "test = pd.read_csv('/kaggle/input/hms-harmful-brain-activity-classification/test.csv')\n",
    "print('Test shape',test.shape)\n",
    "test.head()"
   ],
   "metadata": {
    "execution": {
     "iopub.status.busy": "2024-01-13T04:00:17.956781Z",
     "iopub.execute_input": "2024-01-13T04:00:17.957405Z",
     "iopub.status.idle": "2024-01-13T04:00:17.970425Z",
     "shell.execute_reply.started": "2024-01-13T04:00:17.957374Z",
     "shell.execute_reply": "2024-01-13T04:00:17.969302Z"
    },
    "trusted": true
   },
   "execution_count": null,
   "outputs": []
  },
  {
   "cell_type": "code",
   "source": [
    "# FEATURE ENGINEER TEST\n",
    "PATH2 = '/kaggle/input/hms-harmful-brain-activity-classification/test_spectrograms/'\n",
    "data = np.zeros((len(test),len(FEATURES)))\n",
    "    \n",
    "for k in range(len(test)):\n",
    "    row = test.iloc[k]\n",
    "    s = int( row.spectrogram_id )\n",
    "    spec = pd.read_parquet(f'{PATH2}{s}.parquet')\n",
    "    v = spec.iloc[:,1:].values.mean(axis=0)\n",
    "    data[k,] = v\n",
    "test[FEATURES] = data\n",
    "print('New test shape',test.shape)"
   ],
   "metadata": {
    "execution": {
     "iopub.status.busy": "2024-01-13T04:00:27.797616Z",
     "iopub.execute_input": "2024-01-13T04:00:27.798259Z",
     "iopub.status.idle": "2024-01-13T04:00:27.96966Z",
     "shell.execute_reply.started": "2024-01-13T04:00:27.798226Z",
     "shell.execute_reply": "2024-01-13T04:00:27.968732Z"
    },
    "trusted": true
   },
   "execution_count": null,
   "outputs": []
  },
  {
   "cell_type": "code",
   "source": [
    "# INFER CATBOOST ON TEST\n",
    "preds = []\n",
    "\n",
    "for i in range(5):\n",
    "    print(i,', ',end='')\n",
    "    model = CatBoostClassifier(task_type='GPU')\n",
    "    model.load_model(f'CAT_v{VER}_f{i}.cat')\n",
    "    \n",
    "    test_pool = Pool(\n",
    "        data = test[FEATURES]\n",
    "    )\n",
    "    \n",
    "    pred = model.predict_proba(test_pool)\n",
    "    preds.append(pred)\n",
    "pred = np.mean(preds,axis=0)\n",
    "print()\n",
    "print('Test preds shape',pred.shape)"
   ],
   "metadata": {
    "execution": {
     "iopub.status.busy": "2024-01-13T04:03:07.61316Z",
     "iopub.execute_input": "2024-01-13T04:03:07.613946Z",
     "iopub.status.idle": "2024-01-13T04:03:07.820274Z",
     "shell.execute_reply.started": "2024-01-13T04:03:07.613878Z",
     "shell.execute_reply": "2024-01-13T04:03:07.819245Z"
    },
    "trusted": true
   },
   "execution_count": null,
   "outputs": []
  },
  {
   "cell_type": "code",
   "source": [
    "sub = pd.DataFrame({'eeg_id':test.eeg_id.values})\n",
    "sub[TARGETS] = pred\n",
    "sub.to_csv('submission.csv',index=False)\n",
    "print('Submissionn shape',sub.shape)\n",
    "sub.head()"
   ],
   "metadata": {
    "execution": {
     "iopub.status.busy": "2024-01-13T04:03:25.018625Z",
     "iopub.execute_input": "2024-01-13T04:03:25.019049Z",
     "iopub.status.idle": "2024-01-13T04:03:25.037595Z",
     "shell.execute_reply.started": "2024-01-13T04:03:25.019018Z",
     "shell.execute_reply": "2024-01-13T04:03:25.036561Z"
    },
    "trusted": true
   },
   "execution_count": null,
   "outputs": []
  },
  {
   "cell_type": "code",
   "source": [
    "# SANITY CHECK TO CONFIRM PREDICTIONS SUM TO ONE\n",
    "sub.iloc[:,-6:].sum(axis=1)"
   ],
   "metadata": {
    "execution": {
     "iopub.status.busy": "2024-01-13T04:12:19.413461Z",
     "iopub.execute_input": "2024-01-13T04:12:19.414405Z",
     "iopub.status.idle": "2024-01-13T04:12:19.422805Z",
     "shell.execute_reply.started": "2024-01-13T04:12:19.414369Z",
     "shell.execute_reply": "2024-01-13T04:12:19.422031Z"
    },
    "trusted": true
   },
   "execution_count": null,
   "outputs": []
  }
 ]
}
