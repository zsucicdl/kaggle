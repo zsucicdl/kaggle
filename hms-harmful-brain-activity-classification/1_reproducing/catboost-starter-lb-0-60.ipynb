{
 "cells": [
  {
   "cell_type": "markdown",
   "metadata": {},
   "source": [
    "# CatBoost Starter for Brain Comp\n",
    "This is a CatBoost starter notebook for Kaggle's brain comp. We use only spectrogram features. (The model does not use eeg features yet). We can improve the CV and LB score by engineering more (spectrogram and/or eeg) features and we can tune the CatBoost model (and/or use other ML DL models). Discussion about this starter is [here][2].\n",
    "\n",
    "In this notebook, we also compare five CV scores. Kaggle's sample submission uses equal predictions of 1/6 for all targets and achieves CV 1.46, LB 1.09. The best public notebook (on Jan 12th) [here][1] uses train means and achieves CV 1.26 LB 0.97. Our CatBoost model version 1 achieves CV 1.01 LB 0.81. Our CatBoost model version 2 achieves CV 0.82 LB 0.67. Then version 3 adds features from **EEG spectrograms** and achieves CV 0.74, wow! Let's see what LB is...\n",
    "\n",
    "# Exciting UPDATE!\n",
    "Version 3 of this notebook trains using **both** Kaggle spectrograms and my new **EEG spectrograms** from my Kaggle dataset [here][3] (which were created from my spectrogram starter [here][4]). We boost the CV score and (most likely) LB score by almost `+0.10`, wow! \n",
    "\n",
    "### Version Notes\n",
    "* Version 1 - Uses spectrogram features from 10 minute window `means`. Achieves CV 1.01, LB 0.81\n",
    "* Version 2 - Uses spectrogram features from 10 minute and 20 second `means` and `mins`. Achieves CV 0.82, LB 0.67\n",
    "* Version 3 - Uses Kaggle spectrogrms **plus EEG spectrograms**. Achieves 0.74, LB to be determined...\n",
    "\n",
    "[1]: https://www.kaggle.com/code/seshurajup/eda-train-csv\n",
    "[2]: https://www.kaggle.com/competitions/hms-harmful-brain-activity-classification/discussion/467576\n",
    "[3]: https://www.kaggle.com/datasets/cdeotte/brain-eeg-spectrograms\n",
    "[4]: https://www.kaggle.com/code/cdeotte/how-to-make-spectrogram-from-eeg"
   ]
  },
  {
   "cell_type": "markdown",
   "metadata": {
    "collapsed": false
   },
   "source": []
  },
  {
   "cell_type": "markdown",
   "metadata": {},
   "source": [
    "# Load Libraries"
   ]
  },
  {
   "cell_type": "code",
   "outputs": [],
   "source": [
    "import torch\n",
    "import random\n",
    "import os\n",
    "import numpy as np\n",
    "\n",
    "def seed_everything(seed: int):\n",
    "    random.seed(seed)\n",
    "    os.environ['PYTHONHASHSEED'] = str(seed)\n",
    "    np.random.seed(seed)\n",
    "    torch.manual_seed(seed)\n",
    "    torch.cuda.manual_seed(seed)\n",
    "    #torch.backends.cudnn.deterministic = deterministic  # type: ignore\n",
    "    torch.backends.cudnn.deterministic = True\n",
    "    torch.backends.cudnn.benchmark = True\n",
    "\n",
    "seed_value=42\n",
    "seed_everything(seed_value)\n",
    "\n",
    "#model = CatBoostClassifier(task_type='GPU',random_seed=seed_value)"
   ],
   "metadata": {
    "collapsed": false
   }
  },
  {
   "cell_type": "code",
   "execution_count": 1,
   "metadata": {
    "ExecuteTime": {
     "end_time": "2024-02-24T19:55:32.952200900Z",
     "start_time": "2024-02-24T19:55:32.546174100Z"
    },
    "execution": {
     "iopub.execute_input": "2024-01-21T18:36:50.24132Z",
     "iopub.status.busy": "2024-01-21T18:36:50.240888Z",
     "iopub.status.idle": "2024-01-21T18:36:50.581867Z",
     "shell.execute_reply": "2024-01-21T18:36:50.581126Z",
     "shell.execute_reply.started": "2024-01-21T18:36:50.24129Z"
    }
   },
   "outputs": [
    {
     "data": {
      "text/plain": [
       "3"
      ]
     },
     "execution_count": 1,
     "metadata": {},
     "output_type": "execute_result"
    }
   ],
   "source": [
    "import os, gc\n",
    "os.environ[\"CUDA_VISIBLE_DEVICES\"]=\"0,1\"\n",
    "import pandas as pd, numpy as np\n",
    "import matplotlib.pyplot as plt\n",
    "\n",
    "VER = 3\n",
    "VER"
   ]
  },
  {
   "cell_type": "markdown",
   "metadata": {},
   "source": [
    "# Load Train Data"
   ]
  },
  {
   "cell_type": "code",
   "execution_count": 2,
   "metadata": {
    "ExecuteTime": {
     "end_time": "2024-02-24T19:55:33.166504900Z",
     "start_time": "2024-02-24T19:55:32.951191300Z"
    },
    "_cell_guid": "b1076dfc-b9ad-4769-8c92-a6c4dae69d19",
    "_uuid": "8f2839f25d086af736a60e9eeb907d3b93b6e0e5",
    "execution": {
     "iopub.execute_input": "2024-01-21T18:36:50.583589Z",
     "iopub.status.busy": "2024-01-21T18:36:50.583267Z",
     "iopub.status.idle": "2024-01-21T18:36:50.885502Z",
     "shell.execute_reply": "2024-01-21T18:36:50.884563Z",
     "shell.execute_reply.started": "2024-01-21T18:36:50.583566Z"
    }
   },
   "outputs": [
    {
     "name": "stdout",
     "output_type": "stream",
     "text": [
      "Train shape: (106800, 15)\n",
      "Targets ['seizure_vote', 'lpd_vote', 'gpd_vote', 'lrda_vote', 'grda_vote', 'other_vote']\n"
     ]
    },
    {
     "data": {
      "text/html": [
       "<div>\n",
       "<style scoped>\n",
       "    .dataframe tbody tr th:only-of-type {\n",
       "        vertical-align: middle;\n",
       "    }\n",
       "\n",
       "    .dataframe tbody tr th {\n",
       "        vertical-align: top;\n",
       "    }\n",
       "\n",
       "    .dataframe thead th {\n",
       "        text-align: right;\n",
       "    }\n",
       "</style>\n",
       "<table border=\"1\" class=\"dataframe\">\n",
       "  <thead>\n",
       "    <tr style=\"text-align: right;\">\n",
       "      <th></th>\n",
       "      <th>eeg_id</th>\n",
       "      <th>eeg_sub_id</th>\n",
       "      <th>eeg_label_offset_seconds</th>\n",
       "      <th>spectrogram_id</th>\n",
       "      <th>spectrogram_sub_id</th>\n",
       "      <th>spectrogram_label_offset_seconds</th>\n",
       "      <th>label_id</th>\n",
       "      <th>patient_id</th>\n",
       "      <th>expert_consensus</th>\n",
       "      <th>seizure_vote</th>\n",
       "      <th>lpd_vote</th>\n",
       "      <th>gpd_vote</th>\n",
       "      <th>lrda_vote</th>\n",
       "      <th>grda_vote</th>\n",
       "      <th>other_vote</th>\n",
       "    </tr>\n",
       "  </thead>\n",
       "  <tbody>\n",
       "    <tr>\n",
       "      <th>0</th>\n",
       "      <td>1628180742</td>\n",
       "      <td>0</td>\n",
       "      <td>0.0</td>\n",
       "      <td>353733</td>\n",
       "      <td>0</td>\n",
       "      <td>0.0</td>\n",
       "      <td>127492639</td>\n",
       "      <td>42516</td>\n",
       "      <td>Seizure</td>\n",
       "      <td>3</td>\n",
       "      <td>0</td>\n",
       "      <td>0</td>\n",
       "      <td>0</td>\n",
       "      <td>0</td>\n",
       "      <td>0</td>\n",
       "    </tr>\n",
       "    <tr>\n",
       "      <th>1</th>\n",
       "      <td>1628180742</td>\n",
       "      <td>1</td>\n",
       "      <td>6.0</td>\n",
       "      <td>353733</td>\n",
       "      <td>1</td>\n",
       "      <td>6.0</td>\n",
       "      <td>3887563113</td>\n",
       "      <td>42516</td>\n",
       "      <td>Seizure</td>\n",
       "      <td>3</td>\n",
       "      <td>0</td>\n",
       "      <td>0</td>\n",
       "      <td>0</td>\n",
       "      <td>0</td>\n",
       "      <td>0</td>\n",
       "    </tr>\n",
       "    <tr>\n",
       "      <th>2</th>\n",
       "      <td>1628180742</td>\n",
       "      <td>2</td>\n",
       "      <td>8.0</td>\n",
       "      <td>353733</td>\n",
       "      <td>2</td>\n",
       "      <td>8.0</td>\n",
       "      <td>1142670488</td>\n",
       "      <td>42516</td>\n",
       "      <td>Seizure</td>\n",
       "      <td>3</td>\n",
       "      <td>0</td>\n",
       "      <td>0</td>\n",
       "      <td>0</td>\n",
       "      <td>0</td>\n",
       "      <td>0</td>\n",
       "    </tr>\n",
       "    <tr>\n",
       "      <th>3</th>\n",
       "      <td>1628180742</td>\n",
       "      <td>3</td>\n",
       "      <td>18.0</td>\n",
       "      <td>353733</td>\n",
       "      <td>3</td>\n",
       "      <td>18.0</td>\n",
       "      <td>2718991173</td>\n",
       "      <td>42516</td>\n",
       "      <td>Seizure</td>\n",
       "      <td>3</td>\n",
       "      <td>0</td>\n",
       "      <td>0</td>\n",
       "      <td>0</td>\n",
       "      <td>0</td>\n",
       "      <td>0</td>\n",
       "    </tr>\n",
       "    <tr>\n",
       "      <th>4</th>\n",
       "      <td>1628180742</td>\n",
       "      <td>4</td>\n",
       "      <td>24.0</td>\n",
       "      <td>353733</td>\n",
       "      <td>4</td>\n",
       "      <td>24.0</td>\n",
       "      <td>3080632009</td>\n",
       "      <td>42516</td>\n",
       "      <td>Seizure</td>\n",
       "      <td>3</td>\n",
       "      <td>0</td>\n",
       "      <td>0</td>\n",
       "      <td>0</td>\n",
       "      <td>0</td>\n",
       "      <td>0</td>\n",
       "    </tr>\n",
       "  </tbody>\n",
       "</table>\n",
       "</div>"
      ],
      "text/plain": [
       "       eeg_id  eeg_sub_id  eeg_label_offset_seconds  spectrogram_id  \\\n",
       "0  1628180742           0                       0.0          353733   \n",
       "1  1628180742           1                       6.0          353733   \n",
       "2  1628180742           2                       8.0          353733   \n",
       "3  1628180742           3                      18.0          353733   \n",
       "4  1628180742           4                      24.0          353733   \n",
       "\n",
       "   spectrogram_sub_id  spectrogram_label_offset_seconds    label_id  \\\n",
       "0                   0                               0.0   127492639   \n",
       "1                   1                               6.0  3887563113   \n",
       "2                   2                               8.0  1142670488   \n",
       "3                   3                              18.0  2718991173   \n",
       "4                   4                              24.0  3080632009   \n",
       "\n",
       "   patient_id expert_consensus  seizure_vote  lpd_vote  gpd_vote  lrda_vote  \\\n",
       "0       42516          Seizure             3         0         0          0   \n",
       "1       42516          Seizure             3         0         0          0   \n",
       "2       42516          Seizure             3         0         0          0   \n",
       "3       42516          Seizure             3         0         0          0   \n",
       "4       42516          Seizure             3         0         0          0   \n",
       "\n",
       "   grda_vote  other_vote  \n",
       "0          0           0  \n",
       "1          0           0  \n",
       "2          0           0  \n",
       "3          0           0  \n",
       "4          0           0  "
      ]
     },
     "execution_count": 2,
     "metadata": {},
     "output_type": "execute_result"
    }
   ],
   "source": [
    "df = pd.read_csv('/kaggle/input/hms-harmful-brain-activity-classification/train.csv')\n",
    "TARGETS = df.columns[-6:]\n",
    "print('Train shape:', df.shape )\n",
    "print('Targets', list(TARGETS))\n",
    "df.head()"
   ]
  },
  {
   "cell_type": "markdown",
   "metadata": {},
   "source": [
    "# Create Non-Overlapping Eeg Id Train Data\n",
    "The competition data description says that test data does not have multiple crops from the same `eeg_id`. Therefore we will train and validate using only 1 crop per `eeg_id`. There is a discussion about this [here][1].\n",
    "\n",
    "[1]: https://www.kaggle.com/competitions/hms-harmful-brain-activity-classification/discussion/467021"
   ]
  },
  {
   "cell_type": "code",
   "execution_count": 3,
   "metadata": {
    "ExecuteTime": {
     "end_time": "2024-02-24T19:55:33.168036600Z",
     "start_time": "2024-02-24T19:55:33.153997500Z"
    },
    "execution": {
     "iopub.execute_input": "2024-01-21T18:36:50.887126Z",
     "iopub.status.busy": "2024-01-21T18:36:50.886715Z",
     "iopub.status.idle": "2024-01-21T18:36:50.984947Z",
     "shell.execute_reply": "2024-01-21T18:36:50.983848Z",
     "shell.execute_reply.started": "2024-01-21T18:36:50.887083Z"
    }
   },
   "outputs": [
    {
     "name": "stdout",
     "output_type": "stream",
     "text": [
      "Train non-overlapp eeg_id shape: (17089, 12)\n"
     ]
    },
    {
     "data": {
      "text/html": [
       "<div>\n",
       "<style scoped>\n",
       "    .dataframe tbody tr th:only-of-type {\n",
       "        vertical-align: middle;\n",
       "    }\n",
       "\n",
       "    .dataframe tbody tr th {\n",
       "        vertical-align: top;\n",
       "    }\n",
       "\n",
       "    .dataframe thead th {\n",
       "        text-align: right;\n",
       "    }\n",
       "</style>\n",
       "<table border=\"1\" class=\"dataframe\">\n",
       "  <thead>\n",
       "    <tr style=\"text-align: right;\">\n",
       "      <th></th>\n",
       "      <th>eeg_id</th>\n",
       "      <th>spec_id</th>\n",
       "      <th>min</th>\n",
       "      <th>max</th>\n",
       "      <th>patient_id</th>\n",
       "      <th>seizure_vote</th>\n",
       "      <th>lpd_vote</th>\n",
       "      <th>gpd_vote</th>\n",
       "      <th>lrda_vote</th>\n",
       "      <th>grda_vote</th>\n",
       "      <th>other_vote</th>\n",
       "      <th>target</th>\n",
       "    </tr>\n",
       "  </thead>\n",
       "  <tbody>\n",
       "    <tr>\n",
       "      <th>0</th>\n",
       "      <td>568657</td>\n",
       "      <td>789577333</td>\n",
       "      <td>0.0</td>\n",
       "      <td>16.0</td>\n",
       "      <td>20654</td>\n",
       "      <td>0.0</td>\n",
       "      <td>0.000000</td>\n",
       "      <td>0.25</td>\n",
       "      <td>0.000000</td>\n",
       "      <td>0.166667</td>\n",
       "      <td>0.583333</td>\n",
       "      <td>Other</td>\n",
       "    </tr>\n",
       "    <tr>\n",
       "      <th>1</th>\n",
       "      <td>582999</td>\n",
       "      <td>1552638400</td>\n",
       "      <td>0.0</td>\n",
       "      <td>38.0</td>\n",
       "      <td>20230</td>\n",
       "      <td>0.0</td>\n",
       "      <td>0.857143</td>\n",
       "      <td>0.00</td>\n",
       "      <td>0.071429</td>\n",
       "      <td>0.000000</td>\n",
       "      <td>0.071429</td>\n",
       "      <td>LPD</td>\n",
       "    </tr>\n",
       "    <tr>\n",
       "      <th>2</th>\n",
       "      <td>642382</td>\n",
       "      <td>14960202</td>\n",
       "      <td>1008.0</td>\n",
       "      <td>1032.0</td>\n",
       "      <td>5955</td>\n",
       "      <td>0.0</td>\n",
       "      <td>0.000000</td>\n",
       "      <td>0.00</td>\n",
       "      <td>0.000000</td>\n",
       "      <td>0.000000</td>\n",
       "      <td>1.000000</td>\n",
       "      <td>Other</td>\n",
       "    </tr>\n",
       "    <tr>\n",
       "      <th>3</th>\n",
       "      <td>751790</td>\n",
       "      <td>618728447</td>\n",
       "      <td>908.0</td>\n",
       "      <td>908.0</td>\n",
       "      <td>38549</td>\n",
       "      <td>0.0</td>\n",
       "      <td>0.000000</td>\n",
       "      <td>1.00</td>\n",
       "      <td>0.000000</td>\n",
       "      <td>0.000000</td>\n",
       "      <td>0.000000</td>\n",
       "      <td>GPD</td>\n",
       "    </tr>\n",
       "    <tr>\n",
       "      <th>4</th>\n",
       "      <td>778705</td>\n",
       "      <td>52296320</td>\n",
       "      <td>0.0</td>\n",
       "      <td>0.0</td>\n",
       "      <td>40955</td>\n",
       "      <td>0.0</td>\n",
       "      <td>0.000000</td>\n",
       "      <td>0.00</td>\n",
       "      <td>0.000000</td>\n",
       "      <td>0.000000</td>\n",
       "      <td>1.000000</td>\n",
       "      <td>Other</td>\n",
       "    </tr>\n",
       "  </tbody>\n",
       "</table>\n",
       "</div>"
      ],
      "text/plain": [
       "   eeg_id     spec_id     min     max  patient_id  seizure_vote  lpd_vote  \\\n",
       "0  568657   789577333     0.0    16.0       20654           0.0  0.000000   \n",
       "1  582999  1552638400     0.0    38.0       20230           0.0  0.857143   \n",
       "2  642382    14960202  1008.0  1032.0        5955           0.0  0.000000   \n",
       "3  751790   618728447   908.0   908.0       38549           0.0  0.000000   \n",
       "4  778705    52296320     0.0     0.0       40955           0.0  0.000000   \n",
       "\n",
       "   gpd_vote  lrda_vote  grda_vote  other_vote target  \n",
       "0      0.25   0.000000   0.166667    0.583333  Other  \n",
       "1      0.00   0.071429   0.000000    0.071429    LPD  \n",
       "2      0.00   0.000000   0.000000    1.000000  Other  \n",
       "3      1.00   0.000000   0.000000    0.000000    GPD  \n",
       "4      0.00   0.000000   0.000000    1.000000  Other  "
      ]
     },
     "execution_count": 3,
     "metadata": {},
     "output_type": "execute_result"
    }
   ],
   "source": [
    "train = df.groupby('eeg_id')[['spectrogram_id','spectrogram_label_offset_seconds']].agg(\n",
    "    {'spectrogram_id':'first','spectrogram_label_offset_seconds':'min'})\n",
    "train.columns = ['spec_id','min']\n",
    "\n",
    "tmp = df.groupby('eeg_id')[['spectrogram_id','spectrogram_label_offset_seconds']].agg(\n",
    "    {'spectrogram_label_offset_seconds':'max'})\n",
    "train['max'] = tmp\n",
    "\n",
    "tmp = df.groupby('eeg_id')[['patient_id']].agg('first')\n",
    "train['patient_id'] = tmp\n",
    "\n",
    "tmp = df.groupby('eeg_id')[TARGETS].agg('sum')\n",
    "for t in TARGETS:\n",
    "    train[t] = tmp[t].values\n",
    "    \n",
    "y_data = train[TARGETS].values\n",
    "y_data = y_data / y_data.sum(axis=1,keepdims=True)\n",
    "train[TARGETS] = y_data\n",
    "\n",
    "tmp = df.groupby('eeg_id')[['expert_consensus']].agg('first')\n",
    "train['target'] = tmp\n",
    "\n",
    "train = train.reset_index()\n",
    "print('Train non-overlapp eeg_id shape:', train.shape )\n",
    "train.head()"
   ]
  },
  {
   "cell_type": "markdown",
   "metadata": {},
   "source": [
    "# Feature Engineer\n",
    "In this section, we create features for our CatBoost model. \n",
    "\n",
    "First we need to read in all 11k train spectrogram files. Reading thousands of files takes 11 minutes with Pandas. Instead, we can read 1 file from my [Kaggle dataset here][1] which contains all the 11k spectrograms in less than 1 minute! To use my [Kaggle dataset][1], set variable `READ_SPEC_FILES = False`. Thanks for upvoting my Kaggle dataset!\n",
    "\n",
    "Next we need to engineer features for our CatBoost model. In version 1 notebook, we just take the mean (over time) of each of the 400 spectrogram frequencies (using middle 10 minutes). This produces 400 features (per each unique eeg id). We can improve CV and LB score by engineering new features (and/or tuning CatBoost).\n",
    "\n",
    "UPDATE: Version 2 creates features from `means` and `mins`. And version 2 uses `10 minute windows` and `20 second windows`.\n",
    "\n",
    "UPDATE: Version 3 uses **both** Kaggle spectrograms and **EEG spectrograms**. We load EEG spectrograms from my Kaggle dataset [here][2]. These EEG spectrograms were created from EEG raw waveforms in my spectrogram starter [here][3]. Thank you everyone for upvoting my new Kaggle dataset!\n",
    "\n",
    "[1]: https://www.kaggle.com/datasets/cdeotte/brain-spectrograms\n",
    "[2]: https://www.kaggle.com/datasets/cdeotte/brain-eeg-spectrograms\n",
    "[3]: https://www.kaggle.com/code/cdeotte/efficientnetb2-starter-lb-0-57"
   ]
  },
  {
   "cell_type": "code",
   "execution_count": 4,
   "metadata": {
    "ExecuteTime": {
     "end_time": "2024-02-24T19:55:33.396378800Z",
     "start_time": "2024-02-24T19:55:33.155325100Z"
    },
    "execution": {
     "iopub.execute_input": "2024-01-21T18:36:50.987452Z",
     "iopub.status.busy": "2024-01-21T18:36:50.987145Z",
     "iopub.status.idle": "2024-01-21T18:36:50.99183Z",
     "shell.execute_reply": "2024-01-21T18:36:50.990907Z",
     "shell.execute_reply.started": "2024-01-21T18:36:50.987426Z"
    }
   },
   "outputs": [],
   "source": [
    "READ_SPEC_FILES = True\n",
    "READ_EEG_SPEC_FILES = True"
   ]
  },
  {
   "cell_type": "code",
   "execution_count": 5,
   "metadata": {
    "ExecuteTime": {
     "end_time": "2024-02-24T19:55:35.606490500Z",
     "start_time": "2024-02-24T19:55:33.246836400Z"
    },
    "execution": {
     "iopub.execute_input": "2024-01-21T18:36:50.994076Z",
     "iopub.status.busy": "2024-01-21T18:36:50.993736Z",
     "iopub.status.idle": "2024-01-21T18:37:56.097063Z",
     "shell.execute_reply": "2024-01-21T18:37:56.096117Z",
     "shell.execute_reply.started": "2024-01-21T18:36:50.994045Z"
    }
   },
   "outputs": [
    {
     "name": "stdout",
     "output_type": "stream",
     "text": [
      "There are 11138 spectrogram parquets\n",
      "CPU times: user 62.6 ms, sys: 2.48 s, total: 2.54 s\n",
      "Wall time: 2.6 s\n"
     ]
    }
   ],
   "source": [
    "%%time\n",
    "# READ ALL SPECTROGRAMS\n",
    "PATH = '/kaggle/input/hms-harmful-brain-activity-classification/train_spectrograms/'\n",
    "files = os.listdir(PATH)\n",
    "print(f'There are {len(files)} spectrogram parquets')\n",
    "\n",
    "if READ_SPEC_FILES:    \n",
    "    spectrograms = {}\n",
    "    for i,f in enumerate(files):\n",
    "        if i%100==0: print(i,', ',end='')\n",
    "        tmp = pd.read_parquet(f'{PATH}{f}')\n",
    "        name = int(f.split('.')[0])\n",
    "        spectrograms[name] = tmp.iloc[:,1:].values\n",
    "else:\n",
    "    spectrograms = np.load('/kaggle/input/brain-spectrograms/specs.npy',allow_pickle=True).item()"
   ]
  },
  {
   "cell_type": "code",
   "execution_count": 6,
   "metadata": {
    "ExecuteTime": {
     "end_time": "2024-02-24T19:55:38.720523600Z",
     "start_time": "2024-02-24T19:55:35.606490500Z"
    },
    "execution": {
     "iopub.execute_input": "2024-01-21T18:37:56.099232Z",
     "iopub.status.busy": "2024-01-21T18:37:56.098442Z",
     "iopub.status.idle": "2024-01-21T18:39:16.373118Z",
     "shell.execute_reply": "2024-01-21T18:39:16.372137Z",
     "shell.execute_reply.started": "2024-01-21T18:37:56.099196Z"
    }
   },
   "outputs": [
    {
     "name": "stdout",
     "output_type": "stream",
     "text": [
      "CPU times: user 47.3 ms, sys: 2.5 s, total: 2.55 s\n",
      "Wall time: 2.56 s\n"
     ]
    }
   ],
   "source": [
    "%%time\n",
    "# READ ALL EEG SPECTROGRAMS\n",
    "if READ_EEG_SPEC_FILES:\n",
    "    all_eegs = {}\n",
    "    for i,e in enumerate(train.eeg_id.values):\n",
    "        if i%100==0: print(i,', ',end='')\n",
    "        x = np.load(f'/kaggle/input/brain-eeg-spectrograms/EEG_Spectrograms/{e}.npy')\n",
    "        all_eegs[e] = x\n",
    "else:\n",
    "    all_eegs = np.load('/kaggle/input/brain-eeg-spectrograms/eeg_specs.npy',allow_pickle=True).item()"
   ]
  },
  {
   "cell_type": "code",
   "execution_count": 7,
   "metadata": {
    "ExecuteTime": {
     "end_time": "2024-02-24T19:55:47.643457Z",
     "start_time": "2024-02-24T19:55:38.698607400Z"
    },
    "execution": {
     "iopub.execute_input": "2024-01-21T18:39:16.375762Z",
     "iopub.status.busy": "2024-01-21T18:39:16.374741Z",
     "iopub.status.idle": "2024-01-21T18:39:22.565314Z",
     "shell.execute_reply": "2024-01-21T18:39:22.564306Z",
     "shell.execute_reply.started": "2024-01-21T18:39:16.375722Z"
    }
   },
   "outputs": [
    {
     "name": "stdout",
     "output_type": "stream",
     "text": [
      "CPU times: user 0 ns, sys: 1e+03 ns, total: 1e+03 ns\n",
      "Wall time: 2.15 µs\n",
      "We are creating 3648 features for 17089 rows... 0 , 100 , 200 , 300 , 400 , 500 , 600 , 700 , 800 , 900 , 1000 , 1100 , 1200 , 1300 , 1400 , 1500 , 1600 , 1700 , 1800 , 1900 , 2000 , 2100 , 2200 , 2300 , 2400 , 2500 , 2600 , 2700 , 2800 , 2900 , 3000 , 3100 , 3200 , 3300 , 3400 , 3500 , 3600 , 3700 , 3800 , 3900 , 4000 , 4100 , 4200 , 4300 , 4400 , 4500 , 4600 , 4700 , 4800 , 4900 , 5000 , 5100 , 5200 , 5300 , 5400 , 5500 , 5600 , 5700 , 5800 , 5900 , 6000 , 6100 , 6200 , 6300 , 6400 , 6500 , 6600 , 6700 , 6800 , 6900 , 7000 , 7100 , 7200 , 7300 , 7400 , 7500 , 7600 , 7700 , 7800 , 7900 , 8000 , 8100 , 8200 , 8300 , 8400 , 8500 , 8600 , 8700 , 8800 , 8900 , 9000 , 9100 , 9200 , 9300 , 9400 , 9500 , 9600 , 9700 , 9800 , 9900 , 10000 , 10100 , 10200 , 10300 , 10400 , 10500 , 10600 , 10700 , 10800 , 10900 , 11000 , 11100 , 11200 , 11300 , 11400 , 11500 , 11600 , 11700 , 11800 , 11900 , 12000 , 12100 , 12200 , 12300 , 12400 , 12500 , 12600 , 12700 , 12800 , 12900 , 13000 , 13100 , 13200 , 13300 , 13400 , 13500 , 13600 , 13700 , 13800 , 13900 , 14000 , 14100 , 14200 , 14300 , 14400 , 14500 , 14600 , 14700 , 14800 , 14900 , 15000 , 15100 , 15200 , 15300 , 15400 , 15500 , 15600 , 15700 , 15800 , 15900 , 16000 , 16100 , 16200 , 16300 , 16400 , 16500 , 16600 , 16700 , 16800 , 16900 , 17000 , \n",
      "New train shape: (17089, 3660)\n"
     ]
    }
   ],
   "source": [
    "%time\n",
    "# ENGINEER FEATURES\n",
    "import warnings\n",
    "warnings.filterwarnings('ignore')\n",
    "\n",
    "# FEATURE NAMES\n",
    "SPEC_COLS = pd.read_parquet(f'{PATH}1000086677.parquet').columns[1:]\n",
    "FEATURES = [f'{c}_mean_10m' for c in SPEC_COLS]\n",
    "FEATURES += [f'{c}_min_10m' for c in SPEC_COLS]\n",
    "FEATURES += [f'{c}_mean_20s' for c in SPEC_COLS]\n",
    "FEATURES += [f'{c}_min_20s' for c in SPEC_COLS]\n",
    "FEATURES += [f'eeg_mean_f{x}_10s' for x in range(512)]\n",
    "FEATURES += [f'eeg_min_f{x}_10s' for x in range(512)]\n",
    "FEATURES += [f'eeg_max_f{x}_10s' for x in range(512)]\n",
    "FEATURES += [f'eeg_std_f{x}_10s' for x in range(512)]\n",
    "print(f'We are creating {len(FEATURES)} features for {len(train)} rows... ',end='')\n",
    "\n",
    "data = np.zeros((len(train),len(FEATURES)))\n",
    "for k in range(len(train)):\n",
    "    if k%100==0: print(k,', ',end='')\n",
    "    row = train.iloc[k]\n",
    "    r = int( (row['min'] + row['max'])//4 ) \n",
    "\n",
    "    # 10 MINUTE WINDOW FEATURES (MEANS and MINS)\n",
    "    x = np.nanmean(spectrograms[row.spec_id][r:r+300,:],axis=0)\n",
    "    data[k,:400] = x\n",
    "    x = np.nanmin(spectrograms[row.spec_id][r:r+300,:],axis=0)\n",
    "    data[k,400:800] = x\n",
    "\n",
    "    # 20 SECOND WINDOW FEATURES (MEANS and MINS)\n",
    "    x = np.nanmean(spectrograms[row.spec_id][r+145:r+155,:],axis=0)\n",
    "    data[k,800:1200] = x\n",
    "    x = np.nanmin(spectrograms[row.spec_id][r+145:r+155,:],axis=0)\n",
    "    data[k,1200:1600] = x\n",
    "\n",
    "    # RESHAPE EEG SPECTROGRAMS 128x256x4 => 512x256\n",
    "    eeg_spec = np.zeros((512,256),dtype='float32')\n",
    "    xx = all_eegs[row.eeg_id]\n",
    "    for j in range(4): eeg_spec[128*j:128*(j+1),] = xx[:,:,j]\n",
    "\n",
    "    # 10 SECOND WINDOW FROM EEG SPECTROGRAMS \n",
    "    x = np.nanmean(eeg_spec.T[100:-100,:],axis=0)\n",
    "    data[k,1600:2112] = x\n",
    "    x = np.nanmin(eeg_spec.T[100:-100,:],axis=0)\n",
    "    data[k,2112:2624] = x\n",
    "    x = np.nanmax(eeg_spec.T[100:-100,:],axis=0)\n",
    "    data[k,2624:3136] = x\n",
    "    x = np.nanstd(eeg_spec.T[100:-100,:],axis=0)\n",
    "    data[k,3136:3648] = x\n",
    "\n",
    "train[FEATURES] = data\n",
    "print(); print('New train shape:',train.shape)"
   ]
  },
  {
   "cell_type": "code",
   "execution_count": 8,
   "metadata": {
    "ExecuteTime": {
     "end_time": "2024-02-24T19:55:47.644931900Z",
     "start_time": "2024-02-24T19:55:47.638770600Z"
    },
    "execution": {
     "iopub.execute_input": "2024-01-21T18:39:22.56665Z",
     "iopub.status.busy": "2024-01-21T18:39:22.566369Z",
     "iopub.status.idle": "2024-01-21T18:39:22.648716Z",
     "shell.execute_reply": "2024-01-21T18:39:22.647754Z",
     "shell.execute_reply.started": "2024-01-21T18:39:22.566626Z"
    }
   },
   "outputs": [
    {
     "data": {
      "text/plain": [
       "0"
      ]
     },
     "execution_count": 8,
     "metadata": {},
     "output_type": "execute_result"
    }
   ],
   "source": [
    "# FREE MEMORY\n",
    "del all_eegs, spectrograms, data\n",
    "gc.collect()"
   ]
  },
  {
   "cell_type": "markdown",
   "metadata": {},
   "source": [
    "# Train CatBoost\n",
    "We use the default settings for CatBoost which are pretty good. We can tune CatBoost manually to improve CV and LB score. Note that CatBoost will automatically use both Kaggle T4 GPUs (when we add parameter `task_type='GPU'`)  for super fast training!"
   ]
  },
  {
   "cell_type": "code",
   "execution_count": 9,
   "metadata": {
    "ExecuteTime": {
     "end_time": "2024-02-24T19:55:47.766203400Z",
     "start_time": "2024-02-24T19:55:47.639964800Z"
    },
    "execution": {
     "iopub.execute_input": "2024-01-21T18:39:22.650097Z",
     "iopub.status.busy": "2024-01-21T18:39:22.649814Z",
     "iopub.status.idle": "2024-01-21T18:39:23.881839Z",
     "shell.execute_reply": "2024-01-21T18:39:23.880884Z",
     "shell.execute_reply.started": "2024-01-21T18:39:22.650074Z"
    }
   },
   "outputs": [
    {
     "name": "stdout",
     "output_type": "stream",
     "text": [
      "CatBoost version 1.2.2\n"
     ]
    }
   ],
   "source": [
    "import catboost as cat\n",
    "from catboost import CatBoostClassifier, Pool\n",
    "print('CatBoost version',cat.__version__)"
   ]
  },
  {
   "cell_type": "code",
   "execution_count": 10,
   "metadata": {
    "ExecuteTime": {
     "end_time": "2024-02-24T19:57:25.667229200Z",
     "start_time": "2024-02-24T19:55:47.764845900Z"
    },
    "execution": {
     "iopub.execute_input": "2024-01-21T18:39:23.886348Z",
     "iopub.status.busy": "2024-01-21T18:39:23.886051Z",
     "iopub.status.idle": "2024-01-21T18:45:53.56231Z",
     "shell.execute_reply": "2024-01-21T18:45:53.561262Z",
     "shell.execute_reply.started": "2024-01-21T18:39:23.886322Z"
    }
   },
   "outputs": [
    {
     "name": "stdout",
     "output_type": "stream",
     "text": [
      "#########################\n",
      "### Fold 1\n",
      "### train size 13671, valid size 3418\n",
      "#########################\n",
      "Learning rate set to 0.136945\n",
      "0:\tlearn: 1.6370309\ttest: 1.6824582\tbest: 1.6824582 (0)\ttotal: 127ms\tremaining: 2m 7s\n",
      "100:\tlearn: 0.7195752\ttest: 1.0740729\tbest: 1.0740729 (100)\ttotal: 11s\tremaining: 1m 38s\n",
      "200:\tlearn: 0.5594733\ttest: 1.0304297\tbest: 1.0304297 (200)\ttotal: 21.8s\tremaining: 1m 26s\n",
      "300:\tlearn: 0.4622335\ttest: 1.0281444\tbest: 1.0256603 (246)\ttotal: 32.4s\tremaining: 1m 15s\n"
     ]
    },
    {
     "ename": "KeyboardInterrupt",
     "evalue": "",
     "output_type": "error",
     "traceback": [
      "\u001B[0;31m---------------------------------------------------------------------------\u001B[0m",
      "\u001B[0;31mKeyboardInterrupt\u001B[0m                         Traceback (most recent call last)",
      "Cell \u001B[0;32mIn[10], line 28\u001B[0m\n\u001B[1;32m     18\u001B[0m train_pool \u001B[38;5;241m=\u001B[39m Pool(\n\u001B[1;32m     19\u001B[0m     data \u001B[38;5;241m=\u001B[39m train\u001B[38;5;241m.\u001B[39mloc[train_index,FEATURES],\n\u001B[1;32m     20\u001B[0m     label \u001B[38;5;241m=\u001B[39m train\u001B[38;5;241m.\u001B[39mloc[train_index,\u001B[38;5;124m'\u001B[39m\u001B[38;5;124mtarget\u001B[39m\u001B[38;5;124m'\u001B[39m]\u001B[38;5;241m.\u001B[39mmap(TARS),\n\u001B[1;32m     21\u001B[0m )\n\u001B[1;32m     23\u001B[0m valid_pool \u001B[38;5;241m=\u001B[39m Pool(\n\u001B[1;32m     24\u001B[0m     data \u001B[38;5;241m=\u001B[39m train\u001B[38;5;241m.\u001B[39mloc[valid_index,FEATURES],\n\u001B[1;32m     25\u001B[0m     label \u001B[38;5;241m=\u001B[39m train\u001B[38;5;241m.\u001B[39mloc[valid_index,\u001B[38;5;124m'\u001B[39m\u001B[38;5;124mtarget\u001B[39m\u001B[38;5;124m'\u001B[39m]\u001B[38;5;241m.\u001B[39mmap(TARS),\n\u001B[1;32m     26\u001B[0m )\n\u001B[0;32m---> 28\u001B[0m \u001B[43mmodel\u001B[49m\u001B[38;5;241;43m.\u001B[39;49m\u001B[43mfit\u001B[49m\u001B[43m(\u001B[49m\u001B[43mtrain_pool\u001B[49m\u001B[43m,\u001B[49m\n\u001B[1;32m     29\u001B[0m \u001B[43m         \u001B[49m\u001B[43mverbose\u001B[49m\u001B[38;5;241;43m=\u001B[39;49m\u001B[38;5;241;43m100\u001B[39;49m\u001B[43m,\u001B[49m\n\u001B[1;32m     30\u001B[0m \u001B[43m         \u001B[49m\u001B[43meval_set\u001B[49m\u001B[38;5;241;43m=\u001B[39;49m\u001B[43mvalid_pool\u001B[49m\u001B[43m,\u001B[49m\n\u001B[1;32m     31\u001B[0m \u001B[43m         \u001B[49m\u001B[43m)\u001B[49m\n\u001B[1;32m     32\u001B[0m model\u001B[38;5;241m.\u001B[39msave_model(\u001B[38;5;124mf\u001B[39m\u001B[38;5;124m'\u001B[39m\u001B[38;5;124mCAT_v\u001B[39m\u001B[38;5;132;01m{\u001B[39;00mVER\u001B[38;5;132;01m}\u001B[39;00m\u001B[38;5;124m_f\u001B[39m\u001B[38;5;132;01m{\u001B[39;00mi\u001B[38;5;132;01m}\u001B[39;00m\u001B[38;5;124m.cat\u001B[39m\u001B[38;5;124m'\u001B[39m)\n\u001B[1;32m     34\u001B[0m oof \u001B[38;5;241m=\u001B[39m model\u001B[38;5;241m.\u001B[39mpredict_proba(valid_pool)\n",
      "File \u001B[0;32m~/kaggle/venv/lib/python3.10/site-packages/catboost/core.py:5100\u001B[0m, in \u001B[0;36mCatBoostClassifier.fit\u001B[0;34m(self, X, y, cat_features, text_features, embedding_features, sample_weight, baseline, use_best_model, eval_set, verbose, logging_level, plot, plot_file, column_description, verbose_eval, metric_period, silent, early_stopping_rounds, save_snapshot, snapshot_file, snapshot_interval, init_model, callbacks, log_cout, log_cerr)\u001B[0m\n\u001B[1;32m   5097\u001B[0m \u001B[38;5;28;01mif\u001B[39;00m \u001B[38;5;124m'\u001B[39m\u001B[38;5;124mloss_function\u001B[39m\u001B[38;5;124m'\u001B[39m \u001B[38;5;129;01min\u001B[39;00m params:\n\u001B[1;32m   5098\u001B[0m     CatBoostClassifier\u001B[38;5;241m.\u001B[39m_check_is_compatible_loss(params[\u001B[38;5;124m'\u001B[39m\u001B[38;5;124mloss_function\u001B[39m\u001B[38;5;124m'\u001B[39m])\n\u001B[0;32m-> 5100\u001B[0m \u001B[38;5;28;43mself\u001B[39;49m\u001B[38;5;241;43m.\u001B[39;49m\u001B[43m_fit\u001B[49m\u001B[43m(\u001B[49m\u001B[43mX\u001B[49m\u001B[43m,\u001B[49m\u001B[43m \u001B[49m\u001B[43my\u001B[49m\u001B[43m,\u001B[49m\u001B[43m \u001B[49m\u001B[43mcat_features\u001B[49m\u001B[43m,\u001B[49m\u001B[43m \u001B[49m\u001B[43mtext_features\u001B[49m\u001B[43m,\u001B[49m\u001B[43m \u001B[49m\u001B[43membedding_features\u001B[49m\u001B[43m,\u001B[49m\u001B[43m \u001B[49m\u001B[38;5;28;43;01mNone\u001B[39;49;00m\u001B[43m,\u001B[49m\u001B[43m \u001B[49m\u001B[43msample_weight\u001B[49m\u001B[43m,\u001B[49m\u001B[43m \u001B[49m\u001B[38;5;28;43;01mNone\u001B[39;49;00m\u001B[43m,\u001B[49m\u001B[43m \u001B[49m\u001B[38;5;28;43;01mNone\u001B[39;49;00m\u001B[43m,\u001B[49m\u001B[43m \u001B[49m\u001B[38;5;28;43;01mNone\u001B[39;49;00m\u001B[43m,\u001B[49m\u001B[43m \u001B[49m\u001B[38;5;28;43;01mNone\u001B[39;49;00m\u001B[43m,\u001B[49m\u001B[43m \u001B[49m\u001B[43mbaseline\u001B[49m\u001B[43m,\u001B[49m\u001B[43m \u001B[49m\u001B[43muse_best_model\u001B[49m\u001B[43m,\u001B[49m\n\u001B[1;32m   5101\u001B[0m \u001B[43m          \u001B[49m\u001B[43meval_set\u001B[49m\u001B[43m,\u001B[49m\u001B[43m \u001B[49m\u001B[43mverbose\u001B[49m\u001B[43m,\u001B[49m\u001B[43m \u001B[49m\u001B[43mlogging_level\u001B[49m\u001B[43m,\u001B[49m\u001B[43m \u001B[49m\u001B[43mplot\u001B[49m\u001B[43m,\u001B[49m\u001B[43m \u001B[49m\u001B[43mplot_file\u001B[49m\u001B[43m,\u001B[49m\u001B[43m \u001B[49m\u001B[43mcolumn_description\u001B[49m\u001B[43m,\u001B[49m\u001B[43m \u001B[49m\u001B[43mverbose_eval\u001B[49m\u001B[43m,\u001B[49m\u001B[43m \u001B[49m\u001B[43mmetric_period\u001B[49m\u001B[43m,\u001B[49m\n\u001B[1;32m   5102\u001B[0m \u001B[43m          \u001B[49m\u001B[43msilent\u001B[49m\u001B[43m,\u001B[49m\u001B[43m \u001B[49m\u001B[43mearly_stopping_rounds\u001B[49m\u001B[43m,\u001B[49m\u001B[43m \u001B[49m\u001B[43msave_snapshot\u001B[49m\u001B[43m,\u001B[49m\u001B[43m \u001B[49m\u001B[43msnapshot_file\u001B[49m\u001B[43m,\u001B[49m\u001B[43m \u001B[49m\u001B[43msnapshot_interval\u001B[49m\u001B[43m,\u001B[49m\u001B[43m \u001B[49m\u001B[43minit_model\u001B[49m\u001B[43m,\u001B[49m\u001B[43m \u001B[49m\u001B[43mcallbacks\u001B[49m\u001B[43m,\u001B[49m\u001B[43m \u001B[49m\u001B[43mlog_cout\u001B[49m\u001B[43m,\u001B[49m\u001B[43m \u001B[49m\u001B[43mlog_cerr\u001B[49m\u001B[43m)\u001B[49m\n\u001B[1;32m   5103\u001B[0m \u001B[38;5;28;01mreturn\u001B[39;00m \u001B[38;5;28mself\u001B[39m\n",
      "File \u001B[0;32m~/kaggle/venv/lib/python3.10/site-packages/catboost/core.py:2319\u001B[0m, in \u001B[0;36mCatBoost._fit\u001B[0;34m(self, X, y, cat_features, text_features, embedding_features, pairs, sample_weight, group_id, group_weight, subgroup_id, pairs_weight, baseline, use_best_model, eval_set, verbose, logging_level, plot, plot_file, column_description, verbose_eval, metric_period, silent, early_stopping_rounds, save_snapshot, snapshot_file, snapshot_interval, init_model, callbacks, log_cout, log_cerr)\u001B[0m\n\u001B[1;32m   2315\u001B[0m allow_clear_pool \u001B[38;5;241m=\u001B[39m train_params[\u001B[38;5;124m\"\u001B[39m\u001B[38;5;124mallow_clear_pool\u001B[39m\u001B[38;5;124m\"\u001B[39m]\n\u001B[1;32m   2317\u001B[0m \u001B[38;5;28;01mwith\u001B[39;00m log_fixup(log_cout, log_cerr), \\\n\u001B[1;32m   2318\u001B[0m     plot_wrapper(plot, plot_file, \u001B[38;5;124m'\u001B[39m\u001B[38;5;124mTraining plots\u001B[39m\u001B[38;5;124m'\u001B[39m, [_get_train_dir(\u001B[38;5;28mself\u001B[39m\u001B[38;5;241m.\u001B[39mget_params())]):\n\u001B[0;32m-> 2319\u001B[0m     \u001B[38;5;28;43mself\u001B[39;49m\u001B[38;5;241;43m.\u001B[39;49m\u001B[43m_train\u001B[49m\u001B[43m(\u001B[49m\n\u001B[1;32m   2320\u001B[0m \u001B[43m        \u001B[49m\u001B[43mtrain_pool\u001B[49m\u001B[43m,\u001B[49m\n\u001B[1;32m   2321\u001B[0m \u001B[43m        \u001B[49m\u001B[43mtrain_params\u001B[49m\u001B[43m[\u001B[49m\u001B[38;5;124;43m\"\u001B[39;49m\u001B[38;5;124;43meval_sets\u001B[39;49m\u001B[38;5;124;43m\"\u001B[39;49m\u001B[43m]\u001B[49m\u001B[43m,\u001B[49m\n\u001B[1;32m   2322\u001B[0m \u001B[43m        \u001B[49m\u001B[43mparams\u001B[49m\u001B[43m,\u001B[49m\n\u001B[1;32m   2323\u001B[0m \u001B[43m        \u001B[49m\u001B[43mallow_clear_pool\u001B[49m\u001B[43m,\u001B[49m\n\u001B[1;32m   2324\u001B[0m \u001B[43m        \u001B[49m\u001B[43mtrain_params\u001B[49m\u001B[43m[\u001B[49m\u001B[38;5;124;43m\"\u001B[39;49m\u001B[38;5;124;43minit_model\u001B[39;49m\u001B[38;5;124;43m\"\u001B[39;49m\u001B[43m]\u001B[49m\n\u001B[1;32m   2325\u001B[0m \u001B[43m    \u001B[49m\u001B[43m)\u001B[49m\n\u001B[1;32m   2327\u001B[0m \u001B[38;5;66;03m# Have property feature_importance possibly set\u001B[39;00m\n\u001B[1;32m   2328\u001B[0m loss \u001B[38;5;241m=\u001B[39m \u001B[38;5;28mself\u001B[39m\u001B[38;5;241m.\u001B[39m_object\u001B[38;5;241m.\u001B[39m_get_loss_function_name()\n",
      "File \u001B[0;32m~/kaggle/venv/lib/python3.10/site-packages/catboost/core.py:1723\u001B[0m, in \u001B[0;36m_CatBoostBase._train\u001B[0;34m(self, train_pool, test_pool, params, allow_clear_pool, init_model)\u001B[0m\n\u001B[1;32m   1722\u001B[0m \u001B[38;5;28;01mdef\u001B[39;00m \u001B[38;5;21m_train\u001B[39m(\u001B[38;5;28mself\u001B[39m, train_pool, test_pool, params, allow_clear_pool, init_model):\n\u001B[0;32m-> 1723\u001B[0m     \u001B[38;5;28;43mself\u001B[39;49m\u001B[38;5;241;43m.\u001B[39;49m\u001B[43m_object\u001B[49m\u001B[38;5;241;43m.\u001B[39;49m\u001B[43m_train\u001B[49m\u001B[43m(\u001B[49m\u001B[43mtrain_pool\u001B[49m\u001B[43m,\u001B[49m\u001B[43m \u001B[49m\u001B[43mtest_pool\u001B[49m\u001B[43m,\u001B[49m\u001B[43m \u001B[49m\u001B[43mparams\u001B[49m\u001B[43m,\u001B[49m\u001B[43m \u001B[49m\u001B[43mallow_clear_pool\u001B[49m\u001B[43m,\u001B[49m\u001B[43m \u001B[49m\u001B[43minit_model\u001B[49m\u001B[38;5;241;43m.\u001B[39;49m\u001B[43m_object\u001B[49m\u001B[43m \u001B[49m\u001B[38;5;28;43;01mif\u001B[39;49;00m\u001B[43m \u001B[49m\u001B[43minit_model\u001B[49m\u001B[43m \u001B[49m\u001B[38;5;28;43;01melse\u001B[39;49;00m\u001B[43m \u001B[49m\u001B[38;5;28;43;01mNone\u001B[39;49;00m\u001B[43m)\u001B[49m\n\u001B[1;32m   1724\u001B[0m     \u001B[38;5;28mself\u001B[39m\u001B[38;5;241m.\u001B[39m_set_trained_model_attributes()\n",
      "File \u001B[0;32m_catboost.pyx:4645\u001B[0m, in \u001B[0;36m_catboost._CatBoost._train\u001B[0;34m()\u001B[0m\n",
      "File \u001B[0;32m_catboost.pyx:4694\u001B[0m, in \u001B[0;36m_catboost._CatBoost._train\u001B[0;34m()\u001B[0m\n",
      "\u001B[0;31mKeyboardInterrupt\u001B[0m: "
     ]
    }
   ],
   "source": [
    "from sklearn.model_selection import KFold, GroupKFold\n",
    "\n",
    "all_oof = []\n",
    "all_true = []\n",
    "TARS = {'Seizure':0, 'LPD':1, 'GPD':2, 'LRDA':3, 'GRDA':4, 'Other':5}\n",
    "\n",
    "gkf = GroupKFold(n_splits=5)\n",
    "for i, (train_index, valid_index) in enumerate(gkf.split(train, train.target, train.patient_id)):   \n",
    "    \n",
    "    print('#'*25)\n",
    "    print(f'### Fold {i+1}')\n",
    "    print(f'### train size {len(train_index)}, valid size {len(valid_index)}')\n",
    "    print('#'*25)\n",
    "    \n",
    "    model = CatBoostClassifier(task_type='GPU',\n",
    "                               loss_function='MultiClass',random_seed=seed_value)\n",
    "    \n",
    "    train_pool = Pool(\n",
    "        data = train.loc[train_index,FEATURES],\n",
    "        label = train.loc[train_index,'target'].map(TARS),\n",
    "    )\n",
    "    \n",
    "    valid_pool = Pool(\n",
    "        data = train.loc[valid_index,FEATURES],\n",
    "        label = train.loc[valid_index,'target'].map(TARS),\n",
    "    )\n",
    "    \n",
    "    model.fit(train_pool,\n",
    "             verbose=100,\n",
    "             eval_set=valid_pool,\n",
    "             )\n",
    "    model.save_model(f'CAT_v{VER}_f{i}.cat')\n",
    "    \n",
    "    oof = model.predict_proba(valid_pool)\n",
    "    all_oof.append(oof)\n",
    "    all_true.append(train.loc[valid_index, TARGETS].values)\n",
    "    \n",
    "    del train_pool, valid_pool, oof #model\n",
    "    gc.collect()\n",
    "    \n",
    "    #break\n",
    "    \n",
    "all_oof = np.concatenate(all_oof)\n",
    "all_true = np.concatenate(all_true)"
   ]
  },
  {
   "cell_type": "markdown",
   "metadata": {},
   "source": [
    "# Feature Importance\n",
    "Below we display the CatBoost top 25 feature importance for the last fold we trained."
   ]
  },
  {
   "cell_type": "code",
   "execution_count": null,
   "metadata": {
    "ExecuteTime": {
     "start_time": "2024-02-24T19:57:25.666219200Z"
    },
    "execution": {
     "iopub.execute_input": "2024-01-21T18:45:53.564191Z",
     "iopub.status.busy": "2024-01-21T18:45:53.56356Z",
     "iopub.status.idle": "2024-01-21T18:45:54.196157Z",
     "shell.execute_reply": "2024-01-21T18:45:54.195278Z",
     "shell.execute_reply.started": "2024-01-21T18:45:53.564161Z"
    }
   },
   "outputs": [],
   "source": [
    "TOP = 25\n",
    "\n",
    "feature_importance = model.feature_importances_\n",
    "sorted_idx = np.argsort(feature_importance)\n",
    "fig = plt.figure(figsize=(10, 8))\n",
    "plt.barh(np.arange(len(sorted_idx))[-TOP:], feature_importance[sorted_idx][-TOP:], align='center')\n",
    "plt.yticks(np.arange(len(sorted_idx))[-TOP:], np.array(FEATURES)[sorted_idx][-TOP:])\n",
    "plt.title(f'Feature Importance - Top {TOP}')\n",
    "plt.show()"
   ]
  },
  {
   "cell_type": "markdown",
   "metadata": {},
   "source": [
    "# CV Score for CatBoost\n",
    "This is CV score for our CatBoost model."
   ]
  },
  {
   "cell_type": "code",
   "execution_count": null,
   "metadata": {
    "ExecuteTime": {
     "start_time": "2024-02-24T19:57:25.667229200Z"
    },
    "execution": {
     "iopub.execute_input": "2024-01-21T18:45:54.197462Z",
     "iopub.status.busy": "2024-01-21T18:45:54.197132Z",
     "iopub.status.idle": "2024-01-21T18:45:54.254727Z",
     "shell.execute_reply": "2024-01-21T18:45:54.253934Z",
     "shell.execute_reply.started": "2024-01-21T18:45:54.197433Z"
    }
   },
   "outputs": [],
   "source": [
    "import sys\n",
    "sys.path.append('/kaggle/input/kaggle-kl-div')\n",
    "from kaggle_kl_div import score\n",
    "\n",
    "oof = pd.DataFrame(all_oof.copy())\n",
    "oof['id'] = np.arange(len(oof))\n",
    "\n",
    "true = pd.DataFrame(all_true.copy())\n",
    "true['id'] = np.arange(len(true))\n",
    "\n",
    "cv = score(solution=true, submission=oof, row_id_column_name='id')\n",
    "print('CV Score KL-Div for CatBoost =',cv)"
   ]
  },
  {
   "cell_type": "markdown",
   "metadata": {},
   "source": [
    "# CV Score for Preds 1/6\n",
    "This is CV score for Kaggle's sample submission.csv which uses equal predictions of 1/6 for all targets."
   ]
  },
  {
   "cell_type": "code",
   "execution_count": null,
   "metadata": {
    "ExecuteTime": {
     "start_time": "2024-02-24T19:57:25.682448500Z"
    },
    "execution": {
     "iopub.execute_input": "2024-01-21T18:45:54.256214Z",
     "iopub.status.busy": "2024-01-21T18:45:54.255743Z",
     "iopub.status.idle": "2024-01-21T18:45:54.293065Z",
     "shell.execute_reply": "2024-01-21T18:45:54.292336Z",
     "shell.execute_reply.started": "2024-01-21T18:45:54.256185Z"
    }
   },
   "outputs": [],
   "source": [
    "oof = pd.DataFrame(all_oof.copy())\n",
    "for c in oof.columns:\n",
    "    oof[c] = 1/6.\n",
    "oof['id'] = np.arange(len(oof))\n",
    "\n",
    "true = pd.DataFrame(all_true.copy())\n",
    "true['id'] = np.arange(len(true))\n",
    "\n",
    "cv = score(solution=true, submission=oof, row_id_column_name='id')\n",
    "print('CV Score for \"Use Equal Preds 1/6\" =',cv)"
   ]
  },
  {
   "cell_type": "markdown",
   "metadata": {},
   "source": [
    "# CV Score for EEG_Id Means\n",
    "This is CV score for current highest scoring public notebook [here][1] which uses train means as predictions.\n",
    "\n",
    "[1]: https://www.kaggle.com/code/seshurajup/eda-train-csv"
   ]
  },
  {
   "cell_type": "code",
   "execution_count": null,
   "metadata": {
    "ExecuteTime": {
     "end_time": "2024-02-24T19:57:25.706921200Z",
     "start_time": "2024-02-24T19:57:25.682448500Z"
    },
    "execution": {
     "iopub.execute_input": "2024-01-21T18:45:54.294735Z",
     "iopub.status.busy": "2024-01-21T18:45:54.293989Z",
     "iopub.status.idle": "2024-01-21T18:45:55.121332Z",
     "shell.execute_reply": "2024-01-21T18:45:55.120557Z",
     "shell.execute_reply.started": "2024-01-21T18:45:54.294707Z"
    }
   },
   "outputs": [],
   "source": [
    "all_oof2 = []\n",
    "\n",
    "gkf = GroupKFold(n_splits=5)\n",
    "for i, (train_index, valid_index) in enumerate(gkf.split(train, train.target, train.patient_id)):  \n",
    "    #print('#'*25)\n",
    "    #print(f'### Fold {i+1}')\n",
    "        \n",
    "    y_train = train.iloc[train_index][TARGETS].values\n",
    "    y_valid = train.iloc[valid_index][TARGETS].values\n",
    "    \n",
    "    #print(f'### train size {len(train_index)}, valid size {len(valid_index)}')\n",
    "    #print('#'*25)\n",
    "        \n",
    "    oof = y_valid.copy()\n",
    "    for j in range(6):\n",
    "        oof[:,j] = y_train[:,j].mean()\n",
    "    oof = oof / oof.sum(axis=1,keepdims=True)\n",
    "    all_oof2.append(oof)\n",
    "    \n",
    "all_oof2 = np.concatenate(all_oof2)"
   ]
  },
  {
   "cell_type": "code",
   "execution_count": null,
   "metadata": {
    "ExecuteTime": {
     "start_time": "2024-02-24T19:57:25.682448500Z"
    },
    "execution": {
     "iopub.execute_input": "2024-01-21T18:45:55.122874Z",
     "iopub.status.busy": "2024-01-21T18:45:55.122536Z",
     "iopub.status.idle": "2024-01-21T18:45:55.155713Z",
     "shell.execute_reply": "2024-01-21T18:45:55.154717Z",
     "shell.execute_reply.started": "2024-01-21T18:45:55.122847Z"
    }
   },
   "outputs": [],
   "source": [
    "oof = pd.DataFrame(all_oof2.copy())\n",
    "oof['id'] = np.arange(len(oof))\n",
    "\n",
    "true = pd.DataFrame(all_true.copy())\n",
    "true['id'] = np.arange(len(true))\n",
    "\n",
    "cv = score(solution=true, submission=oof, row_id_column_name='id')\n",
    "print('CV Score for \"Use Train Means\" =',cv)"
   ]
  },
  {
   "cell_type": "markdown",
   "metadata": {},
   "source": [
    "# Infer Test and Create Submission CSV\n",
    "Below we use our 5 CatBoost fold models to infer the test data and create a `submission.csv` file."
   ]
  },
  {
   "cell_type": "code",
   "execution_count": null,
   "metadata": {
    "ExecuteTime": {
     "start_time": "2024-02-24T19:57:25.683551400Z"
    },
    "execution": {
     "iopub.execute_input": "2024-01-21T18:45:55.15707Z",
     "iopub.status.busy": "2024-01-21T18:45:55.156777Z",
     "iopub.status.idle": "2024-01-21T18:45:55.240099Z",
     "shell.execute_reply": "2024-01-21T18:45:55.239185Z",
     "shell.execute_reply.started": "2024-01-21T18:45:55.157047Z"
    }
   },
   "outputs": [],
   "source": [
    "del train; gc.collect()\n",
    "test = pd.read_csv('/kaggle/input/hms-harmful-brain-activity-classification/test.csv')\n",
    "print('Test shape',test.shape)\n",
    "test.head()"
   ]
  },
  {
   "cell_type": "code",
   "execution_count": null,
   "metadata": {
    "ExecuteTime": {
     "start_time": "2024-02-24T19:57:25.683551400Z"
    },
    "_kg_hide-input": true,
    "execution": {
     "iopub.execute_input": "2024-01-21T18:45:55.241642Z",
     "iopub.status.busy": "2024-01-21T18:45:55.241316Z",
     "iopub.status.idle": "2024-01-21T18:45:55.360661Z",
     "shell.execute_reply": "2024-01-21T18:45:55.35991Z",
     "shell.execute_reply.started": "2024-01-21T18:45:55.241616Z"
    }
   },
   "outputs": [],
   "source": [
    "import pywt, librosa\n",
    "\n",
    "USE_WAVELET = None \n",
    "\n",
    "NAMES = ['LL','LP','RP','RR']\n",
    "\n",
    "FEATS = [['Fp1','F7','T3','T5','O1'],\n",
    "         ['Fp1','F3','C3','P3','O1'],\n",
    "         ['Fp2','F8','T4','T6','O2'],\n",
    "         ['Fp2','F4','C4','P4','O2']]\n",
    "\n",
    "# DENOISE FUNCTION\n",
    "def maddest(d, axis=None):\n",
    "    return np.mean(np.absolute(d - np.mean(d, axis)), axis)\n",
    "\n",
    "def denoise(x, wavelet='haar', level=1):    \n",
    "    coeff = pywt.wavedec(x, wavelet, mode=\"per\")\n",
    "    sigma = (1/0.6745) * maddest(coeff[-level])\n",
    "\n",
    "    uthresh = sigma * np.sqrt(2*np.log(len(x)))\n",
    "    coeff[1:] = (pywt.threshold(i, value=uthresh, mode='hard') for i in coeff[1:])\n",
    "\n",
    "    ret=pywt.waverec(coeff, wavelet, mode='per')\n",
    "    \n",
    "    return ret\n",
    "\n",
    "def spectrogram_from_eeg(parquet_path, display=False):\n",
    "    \n",
    "    # LOAD MIDDLE 50 SECONDS OF EEG SERIES\n",
    "    eeg = pd.read_parquet(parquet_path)\n",
    "    middle = (len(eeg)-10_000)//2\n",
    "    eeg = eeg.iloc[middle:middle+10_000]\n",
    "    \n",
    "    # VARIABLE TO HOLD SPECTROGRAM\n",
    "    img = np.zeros((128,256,4),dtype='float32')\n",
    "    \n",
    "    if display: plt.figure(figsize=(10,7))\n",
    "    signals = []\n",
    "    for k in range(4):\n",
    "        COLS = FEATS[k]\n",
    "        \n",
    "        for kk in range(4):\n",
    "        \n",
    "            # COMPUTE PAIR DIFFERENCES\n",
    "            x = eeg[COLS[kk]].values - eeg[COLS[kk+1]].values\n",
    "\n",
    "            # FILL NANS\n",
    "            m = np.nanmean(x)\n",
    "            if np.isnan(x).mean()<1: x = np.nan_to_num(x,nan=m)\n",
    "            else: x[:] = 0\n",
    "\n",
    "            # DENOISE\n",
    "            if USE_WAVELET:\n",
    "                x = denoise(x, wavelet=USE_WAVELET)\n",
    "            signals.append(x)\n",
    "\n",
    "            # RAW SPECTROGRAM\n",
    "            mel_spec = librosa.feature.melspectrogram(y=x, sr=200, hop_length=len(x)//256, \n",
    "                  n_fft=1024, n_mels=128, fmin=0, fmax=20, win_length=128)\n",
    "\n",
    "            # LOG TRANSFORM\n",
    "            width = (mel_spec.shape[1]//32)*32\n",
    "            mel_spec_db = librosa.power_to_db(mel_spec, ref=np.max).astype(np.float32)[:,:width]\n",
    "\n",
    "            # STANDARDIZE TO -1 TO 1\n",
    "            mel_spec_db = (mel_spec_db+40)/40 \n",
    "            img[:,:,k] += mel_spec_db\n",
    "                \n",
    "        # AVERAGE THE 4 MONTAGE DIFFERENCES\n",
    "        img[:,:,k] /= 4.0\n",
    "        \n",
    "        if display:\n",
    "            plt.subplot(2,2,k+1)\n",
    "            plt.imshow(img[:,:,k],aspect='auto',origin='lower')\n",
    "            plt.title(f'EEG {eeg_id} - Spectrogram {NAMES[k]}')\n",
    "            \n",
    "    if display: \n",
    "        plt.show()\n",
    "        plt.figure(figsize=(10,5))\n",
    "        offset = 0\n",
    "        for k in range(4):\n",
    "            if k>0: offset -= signals[3-k].min()\n",
    "            plt.plot(range(10_000),signals[k]+offset,label=NAMES[3-k])\n",
    "            offset += signals[3-k].max()\n",
    "        plt.legend()\n",
    "        plt.title(f'EEG {eeg_id} Signals')\n",
    "        plt.show()\n",
    "        print(); print('#'*25); print()\n",
    "        \n",
    "    return img"
   ]
  },
  {
   "cell_type": "code",
   "execution_count": null,
   "metadata": {
    "ExecuteTime": {
     "start_time": "2024-02-24T19:57:25.683551400Z"
    },
    "execution": {
     "iopub.execute_input": "2024-01-21T18:45:55.361827Z",
     "iopub.status.busy": "2024-01-21T18:45:55.36159Z",
     "iopub.status.idle": "2024-01-21T18:46:04.307631Z",
     "shell.execute_reply": "2024-01-21T18:46:04.306258Z",
     "shell.execute_reply.started": "2024-01-21T18:45:55.361806Z"
    }
   },
   "outputs": [],
   "source": [
    "# CREATE ALL EEG SPECTROGRAMS\n",
    "PATH2 = '/kaggle/input/hms-harmful-brain-activity-classification/test_eegs/'\n",
    "DISPLAY = 0\n",
    "EEG_IDS2 = test.eeg_id.unique()\n",
    "all_eegs2 = {}\n",
    "\n",
    "print('Converting Test EEG to Spectrograms...'); print()\n",
    "for i,eeg_id in enumerate(EEG_IDS2):\n",
    "        \n",
    "    # CREATE SPECTROGRAM FROM EEG PARQUET\n",
    "    img = spectrogram_from_eeg(f'{PATH2}{eeg_id}.parquet', i<DISPLAY)\n",
    "    all_eegs2[eeg_id] = img"
   ]
  },
  {
   "cell_type": "code",
   "execution_count": null,
   "metadata": {
    "ExecuteTime": {
     "start_time": "2024-02-24T19:57:25.683551400Z"
    },
    "execution": {
     "iopub.execute_input": "2024-01-21T18:46:04.310288Z",
     "iopub.status.busy": "2024-01-21T18:46:04.309474Z",
     "iopub.status.idle": "2024-01-21T18:46:07.577789Z",
     "shell.execute_reply": "2024-01-21T18:46:07.576758Z",
     "shell.execute_reply.started": "2024-01-21T18:46:04.310252Z"
    }
   },
   "outputs": [],
   "source": [
    "# FEATURE ENGINEER TEST\n",
    "PATH2 = '/kaggle/input/hms-harmful-brain-activity-classification/test_spectrograms/'\n",
    "data = np.zeros((len(test),len(FEATURES)))\n",
    "    \n",
    "for k in range(len(test)):\n",
    "    row = test.iloc[k]\n",
    "    s = int( row.spectrogram_id )\n",
    "    spec = pd.read_parquet(f'{PATH2}{s}.parquet')\n",
    "    \n",
    "    # 10 MINUTE WINDOW FEATURES\n",
    "    x = np.nanmean( spec.iloc[:,1:].values, axis=0)\n",
    "    data[k,:400] = x\n",
    "    x = np.nanmin( spec.iloc[:,1:].values, axis=0)\n",
    "    data[k,400:800] = x\n",
    "\n",
    "    # 20 SECOND WINDOW FEATURES\n",
    "    x = np.nanmean( spec.iloc[145:155,1:].values, axis=0)\n",
    "    data[k,800:1200] = x\n",
    "    x = np.nanmin( spec.iloc[145:155,1:].values, axis=0)\n",
    "    data[k,1200:1600] = x\n",
    "    \n",
    "    # RESHAPE EEG SPECTROGRAMS 128x256x4 => 512x256\n",
    "    eeg_spec = np.zeros((512,256),dtype='float32')\n",
    "    xx = all_eegs2[row.eeg_id]\n",
    "    for j in range(4): eeg_spec[128*j:128*(j+1),] = xx[:,:,j]\n",
    "\n",
    "    # 10 SECOND WINDOW FROM EEG SPECTROGRAMS \n",
    "    x = np.nanmean(eeg_spec.T[100:-100,:],axis=0)\n",
    "    data[k,1600:2112] = x\n",
    "    x = np.nanmin(eeg_spec.T[100:-100,:],axis=0)\n",
    "    data[k,2112:2624] = x\n",
    "    x = np.nanmax(eeg_spec.T[100:-100,:],axis=0)\n",
    "    data[k,2624:3136] = x\n",
    "    x = np.nanstd(eeg_spec.T[100:-100,:],axis=0)\n",
    "    data[k,3136:3648] = x\n",
    "\n",
    "test[FEATURES] = data\n",
    "print('New test shape',test.shape)"
   ]
  },
  {
   "cell_type": "code",
   "execution_count": null,
   "metadata": {
    "ExecuteTime": {
     "start_time": "2024-02-24T19:57:25.683551400Z"
    },
    "execution": {
     "iopub.execute_input": "2024-01-21T18:46:07.579215Z",
     "iopub.status.busy": "2024-01-21T18:46:07.578905Z",
     "iopub.status.idle": "2024-01-21T18:46:09.552075Z",
     "shell.execute_reply": "2024-01-21T18:46:09.551139Z",
     "shell.execute_reply.started": "2024-01-21T18:46:07.579189Z"
    }
   },
   "outputs": [],
   "source": [
    "# INFER CATBOOST ON TEST\n",
    "preds = []\n",
    "\n",
    "for i in range(5):\n",
    "    print(i,', ',end='')\n",
    "    model = CatBoostClassifier(task_type='GPU',random_seed=seed_value)\n",
    "    model.load_model(f'CAT_v{VER}_f{i}.cat')\n",
    "    \n",
    "    test_pool = Pool(\n",
    "        data = test[FEATURES]\n",
    "    )\n",
    "    \n",
    "    pred = model.predict_proba(test_pool)\n",
    "    preds.append(pred)\n",
    "pred = np.mean(preds,axis=0)\n",
    "print()\n",
    "print('Test preds shape',pred.shape)"
   ]
  },
  {
   "cell_type": "code",
   "execution_count": null,
   "metadata": {
    "ExecuteTime": {
     "start_time": "2024-02-24T19:57:25.698420700Z"
    },
    "execution": {
     "iopub.execute_input": "2024-01-21T18:46:09.553591Z",
     "iopub.status.busy": "2024-01-21T18:46:09.553317Z",
     "iopub.status.idle": "2024-01-21T18:46:09.573227Z",
     "shell.execute_reply": "2024-01-21T18:46:09.57242Z",
     "shell.execute_reply.started": "2024-01-21T18:46:09.553569Z"
    }
   },
   "outputs": [],
   "source": [
    "sub = pd.DataFrame({'eeg_id':test.eeg_id.values})\n",
    "sub[TARGETS] = pred\n",
    "sub.to_csv('submission.csv',index=False)\n",
    "print('Submissionn shape',sub.shape)\n",
    "sub.head()"
   ]
  },
  {
   "cell_type": "code",
   "execution_count": null,
   "metadata": {
    "ExecuteTime": {
     "start_time": "2024-02-24T19:57:25.698420700Z"
    },
    "execution": {
     "iopub.execute_input": "2024-01-21T18:46:09.574453Z",
     "iopub.status.busy": "2024-01-21T18:46:09.574196Z",
     "iopub.status.idle": "2024-01-21T18:46:09.583849Z",
     "shell.execute_reply": "2024-01-21T18:46:09.582992Z",
     "shell.execute_reply.started": "2024-01-21T18:46:09.57443Z"
    }
   },
   "outputs": [],
   "source": [
    "# SANITY CHECK TO CONFIRM PREDICTIONS SUM TO ONE\n",
    "sub.iloc[:,-6:].sum(axis=1)"
   ]
  }
 ],
 "metadata": {
  "kaggle": {
   "accelerator": "nvidiaTeslaT4",
   "dataSources": [
    {
     "databundleVersionId": 7469972,
     "sourceId": 59093,
     "sourceType": "competition"
    },
    {
     "datasetId": 4297749,
     "sourceId": 7392733,
     "sourceType": "datasetVersion"
    },
    {
     "datasetId": 4297782,
     "sourceId": 7392775,
     "sourceType": "datasetVersion"
    },
    {
     "datasetId": 4334995,
     "sourceId": 7447509,
     "sourceType": "datasetVersion"
    }
   ],
   "dockerImageVersionId": 30636,
   "isGpuEnabled": true,
   "isInternetEnabled": false,
   "language": "python",
   "sourceType": "notebook"
  },
  "kernelspec": {
   "display_name": "Python 3",
   "language": "python",
   "name": "python3"
  },
  "language_info": {
   "codemirror_mode": {
    "name": "ipython",
    "version": 3
   },
   "file_extension": ".py",
   "mimetype": "text/x-python",
   "name": "python",
   "nbconvert_exporter": "python",
   "pygments_lexer": "ipython3",
   "version": "3.10.12"
  }
 },
 "nbformat": 4,
 "nbformat_minor": 4
}
